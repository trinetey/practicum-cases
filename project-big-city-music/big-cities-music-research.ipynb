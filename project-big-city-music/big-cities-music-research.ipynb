{
 "cells": [
  {
   "cell_type": "markdown",
   "metadata": {
    "id": "E0vqbgi9ay0H"
   },
   "source": [
    "# Яндекс Музыка"
   ]
  },
  {
   "cell_type": "markdown",
   "metadata": {
    "id": "VUC88oWjTJw2"
   },
   "source": [
    "Сравнение Москвы и Петербурга окружено мифами. Например:\n",
    " * Москва — мегаполис, подчинённый жёсткому ритму рабочей недели;\n",
    " * Петербург — культурная столица, со своими вкусами.\n",
    "\n",
    "На данных Яндекс Музыки мы будем сравнивать поведение пользователей двух столиц.\n",
    "\n",
    "**Цель исследования** — проверить три гипотезы:\n",
    "1. Активность пользователей зависит от дня недели. Причём в Москве и Петербурге это проявляется по-разному.\n",
    "2. В понедельник утром в Москве преобладают одни жанры, а в Петербурге — другие. Так же и вечером пятницы преобладают разные жанры — в зависимости от города. \n",
    "3. Москва и Петербург предпочитают разные жанры музыки. В Москве чаще слушают поп-музыку, в Петербурге — русский рэп.\n",
    "\n",
    "**Ход исследования**\n",
    "\n",
    "Данные о поведении пользователей будут загружены из файла `yandex_music_project.csv`. О качестве данных ничего не известно, поэтому перед проверкой гипотез понадобится обзор данных, проверка на ошибки и поиск возможностей исправить самые критичные из них, если таковые будут иметься.\n",
    " \n",
    "Таким образом, исследование пройдёт в три этапа:\n",
    " 1. Обзор данных.\n",
    " 2. Предобработка данных.\n",
    " 3. Проверка гипотез."
   ]
  },
  {
   "cell_type": "markdown",
   "metadata": {
    "id": "Ml1hmfXC_Zcs"
   },
   "source": [
    "## 1 Обзор данных"
   ]
  },
  {
   "cell_type": "markdown",
   "metadata": {
    "id": "57eAOGIz_Zcs",
    "tags": [
     "start_task"
    ]
   },
   "source": [
    "### 1.1 Загрузим pandas, импортируем и проведем первичный осмотр данных\n",
    "\n",
    "Импортируем `pandas`:"
   ]
  },
  {
   "cell_type": "code",
   "execution_count": 1,
   "metadata": {
    "id": "AXN7PHPN_Zcs"
   },
   "outputs": [],
   "source": [
    "import pandas as pd"
   ]
  },
  {
   "cell_type": "markdown",
   "metadata": {
    "id": "SG23P8tt_Zcs",
    "tags": [
     "start_task"
    ]
   },
   "source": [
    "Читаем файл `yandex_music_project.csv` из папки `/datasets`, сохраним его в переменной `df`:"
   ]
  },
  {
   "cell_type": "code",
   "execution_count": 2,
   "metadata": {
    "id": "fFVu7vqh_Zct"
   },
   "outputs": [],
   "source": [
    "df = pd.read_csv('/datasets/yandex_music_project.csv')"
   ]
  },
  {
   "cell_type": "markdown",
   "metadata": {
    "id": "rDoOMd3uTqnZ",
    "tags": [
     "start_task"
    ]
   },
   "source": [
    "Посмотрим первые десять строк таблицы:"
   ]
  },
  {
   "cell_type": "code",
   "execution_count": 3,
   "metadata": {
    "id": "oWTVX3gW_Zct"
   },
   "outputs": [
    {
     "name": "stdout",
     "output_type": "stream",
     "text": [
      "     userID                        Track            artist   genre  \\\n",
      "0  FFB692EC            Kamigata To Boots  The Mass Missile    rock   \n",
      "1  55204538  Delayed Because of Accident  Andreas Rönnberg    rock   \n",
      "2    20EC38            Funiculì funiculà       Mario Lanza     pop   \n",
      "3  A3DD03C9        Dragons in the Sunset        Fire + Ice    folk   \n",
      "4  E2DC1FAE                  Soul People        Space Echo   dance   \n",
      "5  842029A1                    Преданная         IMPERVTOR  rusrap   \n",
      "6  4CB90AA5                         True      Roman Messer   dance   \n",
      "7  F03E1C1F             Feeling This Way   Polina Griffith   dance   \n",
      "8  8FA1D3BE     И вновь продолжается бой               NaN  ruspop   \n",
      "9  E772D5C0                    Pessimist               NaN   dance   \n",
      "\n",
      "             City        time        Day  \n",
      "0  Saint-Petersburg  20:28:33  Wednesday  \n",
      "1            Moscow  14:07:09     Friday  \n",
      "2  Saint-Petersburg  20:58:07  Wednesday  \n",
      "3  Saint-Petersburg  08:37:09     Monday  \n",
      "4            Moscow  08:34:34     Monday  \n",
      "5  Saint-Petersburg  13:09:41     Friday  \n",
      "6            Moscow  13:00:07  Wednesday  \n",
      "7            Moscow  20:47:49  Wednesday  \n",
      "8            Moscow  09:17:40     Friday  \n",
      "9  Saint-Petersburg  21:20:49  Wednesday  \n"
     ]
    }
   ],
   "source": [
    "print(df.head(10))"
   ]
  },
  {
   "cell_type": "markdown",
   "metadata": {
    "id": "EO73Kwic_Zct",
    "tags": [
     "start_task"
    ]
   },
   "source": [
    "С помощью `info()` получим общую информацию о таблице:"
   ]
  },
  {
   "cell_type": "code",
   "execution_count": 4,
   "metadata": {
    "id": "DSf2kIb-_Zct"
   },
   "outputs": [
    {
     "name": "stdout",
     "output_type": "stream",
     "text": [
      "<class 'pandas.core.frame.DataFrame'>\n",
      "RangeIndex: 65079 entries, 0 to 65078\n",
      "Data columns (total 7 columns):\n",
      " #   Column    Non-Null Count  Dtype \n",
      "---  ------    --------------  ----- \n",
      " 0     userID  65079 non-null  object\n",
      " 1   Track     63848 non-null  object\n",
      " 2   artist    57876 non-null  object\n",
      " 3   genre     63881 non-null  object\n",
      " 4     City    65079 non-null  object\n",
      " 5   time      65079 non-null  object\n",
      " 6   Day       65079 non-null  object\n",
      "dtypes: object(7)\n",
      "memory usage: 3.5+ MB\n",
      "None\n"
     ]
    }
   ],
   "source": [
    "print(df.info())"
   ]
  },
  {
   "cell_type": "markdown",
   "metadata": {
    "id": "TaQ2Iwbr_Zct"
   },
   "source": [
    "Итак, в таблице семь столбцов. Тип данных во всех столбцах — `object`.\n",
    "\n",
    "Согласно документации к данным:\n",
    "* `userID` — идентификатор пользователя;\n",
    "* `Track` — название трека;  \n",
    "* `artist` — имя исполнителя;\n",
    "* `genre` — название жанра;\n",
    "* `City` — город пользователя;\n",
    "* `time` — время начала прослушивания;\n",
    "* `Day` — день недели.\n",
    "\n",
    "Количество значений в столбцах различается. Значит, в данных есть пропущенные значения."
   ]
  },
  {
   "cell_type": "markdown",
   "metadata": {
    "id": "MCB6-dXG_Zct"
   },
   "source": [
    "В каждой строке таблицы — данные о прослушанном треке. Часть колонок описывает саму композицию: название, исполнителя и жанр. Остальные данные рассказывают о пользователе: из какого он города, когда он слушал музыку. \n",
    "\n",
    "Предварительно можно утверждать, что данных достаточно для проверки гипотез. Но встречаются пропуски в данных, а в названиях колонок — расхождения с хорошим стилем.\n",
    "\n",
    "Нужно устранить проблемы в данных."
   ]
  },
  {
   "cell_type": "markdown",
   "metadata": {
    "id": "SjYF6Ub9_Zct"
   },
   "source": [
    "## 2 Предобработка данных\n",
    "Исправим стиль в заголовках столбцов, исключим пропуски. Затем проверим данные на дубликаты."
   ]
  },
  {
   "cell_type": "markdown",
   "metadata": {
    "id": "dIaKXr29_Zct",
    "tags": [
     "start_task"
    ]
   },
   "source": [
    "### 2.1 Стиль заголовков\n",
    "Выведем на экран названия столбцов:"
   ]
  },
  {
   "cell_type": "code",
   "execution_count": 6,
   "metadata": {
    "id": "oKOTdF_Q_Zct"
   },
   "outputs": [
    {
     "name": "stdout",
     "output_type": "stream",
     "text": [
      "Index(['  userID', 'Track', 'artist', 'genre', '  City  ', 'time', 'Day'], dtype='object')\n"
     ]
    }
   ],
   "source": [
    "# перечень названий столбцов таблицы df\n",
    "print(df.columns)"
   ]
  },
  {
   "cell_type": "markdown",
   "metadata": {
    "id": "zj5534cv_Zct",
    "tags": [
     "start_task"
    ]
   },
   "source": [
    "Приведём названия в соответствие с хорошим стилем:\n",
    "* несколько слов в названии запишем в «змеином_регистре»,\n",
    "* все символы сделаем строчными,\n",
    "* устраним пробелы.\n",
    "\n",
    "Переименуем колонки так:\n",
    "* `'  userID'` → `'user_id'`;\n",
    "* `'Track'` → `'track'`;\n",
    "* `'  City  '` → `'city'`;\n",
    "* `'Day'` → `'day'`."
   ]
  },
  {
   "cell_type": "code",
   "execution_count": 7,
   "metadata": {
    "id": "ISlFqs5y_Zct"
   },
   "outputs": [],
   "source": [
    "# переименование столбцов\n",
    "df = df.rename(columns={'  userID': 'user_id', 'Track': 'track', '  City  ': 'city', 'Day': 'day'})"
   ]
  },
  {
   "cell_type": "markdown",
   "metadata": {
    "id": "1dqbh00J_Zct",
    "tags": [
     "start_task"
    ]
   },
   "source": [
    "Проверим получившийся результат:"
   ]
  },
  {
   "cell_type": "code",
   "execution_count": 1,
   "metadata": {
    "id": "d4NOAmTW_Zct"
   },
   "outputs": [
    {
     "ename": "NameError",
     "evalue": "name 'df' is not defined",
     "output_type": "error",
     "traceback": [
      "\u001b[1;31m---------------------------------------------------------------------------\u001b[0m",
      "\u001b[1;31mNameError\u001b[0m                                 Traceback (most recent call last)",
      "\u001b[1;32m~\\AppData\\Local\\Temp\\ipykernel_8244\\1550713868.py\u001b[0m in \u001b[0;36m<module>\u001b[1;34m\u001b[0m\n\u001b[0;32m      1\u001b[0m \u001b[1;31m# проверка результатов - перечень названий столбцов\u001b[0m\u001b[1;33m\u001b[0m\u001b[1;33m\u001b[0m\u001b[0m\n\u001b[1;32m----> 2\u001b[1;33m \u001b[0mprint\u001b[0m\u001b[1;33m(\u001b[0m\u001b[0mdf\u001b[0m\u001b[1;33m.\u001b[0m\u001b[0mcolumns\u001b[0m\u001b[1;33m)\u001b[0m\u001b[1;33m\u001b[0m\u001b[1;33m\u001b[0m\u001b[0m\n\u001b[0m",
      "\u001b[1;31mNameError\u001b[0m: name 'df' is not defined"
     ]
    }
   ],
   "source": [
    "print(df.columns)"
   ]
  },
  {
   "cell_type": "markdown",
   "metadata": {
    "id": "5ISfbcfY_Zct",
    "tags": [
     "start_task"
    ]
   },
   "source": [
    "### 2.2 Обработаем пропуски\n",
    "\n",
    "Посчитаем, сколько в таблице пропущенных значений:"
   ]
  },
  {
   "cell_type": "code",
   "execution_count": 9,
   "metadata": {
    "id": "RskX29qr_Zct"
   },
   "outputs": [
    {
     "name": "stdout",
     "output_type": "stream",
     "text": [
      "user_id       0\n",
      "track      1231\n",
      "artist     7203\n",
      "genre      1198\n",
      "city          0\n",
      "time          0\n",
      "day           0\n",
      "dtype: int64\n"
     ]
    }
   ],
   "source": [
    "# подсчёт пропусков\n",
    "print(df.isna().sum())"
   ]
  },
  {
   "cell_type": "markdown",
   "metadata": {
    "id": "qubhgnlO_Zct"
   },
   "source": [
    "Не все пропущенные значения влияют на исследование. Так в `track` и `artist` пропуски не важны для целей работы. Достаточно заменить их явными обозначениями.\n",
    "\n",
    "Но пропуски в `genre` могут помешать сравнению музыкальных вкусов в Москве и Санкт-Петербурге. На практике было бы правильно установить причину пропусков и восстановить данные. Но такой возможности на данный момент. Придётся:\n",
    "* заполнить и эти пропуски явными обозначениями;\n",
    "* оценить, насколько они повредят расчётам. "
   ]
  },
  {
   "cell_type": "markdown",
   "metadata": {
    "id": "fSv2laPA_Zct",
    "tags": [
     "start_task"
    ]
   },
   "source": [
    "####  2.2.1 Заменим пропущенные значения в столбцах `track`, `artist` и `genre` на строку `'unknown'`\n",
    "\n",
    "Для этого создадим список `columns_to_replace`, переберём его элементы циклом `for` и для каждого столбца выполним замену пропущенных значений:"
   ]
  },
  {
   "cell_type": "code",
   "execution_count": 10,
   "metadata": {
    "id": "KplB5qWs_Zct"
   },
   "outputs": [],
   "source": [
    "# перебор названий столбцов в цикле и замена пропущенных значений на 'unknown'\n",
    "columns_to_replace = []\n",
    "\n",
    "for value in df:\n",
    "        df['track'] = df['track'].fillna('unknown')\n",
    "        df['artist'] = df['artist'].fillna('unknown')\n",
    "        df['genre'] = df['genre'].fillna('unknown')"
   ]
  },
  {
   "cell_type": "markdown",
   "metadata": {
    "id": "Ilsm-MZo_Zct",
    "tags": [
     "start_task"
    ]
   },
   "source": [
    "Проверим, есть ли пропуски сейчас:"
   ]
  },
  {
   "cell_type": "code",
   "execution_count": 11,
   "metadata": {
    "id": "Tq4nYRX4_Zct"
   },
   "outputs": [
    {
     "name": "stdout",
     "output_type": "stream",
     "text": [
      "user_id    0\n",
      "track      0\n",
      "artist     0\n",
      "genre      0\n",
      "city       0\n",
      "time       0\n",
      "day        0\n",
      "dtype: int64\n"
     ]
    }
   ],
   "source": [
    "# подсчёт пропусков\n",
    "print(df.isna().sum())"
   ]
  },
  {
   "cell_type": "markdown",
   "metadata": {
    "id": "BWKRtBJ3_Zct",
    "tags": [
     "start_task"
    ]
   },
   "source": [
    "### 2.3 Обработка дубликатов\n",
    "\n",
    "#### 2.3.1 Обработка явных дубликатов\n",
    "\n",
    "Посчитаем явные дубликаты в таблице:"
   ]
  },
  {
   "cell_type": "code",
   "execution_count": 12,
   "metadata": {
    "id": "36eES_S0_Zct"
   },
   "outputs": [
    {
     "name": "stdout",
     "output_type": "stream",
     "text": [
      "3826\n"
     ]
    }
   ],
   "source": [
    "# подсчёт явных дубликатов\n",
    "print(df.duplicated().sum())"
   ]
  },
  {
   "cell_type": "markdown",
   "metadata": {
    "id": "Ot25h6XR_Zct",
    "tags": [
     "start_task"
    ]
   },
   "source": [
    "Вызовем drop_duplicates, чтобы их удалить:"
   ]
  },
  {
   "cell_type": "code",
   "execution_count": 13,
   "metadata": {
    "id": "exFHq6tt_Zct"
   },
   "outputs": [],
   "source": [
    "# удаление явных дубликатов\n",
    "df = df.drop_duplicates()"
   ]
  },
  {
   "cell_type": "markdown",
   "metadata": {
    "id": "Im2YwBEG_Zct",
    "tags": [
     "start_task"
    ]
   },
   "source": [
    "Убедимся, что полностью избавились от дублей:"
   ]
  },
  {
   "cell_type": "code",
   "execution_count": 14,
   "metadata": {
    "id": "-8PuNWQ0_Zct"
   },
   "outputs": [
    {
     "name": "stdout",
     "output_type": "stream",
     "text": [
      "0\n"
     ]
    }
   ],
   "source": [
    "# проверка на отсутствие дубликатов\n",
    "print(df.duplicated().sum())"
   ]
  },
  {
   "cell_type": "markdown",
   "metadata": {
    "id": "QlFBsxAr_Zct"
   },
   "source": [
    "#### 2.3.2 Обработка неявных дубликатов\n",
    "\n",
    "Теперь избавимся от неявных дубликатов в колонке `genre`. Например, название одного и того же жанра может быть записано немного по-разному. Такие ошибки тоже повлияют на результат исследования.\n",
    "\n",
    "Для этого выведем на экран список уникальных названий жанров, отсортированный в алфавитном порядке:\n",
    "1. извлечём нужный столбец датафрейма; \n",
    "2. применим к нему метод сортировки;\n",
    "3. для отсортированного столбца вызовем метод, который вернёт уникальные значения из столбца."
   ]
  },
  {
   "cell_type": "code",
   "execution_count": 15,
   "metadata": {
    "id": "JIUcqzZN_Zct"
   },
   "outputs": [
    {
     "name": "stdout",
     "output_type": "stream",
     "text": [
      "['acid' 'acoustic' 'action' 'adult' 'africa' 'afrikaans' 'alternative'\n",
      " 'alternativepunk' 'ambient' 'americana' 'animated' 'anime' 'arabesk'\n",
      " 'arabic' 'arena' 'argentinetango' 'art' 'audiobook' 'author' 'avantgarde'\n",
      " 'axé' 'baile' 'balkan' 'beats' 'bigroom' 'black' 'bluegrass' 'blues'\n",
      " 'bollywood' 'bossa' 'brazilian' 'breakbeat' 'breaks' 'broadway'\n",
      " 'cantautori' 'cantopop' 'canzone' 'caribbean' 'caucasian' 'celtic'\n",
      " 'chamber' 'chanson' 'children' 'chill' 'chinese' 'choral' 'christian'\n",
      " 'christmas' 'classical' 'classicmetal' 'club' 'colombian' 'comedy'\n",
      " 'conjazz' 'contemporary' 'country' 'cuban' 'dance' 'dancehall' 'dancepop'\n",
      " 'dark' 'death' 'deep' 'deutschrock' 'deutschspr' 'dirty' 'disco' 'dnb'\n",
      " 'documentary' 'downbeat' 'downtempo' 'drum' 'dub' 'dubstep' 'eastern'\n",
      " 'easy' 'electronic' 'electropop' 'emo' 'entehno' 'epicmetal' 'estrada'\n",
      " 'ethnic' 'eurofolk' 'european' 'experimental' 'extrememetal' 'fado'\n",
      " 'fairytail' 'film' 'fitness' 'flamenco' 'folk' 'folklore' 'folkmetal'\n",
      " 'folkrock' 'folktronica' 'forró' 'frankreich' 'französisch' 'french'\n",
      " 'funk' 'future' 'gangsta' 'garage' 'german' 'ghazal' 'gitarre' 'glitch'\n",
      " 'gospel' 'gothic' 'grime' 'grunge' 'gypsy' 'handsup' \"hard'n'heavy\"\n",
      " 'hardcore' 'hardstyle' 'hardtechno' 'hip' 'hip-hop' 'hiphop' 'historisch'\n",
      " 'holiday' 'hop' 'horror' 'house' 'hymn' 'idm' 'independent' 'indian'\n",
      " 'indie' 'indipop' 'industrial' 'inspirational' 'instrumental'\n",
      " 'international' 'irish' 'jam' 'japanese' 'jazz' 'jewish' 'jpop' 'jungle'\n",
      " 'k-pop' 'karadeniz' 'karaoke' 'kayokyoku' 'korean' 'laiko' 'latin'\n",
      " 'latino' 'leftfield' 'local' 'lounge' 'loungeelectronic' 'lovers'\n",
      " 'malaysian' 'mandopop' 'marschmusik' 'meditative' 'mediterranean'\n",
      " 'melodic' 'metal' 'metalcore' 'mexican' 'middle' 'minimal'\n",
      " 'miscellaneous' 'modern' 'mood' 'mpb' 'muslim' 'native' 'neoklassik'\n",
      " 'neue' 'new' 'newage' 'newwave' 'nu' 'nujazz' 'numetal' 'oceania' 'old'\n",
      " 'opera' 'orchestral' 'other' 'piano' 'podcasts' 'pop' 'popdance'\n",
      " 'popelectronic' 'popeurodance' 'poprussian' 'post' 'posthardcore'\n",
      " 'postrock' 'power' 'progmetal' 'progressive' 'psychedelic' 'punjabi'\n",
      " 'punk' 'quebecois' 'ragga' 'ram' 'rancheras' 'rap' 'rave' 'reggae'\n",
      " 'reggaeton' 'regional' 'relax' 'religious' 'retro' 'rhythm' 'rnb' 'rnr'\n",
      " 'rock' 'rockabilly' 'rockalternative' 'rockindie' 'rockother' 'romance'\n",
      " 'roots' 'ruspop' 'rusrap' 'rusrock' 'russian' 'salsa' 'samba' 'scenic'\n",
      " 'schlager' 'self' 'sertanejo' 'shanson' 'shoegazing' 'showtunes' 'singer'\n",
      " 'ska' 'skarock' 'slow' 'smooth' 'soft' 'soul' 'soulful' 'sound'\n",
      " 'soundtrack' 'southern' 'specialty' 'speech' 'spiritual' 'sport'\n",
      " 'stonerrock' 'surf' 'swing' 'synthpop' 'synthrock' 'sängerportrait'\n",
      " 'tango' 'tanzorchester' 'taraftar' 'tatar' 'tech' 'techno' 'teen'\n",
      " 'thrash' 'top' 'traditional' 'tradjazz' 'trance' 'tribal' 'trip'\n",
      " 'triphop' 'tropical' 'türk' 'türkçe' 'ukrrock' 'unknown' 'urban' 'uzbek'\n",
      " 'variété' 'vi' 'videogame' 'vocal' 'western' 'world' 'worldbeat' 'ïîï'\n",
      " 'электроника']\n"
     ]
    }
   ],
   "source": [
    "# Просмотр уникальных названий жанров\n",
    "genre_sorted_names = df['genre'].sort_values()\n",
    "print(genre_sorted_names.unique())"
   ]
  },
  {
   "cell_type": "markdown",
   "metadata": {
    "id": "qej-Qmuo_Zct",
    "tags": [
     "start_task"
    ]
   },
   "source": [
    "Есть следующие неявные дубликаты:\n",
    "* *hip*,\n",
    "* *hop*,\n",
    "* *hip-hop*.\n",
    "\n",
    "Чтобы очистить от них таблицу используем метод `replace()` с двумя аргументами: списком строк-дубликатов (включащий *hip*, *hop* и *hip-hop*) и строкой с правильным значением - `hiphop`:"
   ]
  },
  {
   "cell_type": "code",
   "execution_count": 16,
   "metadata": {
    "id": "ErNDkmns_Zct"
   },
   "outputs": [],
   "source": [
    "# Устранение неявных дубликатов\n",
    "duplicates = ['hip', 'hop', 'hip-hop'] # создаём список дупликатов, чтобы не плодить метод replace()\n",
    "df['genre'] = df['genre'].replace(duplicates, 'hiphop') # смена значений дупликатов на значение right_name"
   ]
  },
  {
   "cell_type": "markdown",
   "metadata": {
    "id": "zQKF16_RG15m",
    "tags": [
     "start_task"
    ]
   },
   "source": [
    "Убедимся, что заменили неправильные названия, снова выведя отсортированный список уникальных значений столбца `genre`:"
   ]
  },
  {
   "cell_type": "code",
   "execution_count": 17,
   "metadata": {
    "id": "wvixALnFG15m"
   },
   "outputs": [
    {
     "name": "stdout",
     "output_type": "stream",
     "text": [
      "['acid' 'acoustic' 'action' 'adult' 'africa' 'afrikaans' 'alternative'\n",
      " 'alternativepunk' 'ambient' 'americana' 'animated' 'anime' 'arabesk'\n",
      " 'arabic' 'arena' 'argentinetango' 'art' 'audiobook' 'author' 'avantgarde'\n",
      " 'axé' 'baile' 'balkan' 'beats' 'bigroom' 'black' 'bluegrass' 'blues'\n",
      " 'bollywood' 'bossa' 'brazilian' 'breakbeat' 'breaks' 'broadway'\n",
      " 'cantautori' 'cantopop' 'canzone' 'caribbean' 'caucasian' 'celtic'\n",
      " 'chamber' 'chanson' 'children' 'chill' 'chinese' 'choral' 'christian'\n",
      " 'christmas' 'classical' 'classicmetal' 'club' 'colombian' 'comedy'\n",
      " 'conjazz' 'contemporary' 'country' 'cuban' 'dance' 'dancehall' 'dancepop'\n",
      " 'dark' 'death' 'deep' 'deutschrock' 'deutschspr' 'dirty' 'disco' 'dnb'\n",
      " 'documentary' 'downbeat' 'downtempo' 'drum' 'dub' 'dubstep' 'eastern'\n",
      " 'easy' 'electronic' 'electropop' 'emo' 'entehno' 'epicmetal' 'estrada'\n",
      " 'ethnic' 'eurofolk' 'european' 'experimental' 'extrememetal' 'fado'\n",
      " 'fairytail' 'film' 'fitness' 'flamenco' 'folk' 'folklore' 'folkmetal'\n",
      " 'folkrock' 'folktronica' 'forró' 'frankreich' 'französisch' 'french'\n",
      " 'funk' 'future' 'gangsta' 'garage' 'german' 'ghazal' 'gitarre' 'glitch'\n",
      " 'gospel' 'gothic' 'grime' 'grunge' 'gypsy' 'handsup' \"hard'n'heavy\"\n",
      " 'hardcore' 'hardstyle' 'hardtechno' 'hiphop' 'historisch' 'holiday'\n",
      " 'horror' 'house' 'hymn' 'idm' 'independent' 'indian' 'indie' 'indipop'\n",
      " 'industrial' 'inspirational' 'instrumental' 'international' 'irish' 'jam'\n",
      " 'japanese' 'jazz' 'jewish' 'jpop' 'jungle' 'k-pop' 'karadeniz' 'karaoke'\n",
      " 'kayokyoku' 'korean' 'laiko' 'latin' 'latino' 'leftfield' 'local'\n",
      " 'lounge' 'loungeelectronic' 'lovers' 'malaysian' 'mandopop' 'marschmusik'\n",
      " 'meditative' 'mediterranean' 'melodic' 'metal' 'metalcore' 'mexican'\n",
      " 'middle' 'minimal' 'miscellaneous' 'modern' 'mood' 'mpb' 'muslim'\n",
      " 'native' 'neoklassik' 'neue' 'new' 'newage' 'newwave' 'nu' 'nujazz'\n",
      " 'numetal' 'oceania' 'old' 'opera' 'orchestral' 'other' 'piano' 'podcasts'\n",
      " 'pop' 'popdance' 'popelectronic' 'popeurodance' 'poprussian' 'post'\n",
      " 'posthardcore' 'postrock' 'power' 'progmetal' 'progressive' 'psychedelic'\n",
      " 'punjabi' 'punk' 'quebecois' 'ragga' 'ram' 'rancheras' 'rap' 'rave'\n",
      " 'reggae' 'reggaeton' 'regional' 'relax' 'religious' 'retro' 'rhythm'\n",
      " 'rnb' 'rnr' 'rock' 'rockabilly' 'rockalternative' 'rockindie' 'rockother'\n",
      " 'romance' 'roots' 'ruspop' 'rusrap' 'rusrock' 'russian' 'salsa' 'samba'\n",
      " 'scenic' 'schlager' 'self' 'sertanejo' 'shanson' 'shoegazing' 'showtunes'\n",
      " 'singer' 'ska' 'skarock' 'slow' 'smooth' 'soft' 'soul' 'soulful' 'sound'\n",
      " 'soundtrack' 'southern' 'specialty' 'speech' 'spiritual' 'sport'\n",
      " 'stonerrock' 'surf' 'swing' 'synthpop' 'synthrock' 'sängerportrait'\n",
      " 'tango' 'tanzorchester' 'taraftar' 'tatar' 'tech' 'techno' 'teen'\n",
      " 'thrash' 'top' 'traditional' 'tradjazz' 'trance' 'tribal' 'trip'\n",
      " 'triphop' 'tropical' 'türk' 'türkçe' 'ukrrock' 'unknown' 'urban' 'uzbek'\n",
      " 'variété' 'vi' 'videogame' 'vocal' 'western' 'world' 'worldbeat' 'ïîï'\n",
      " 'электроника']\n"
     ]
    }
   ],
   "source": [
    "genre_sorted_names = df['genre'].sort_values()\n",
    "print(genre_sorted_names.unique())"
   ]
  },
  {
   "cell_type": "markdown",
   "metadata": {
    "id": "jz6a9-7HQUDd"
   },
   "source": [
    "**Выводы**\n",
    "\n",
    "Предобработка обнаружила три проблемы в данных:\n",
    "\n",
    "- нарушения в стиле заголовков,\n",
    "- пропущенные значения,\n",
    "- дубликаты — явные и неявные.\n",
    "\n",
    "Мы исправили заголовки, чтобы упростить работу с таблицей, а без дубликатов исследование станет более точным.\n",
    "\n",
    "Пропущенные значения заменены на `'unknown'`. Ещё предстоит увидеть, не повредят ли исследованию пропуски в колонке `genre`.\n",
    "\n",
    "Теперь можно перейти к проверке гипотез. "
   ]
  },
  {
   "cell_type": "markdown",
   "metadata": {
    "id": "WttZHXH0SqKk"
   },
   "source": [
    "## 3 Проверка гипотез"
   ]
  },
  {
   "cell_type": "markdown",
   "metadata": {
    "id": "Im936VVi_Zcu"
   },
   "source": [
    "### 3.1 Сравнение поведения пользователей двух столиц"
   ]
  },
  {
   "cell_type": "markdown",
   "metadata": {
    "id": "nwt_MuaL_Zcu"
   },
   "source": [
    "Первая гипотеза утверждает, что пользователи по-разному слушают музыку в Москве и Санкт-Петербурге. Проверим это предположение по данным о трёх днях недели — понедельнике, среде и пятнице. Для этого:\n",
    "\n",
    "* Разделим пользователей Москвы и Санкт-Петербурга.\n",
    "* Сравним, сколько треков послушала каждая группа пользователей в понедельник, среду и пятницу."
   ]
  },
  {
   "cell_type": "markdown",
   "metadata": {
    "id": "8Dw_YMmT_Zcu",
    "tags": [
     "start_task"
    ]
   },
   "source": [
    "Сначала оценим активность пользователей в каждом городе. Сгруппируем данные по городу и посчитаем прослушивания в каждой группе."
   ]
  },
  {
   "cell_type": "code",
   "execution_count": 18,
   "metadata": {
    "id": "0_Qs96oh_Zcu"
   },
   "outputs": [
    {
     "name": "stdout",
     "output_type": "stream",
     "text": [
      "city\n",
      "Moscow              42741\n",
      "Saint-Petersburg    18512\n",
      "Name: time, dtype: int64\n"
     ]
    }
   ],
   "source": [
    "# Подсчёт прослушиваний в каждом городе\n",
    "city_grouping = df.groupby('city')['time'].count()\n",
    "print(city_grouping)"
   ]
  },
  {
   "cell_type": "markdown",
   "metadata": {
    "id": "dzli3w8o_Zcu",
    "tags": [
     "start_task"
    ]
   },
   "source": [
    "В Москве прослушиваний больше, чем в Петербурге. Из этого не следует, что московские пользователи чаще слушают музыку. Просто самих пользователей в Москве больше.\n",
    "\n",
    "\n",
    "Теперь сгруппируем данные по дню недели и посчитаем прослушивания в понедельник, среду и пятницу (в данных есть информация о прослушиваниях только за эти дни):"
   ]
  },
  {
   "cell_type": "code",
   "execution_count": 19,
   "metadata": {
    "id": "uZMKjiJz_Zcu"
   },
   "outputs": [
    {
     "name": "stdout",
     "output_type": "stream",
     "text": [
      "day\n",
      "Friday       21840\n",
      "Monday       21354\n",
      "Wednesday    18059\n",
      "Name: city, dtype: int64\n"
     ]
    }
   ],
   "source": [
    "# Подсчёт прослушиваний в каждый из трёх дней\n",
    "day_grouping = df.groupby('day')['city'].count()\n",
    "print(day_grouping)"
   ]
  },
  {
   "cell_type": "markdown",
   "metadata": {
    "id": "cC2tNrlL_Zcu"
   },
   "source": [
    "В среднем пользователи из двух городов менее активны по средам. Но картина может измениться, если рассмотреть каждый город в отдельности."
   ]
  },
  {
   "cell_type": "markdown",
   "metadata": {
    "id": "POzs8bGa_Zcu",
    "tags": [
     "start_task"
    ]
   },
   "source": [
    "Напишем функцию `number_tracks()`, которая объединит два эти расчёта.\n",
    "\n",
    "`number_tracks()` посчитает прослушивания для заданного дня и города. Ей понадобятся два параметра:\n",
    "* день недели,\n",
    "* название города.\n",
    "\n",
    "В функции мы сохраним в переменную строки исходной таблицы, у которых значение:\n",
    "  * в колонке `day` равно параметру `day`,\n",
    "  * в колонке `city` равно параметру `city`.\n",
    "\n",
    "Для этого применим последовательную фильтрацию с логической индексацией. С её помощью `number_tracks()` сначала получит из исходной таблицы строки с нужным днём, затем из результата отфильтрует строки с нужным городом, методом count() посчитает количество значений в колонке `user_id` и вернет результат:"
   ]
  },
  {
   "cell_type": "code",
   "execution_count": 2,
   "metadata": {
    "id": "Nz3GdQB1_Zcu"
   },
   "outputs": [],
   "source": [
    "# функция с двумя параметрами: day, city.\n",
    "def number_tracks(day, city):    \n",
    "# В переменной track_list сохраняются те строки таблицы df, для которых \n",
    "# значение в столбце 'day' равно параметру day и одновременно значение\n",
    "# в столбце 'city' равно параметру city (последовательная фильтрация с логической индексацией).\n",
    "    track_list = df[df['day'] == day]\n",
    "    track_list = track_list[track_list['city'] == city]\n",
    "# В переменной track_list_count сохраняется число значений столбца 'user_id',\n",
    "# рассчитанное методом count() для таблицы track_list.\n",
    "    track_list_count = track_list['user_id'].count()\n",
    "# Функция возвращает число - значение track_list_count.\n",
    "    return track_list_count"
   ]
  },
  {
   "cell_type": "markdown",
   "metadata": {
    "id": "ytf7xFrFJQ2r",
    "tags": [
     "start_task"
    ]
   },
   "source": [
    "Теперь вызовем `number_tracks()` шесть раз, меняя значение параметров — так, чтобы получить данные для каждого города в каждый из трёх дней."
   ]
  },
  {
   "cell_type": "code",
   "execution_count": 289,
   "metadata": {
    "id": "rJcRATNQ_Zcu"
   },
   "outputs": [
    {
     "data": {
      "text/plain": [
       "15740"
      ]
     },
     "metadata": {},
     "output_type": "display_data"
    }
   ],
   "source": [
    "# количество прослушиваний в Москве по понедельникам\n",
    "print(number_tracks('Monday', 'Moscow'))"
   ]
  },
  {
   "cell_type": "code",
   "execution_count": 290,
   "metadata": {
    "id": "hq_ncZ5T_Zcu"
   },
   "outputs": [
    {
     "data": {
      "text/plain": [
       "5614"
      ]
     },
     "metadata": {},
     "output_type": "display_data"
    }
   ],
   "source": [
    "# количество прослушиваний в Санкт-Петербурге по понедельникам\n",
    "print(number_tracks('Monday', 'Saint-Petersburg'))"
   ]
  },
  {
   "cell_type": "code",
   "execution_count": 291,
   "metadata": {
    "id": "_NTy2VPU_Zcu"
   },
   "outputs": [
    {
     "data": {
      "text/plain": [
       "11056"
      ]
     },
     "metadata": {},
     "output_type": "display_data"
    }
   ],
   "source": [
    "# количество прослушиваний в Москве по средам\n",
    "print(number_tracks('Wednesday', 'Moscow'))"
   ]
  },
  {
   "cell_type": "code",
   "execution_count": 292,
   "metadata": {
    "id": "j2y3TAwo_Zcu"
   },
   "outputs": [
    {
     "data": {
      "text/plain": [
       "7003"
      ]
     },
     "metadata": {},
     "output_type": "display_data"
    }
   ],
   "source": [
    "# количество прослушиваний в Санкт-Петербурге по средам\n",
    "print(number_tracks('Wednesday', 'Saint-Petersburg'))"
   ]
  },
  {
   "cell_type": "code",
   "execution_count": 293,
   "metadata": {
    "id": "vYDw5u_K_Zcu"
   },
   "outputs": [
    {
     "data": {
      "text/plain": [
       "15945"
      ]
     },
     "metadata": {},
     "output_type": "display_data"
    }
   ],
   "source": [
    "# количество прослушиваний в Москве по пятницам\n",
    "print(number_tracks('Friday', 'Moscow'))"
   ]
  },
  {
   "cell_type": "code",
   "execution_count": 294,
   "metadata": {
    "id": "8_yzFtW3_Zcu"
   },
   "outputs": [
    {
     "data": {
      "text/plain": [
       "5895"
      ]
     },
     "metadata": {},
     "output_type": "display_data"
    }
   ],
   "source": [
    "# количество прослушиваний в Санкт-Петербурге по пятницам\n",
    "print(number_tracks('Friday', 'Saint-Petersburg'))"
   ]
  },
  {
   "cell_type": "markdown",
   "metadata": {
    "id": "7QXffbO-_Zcu",
    "tags": [
     "start_task"
    ]
   },
   "source": [
    "Создадим новую таблицу и занесём в неё получившиеся значения, где:\n",
    "\n",
    "* названия колонок — `['city', 'monday', 'wednesday', 'friday']`;\n",
    "* данные — результаты, полученные с помощью `number_tracks`."
   ]
  },
  {
   "cell_type": "code",
   "execution_count": 296,
   "metadata": {
    "id": "APAcLpOr_Zcu"
   },
   "outputs": [
    {
     "data": {
      "text/html": [
       "<div>\n",
       "<style scoped>\n",
       "    .dataframe tbody tr th:only-of-type {\n",
       "        vertical-align: middle;\n",
       "    }\n",
       "\n",
       "    .dataframe tbody tr th {\n",
       "        vertical-align: top;\n",
       "    }\n",
       "\n",
       "    .dataframe thead th {\n",
       "        text-align: right;\n",
       "    }\n",
       "</style>\n",
       "<table border=\"1\" class=\"dataframe\">\n",
       "  <thead>\n",
       "    <tr style=\"text-align: right;\">\n",
       "      <th></th>\n",
       "      <th>city</th>\n",
       "      <th>monday</th>\n",
       "      <th>wednesday</th>\n",
       "      <th>friday</th>\n",
       "    </tr>\n",
       "  </thead>\n",
       "  <tbody>\n",
       "    <tr>\n",
       "      <th>0</th>\n",
       "      <td>Moscow</td>\n",
       "      <td>15740</td>\n",
       "      <td>11056</td>\n",
       "      <td>15945</td>\n",
       "    </tr>\n",
       "    <tr>\n",
       "      <th>1</th>\n",
       "      <td>Saint-Petersburg</td>\n",
       "      <td>5614</td>\n",
       "      <td>7003</td>\n",
       "      <td>5895</td>\n",
       "    </tr>\n",
       "  </tbody>\n",
       "</table>\n",
       "</div>"
      ],
      "text/plain": [
       "               city  monday  wednesday  friday\n",
       "0            Moscow   15740      11056   15945\n",
       "1  Saint-Petersburg    5614       7003    5895"
      ]
     },
     "metadata": {},
     "output_type": "display_data"
    }
   ],
   "source": [
    "# Список данных для таблицы:\n",
    "amount_play = [\n",
    "    ['Moscow', 15740, 11056, 15945],\n",
    "    ['Saint-Petersburg', 5614, 7003, 5895],\n",
    "]\n",
    "# Список столбцов:\n",
    "cities_by_days = ['city', 'monday', 'wednesday', 'friday']\n",
    "\n",
    "# Таблица с результатами\n",
    "cities_music = pd.DataFrame(data=amount_play, columns=cities_by_days)\n",
    "\n",
    "print(cities_music)"
   ]
  },
  {
   "cell_type": "markdown",
   "metadata": {
    "id": "-EgPIHYu_Zcu"
   },
   "source": [
    "**Выводы**\n",
    "\n",
    "Данные показывают разницу поведения пользователей:\n",
    "\n",
    "- В Москве пик прослушиваний приходится на понедельник и пятницу, а в среду заметен спад.\n",
    "- В Петербурге, наоборот, больше слушают музыку по средам. Активность в понедельник и пятницу здесь почти в равной мере уступает среде.\n",
    "\n",
    "Значит, данные говорят в пользу первой гипотезы."
   ]
  },
  {
   "cell_type": "markdown",
   "metadata": {
    "id": "atZAxtq4_Zcu"
   },
   "source": [
    "### 3.2 Музыка в начале и в конце недели"
   ]
  },
  {
   "cell_type": "markdown",
   "metadata": {
    "id": "eXrQqXFH_Zcu"
   },
   "source": [
    "Согласно второй гипотезе, утром в понедельник в Москве преобладают одни жанры, а в Петербурге — другие. Так же и вечером пятницы преобладают разные жанры — в зависимости от города."
   ]
  },
  {
   "cell_type": "markdown",
   "metadata": {
    "id": "S8UcW6Hw_Zcu",
    "tags": [
     "start_task"
    ]
   },
   "source": [
    "Сохраним таблицы с данными в две переменные:\n",
    "* по Москве — в `moscow_general`;\n",
    "* по Санкт-Петербургу — в `spb_general`."
   ]
  },
  {
   "cell_type": "code",
   "execution_count": 297,
   "metadata": {
    "id": "qeaFfM_P_Zcu"
   },
   "outputs": [],
   "source": [
    "# получение таблицы moscow_general из тех строк таблицы df, \n",
    "# для которых значение в столбце 'city' равно 'Moscow'\n",
    "moscow_general = df[df['city'] == 'Moscow']"
   ]
  },
  {
   "cell_type": "code",
   "execution_count": 298,
   "metadata": {
    "id": "ORaVRKto_Zcu"
   },
   "outputs": [],
   "source": [
    "# получение таблицы spb_general из тех строк таблицы df,\n",
    "# для которых значение в столбце 'city' равно 'Saint-Petersburg'\n",
    "spb_general = df[df['city'] == 'Saint-Petersburg']"
   ]
  },
  {
   "cell_type": "markdown",
   "metadata": {
    "id": "MEJV-CX2_Zcu",
    "tags": [
     "start_task"
    ]
   },
   "source": [
    "Создадим функцию `genre_weekday()` с четырьмя параметрами:\n",
    "* таблица (датафрейм) с данными,\n",
    "* день недели,\n",
    "* начальная временная метка в формате 'hh:mm', \n",
    "* последняя временная метка в формате 'hh:mm'.\n",
    "\n",
    "Функция должна вернуть информацию о топ-10 жанров тех треков, которые прослушивали в указанный день, в промежутке между двумя отметками времени."
   ]
  },
  {
   "cell_type": "code",
   "execution_count": 300,
   "metadata": {
    "id": "laJT9BYl_Zcu"
   },
   "outputs": [],
   "source": [
    "# Объявление функции genre_weekday() с параметрами датафрейма df, day, time1, time2:\n",
    "def genre_weekday(df, day, time1, time2):\n",
    "# 1) в переменную genre_df сохраняются те строки переданного датафрейма df, для\n",
    "#    которых одновременно:\n",
    "#    - значение в столбце day равно значению аргумента day\n",
    "#    - значение в столбце time больше значения аргумента time1\n",
    "#    - значение в столбце time меньше значения аргумента time2\n",
    "#    (последовательная фильтрация с помощью логической индексации)\n",
    "    genre_df = df[df['day'] == day]\n",
    "    genre_df = genre_df[genre_df['time'] > time1]\n",
    "    genre_df = genre_df[genre_df['time'] < time2]\n",
    "# 2) группируем датафрейм genre_df по столбцу genre, берем один из его\n",
    "#    столбцов и считаем count() количество записей для каждого из\n",
    "#    присутствующих жанров, получившийся Series записываем в переменную\n",
    "#    genre_df_count\n",
    "    genre_df_count = genre_df.groupby('genre')['genre'].count()\n",
    "# 3) сортируем genre_df_count по убыванию встречаемости и сохраняем\n",
    "#    в переменную genre_df_sorted\n",
    "    genre_df_sorted = genre_df_count.sort_values(ascending=False)\n",
    "# 4) вернем Series из 10 первых значений genre_df_sorted, это будут топ-10\n",
    "#    популярных жанров (в указанный день, в заданное время)    \n",
    "    return genre_df_sorted[:10]"
   ]
  },
  {
   "cell_type": "markdown",
   "metadata": {
    "id": "la2s2_PF_Zcu",
    "tags": [
     "start_task"
    ]
   },
   "source": [
    "Cравним результаты функции `genre_weekday()` для Москвы и Санкт-Петербурга в понедельник утром (с 7:00 до 11:00) и в пятницу вечером (с 17:00 до 23:00):"
   ]
  },
  {
   "cell_type": "code",
   "execution_count": 301,
   "metadata": {
    "id": "yz7itPUQ_Zcu"
   },
   "outputs": [
    {
     "data": {
      "text/plain": [
       "genre\n",
       "pop            781\n",
       "dance          549\n",
       "electronic     480\n",
       "rock           474\n",
       "hiphop         286\n",
       "ruspop         186\n",
       "world          181\n",
       "rusrap         175\n",
       "alternative    164\n",
       "unknown        161\n",
       "Name: genre, dtype: int64"
      ]
     },
     "metadata": {},
     "output_type": "display_data"
    }
   ],
   "source": [
    "# вызов функции для утра понедельника в Москве (вместо df — таблица moscow_general):\n",
    "print(genre_weekday(moscow_general, 'Monday','07:00', '11:00'))"
   ]
  },
  {
   "cell_type": "code",
   "execution_count": 302,
   "metadata": {
    "id": "kwUcHPdy_Zcu"
   },
   "outputs": [
    {
     "data": {
      "text/plain": [
       "genre\n",
       "pop            218\n",
       "dance          182\n",
       "rock           162\n",
       "electronic     147\n",
       "hiphop          80\n",
       "ruspop          64\n",
       "alternative     58\n",
       "rusrap          55\n",
       "jazz            44\n",
       "classical       40\n",
       "Name: genre, dtype: int64"
      ]
     },
     "metadata": {},
     "output_type": "display_data"
    }
   ],
   "source": [
    "# вызов функции для утра понедельника в Петербурге (вместо df — таблица spb_general):\n",
    "print(genre_weekday(spb_general, 'Monday', '07:00', '11:00'))"
   ]
  },
  {
   "cell_type": "code",
   "execution_count": 303,
   "metadata": {
    "id": "EzXVRE1o_Zcu"
   },
   "outputs": [
    {
     "data": {
      "text/plain": [
       "genre\n",
       "pop            713\n",
       "rock           517\n",
       "dance          495\n",
       "electronic     482\n",
       "hiphop         273\n",
       "world          208\n",
       "ruspop         170\n",
       "alternative    163\n",
       "classical      163\n",
       "rusrap         142\n",
       "Name: genre, dtype: int64"
      ]
     },
     "metadata": {},
     "output_type": "display_data"
    }
   ],
   "source": [
    "# вызов функции для вечера пятницы в Москве:\n",
    "print(genre_weekday(moscow_general, 'Friday', '17:00', '23:00'))"
   ]
  },
  {
   "cell_type": "code",
   "execution_count": 304,
   "metadata": {
    "id": "JZaEKu5v_Zcu"
   },
   "outputs": [
    {
     "data": {
      "text/plain": [
       "genre\n",
       "pop            256\n",
       "electronic     216\n",
       "rock           216\n",
       "dance          210\n",
       "hiphop          97\n",
       "alternative     63\n",
       "jazz            61\n",
       "classical       60\n",
       "rusrap          59\n",
       "world           54\n",
       "Name: genre, dtype: int64"
      ]
     },
     "metadata": {},
     "output_type": "display_data"
    }
   ],
   "source": [
    "# вызов функции для вечера пятницы в Петербурге:\n",
    "print(genre_weekday(spb_general, 'Friday', '17:00', '23:00'))"
   ]
  },
  {
   "cell_type": "markdown",
   "metadata": {
    "id": "wrCe4MNX_Zcu"
   },
   "source": [
    "**Выводы**\n",
    "\n",
    "Если сравнить топ-10 жанров в понедельник утром, можно сделать такие выводы:\n",
    "\n",
    "1. В Москве и Петербурге слушают похожую музыку. Единственное отличие — в московский рейтинг вошёл жанр “world”, а в петербургский — джаз и классика.\n",
    "\n",
    "2. В Москве пропущенных значений оказалось так много, что значение `'unknown'` заняло десятое место среди самых популярных жанров. Значит, пропущенные значения занимают существенную долю в данных и угрожают достоверности исследования.\n",
    "\n",
    "Вечер пятницы не меняет эту картину. Некоторые жанры поднимаются немного выше, другие спускаются, но в целом топ-10 остаётся тем же самым.\n",
    "\n",
    "Таким образом, вторая гипотеза подтвердилась лишь частично:\n",
    "* Пользователи слушают похожую музыку в начале недели и в конце.\n",
    "* Разница между Москвой и Петербургом не слишком выражена. В Москве чаще слушают русскую популярную музыку, в Петербурге — джаз.\n",
    "\n",
    "Однако пропуски в данных ставят под сомнение этот результат. В Москве их так много, что рейтинг топ-10 мог бы выглядеть иначе, если бы не утерянные  данные о жанрах."
   ]
  },
  {
   "cell_type": "markdown",
   "metadata": {
    "id": "JolODAqr_Zcu"
   },
   "source": [
    "### 3.3 Жанровые предпочтения в Москве и Петербурге\n",
    "\n",
    "Гипотеза: Петербург — столица рэпа, музыку этого жанра там слушают чаще, чем в Москве.  А Москва — город контрастов, в котором, тем не менее, преобладает поп-музыка."
   ]
  },
  {
   "cell_type": "markdown",
   "metadata": {
    "id": "DlegSvaT_Zcu",
    "tags": [
     "start_task"
    ]
   },
   "source": [
    "Чтобы проверить эту гипотезу, для начала сгруппируем таблицу `moscow_general` по жанру и посчитаем прослушивания треков каждого жанра методом `count()`. Затем отсортируем результат в порядке убывания и сохраним его в таблице `moscow_genres`."
   ]
  },
  {
   "cell_type": "code",
   "execution_count": 306,
   "metadata": {
    "id": "r19lIPke_Zcu"
   },
   "outputs": [],
   "source": [
    "moscow_genres = moscow_general.groupby('genre')['genre'].count().sort_values(ascending=False)"
   ]
  },
  {
   "cell_type": "markdown",
   "metadata": {
    "id": "6kMuomxTiIr8",
    "tags": [
     "start_task"
    ]
   },
   "source": [
    "Выведем на экран первые десять строк `moscow_genres`:"
   ]
  },
  {
   "cell_type": "code",
   "execution_count": 305,
   "metadata": {
    "id": "WhCSooF8_Zcv"
   },
   "outputs": [
    {
     "data": {
      "text/plain": [
       "genre\n",
       "pop            5892\n",
       "dance          4435\n",
       "rock           3965\n",
       "electronic     3786\n",
       "hiphop         2096\n",
       "classical      1616\n",
       "world          1432\n",
       "alternative    1379\n",
       "ruspop         1372\n",
       "rusrap         1161\n",
       "Name: genre, dtype: int64"
      ]
     },
     "metadata": {},
     "output_type": "display_data"
    }
   ],
   "source": [
    "# просмотр первых 10 строк moscow_genres\n",
    "print(moscow_genres.head(10))"
   ]
  },
  {
   "cell_type": "markdown",
   "metadata": {
    "id": "cnPG2vnN_Zcv",
    "tags": [
     "start_task"
    ]
   },
   "source": [
    "Теперь повторим то же и для Петербурга:"
   ]
  },
  {
   "cell_type": "code",
   "execution_count": 307,
   "metadata": {
    "id": "gluLIpE7_Zcv"
   },
   "outputs": [],
   "source": [
    "spb_genres = spb_general.groupby('genre')['genre'].count().sort_values(ascending=False)"
   ]
  },
  {
   "cell_type": "markdown",
   "metadata": {
    "id": "5Doha_ODgyQ8",
    "tags": [
     "start_task"
    ]
   },
   "source": [
    "Выведем на экран первые десять строк `spb_genres`:"
   ]
  },
  {
   "cell_type": "code",
   "execution_count": 308,
   "metadata": {
    "id": "uaGJHjVU_Zcv"
   },
   "outputs": [
    {
     "data": {
      "text/plain": [
       "genre\n",
       "pop            2431\n",
       "dance          1932\n",
       "rock           1879\n",
       "electronic     1736\n",
       "hiphop          960\n",
       "alternative     649\n",
       "classical       646\n",
       "rusrap          564\n",
       "ruspop          538\n",
       "world           515\n",
       "Name: genre, dtype: int64"
      ]
     },
     "metadata": {},
     "output_type": "display_data"
    }
   ],
   "source": [
    "# просмотр первых 10 строк spb_genres\n",
    "print(spb_genres.head(10))"
   ]
  },
  {
   "cell_type": "markdown",
   "metadata": {
    "id": "RY51YJYu_Zcv"
   },
   "source": [
    "**Выводы**"
   ]
  },
  {
   "cell_type": "markdown",
   "metadata": {
    "id": "nVhnJEm__Zcv"
   },
   "source": [
    "Гипотеза частично подтвердилась:\n",
    "* Поп-музыка — самый популярный жанр в Москве, как и предполагала гипотеза. Более того, в топ-10 жанров встречается близкий жанр — русская популярная музыка.\n",
    "* Вопреки ожиданиям, рэп одинаково популярен в Москве и Петербурге. \n"
   ]
  },
  {
   "cell_type": "markdown",
   "metadata": {
    "id": "ykKQ0N65_Zcv"
   },
   "source": [
    "## Итоги исследования"
   ]
  },
  {
   "cell_type": "markdown",
   "metadata": {
    "id": "tjUwbHb3_Zcv"
   },
   "source": [
    "Были проверены три гипотезы и установлено следующее:\n",
    "\n",
    "1. День недели по-разному влияет на активность пользователей в Москве и Петербурге. \n",
    "\n",
    "Первая гипотеза полностью подтвердилась.\n",
    "\n",
    "2. Музыкальные предпочтения не сильно меняются в течение недели — будь то Москва или Петербург. Небольшие различия заметны в начале недели, по понедельникам:\n",
    "* в Москве слушают музыку жанра “world”,\n",
    "* в Петербурге — джаз и классику.\n",
    "\n",
    "Таким образом, вторая гипотеза подтвердилась лишь отчасти. Этот результат мог оказаться иным, если бы не пропуски в данных.\n",
    "\n",
    "3. Во вкусах пользователей Москвы и Петербурга больше общего чем различий. Вопреки ожиданиям, предпочтения жанров в Петербурге напоминают московские.\n",
    "\n",
    "Третья гипотеза не подтвердилась. Если различия в предпочтениях и существуют, на основной массе пользователей они незаметны."
   ]
  }
 ],
 "metadata": {
  "ExecuteTimeLog": [
   {
    "duration": 436,
    "start_time": "2022-08-15T14:46:59.706Z"
   },
   {
    "duration": 4,
    "start_time": "2022-08-15T14:47:02.899Z"
   },
   {
    "duration": 260,
    "start_time": "2022-08-15T14:48:24.735Z"
   },
   {
    "duration": 19,
    "start_time": "2022-08-15T14:49:44.639Z"
   },
   {
    "duration": 43,
    "start_time": "2022-08-15T14:50:34.800Z"
   },
   {
    "duration": 24,
    "start_time": "2022-08-15T14:59:06.255Z"
   },
   {
    "duration": 12,
    "start_time": "2022-08-15T15:03:20.951Z"
   },
   {
    "duration": 24,
    "start_time": "2022-08-15T15:03:40.365Z"
   },
   {
    "duration": 25,
    "start_time": "2022-08-15T15:05:02.640Z"
   },
   {
    "duration": 81,
    "start_time": "2022-08-15T15:13:59.437Z"
   },
   {
    "duration": 100,
    "start_time": "2022-08-15T15:14:42.566Z"
   },
   {
    "duration": 71,
    "start_time": "2022-08-15T15:14:46.926Z"
   },
   {
    "duration": 21,
    "start_time": "2022-08-15T15:15:34.941Z"
   },
   {
    "duration": 935,
    "start_time": "2022-08-15T15:16:36.964Z"
   },
   {
    "duration": 62,
    "start_time": "2022-08-15T15:19:10.358Z"
   },
   {
    "duration": 89,
    "start_time": "2022-08-15T15:19:17.105Z"
   },
   {
    "duration": 77,
    "start_time": "2022-08-15T15:23:47.386Z"
   },
   {
    "duration": 80,
    "start_time": "2022-08-15T15:24:40.189Z"
   },
   {
    "duration": 60,
    "start_time": "2022-08-15T15:25:04.635Z"
   },
   {
    "duration": 8,
    "start_time": "2022-08-15T15:39:35.794Z"
   },
   {
    "duration": 9,
    "start_time": "2022-08-15T15:42:18.134Z"
   },
   {
    "duration": 10,
    "start_time": "2022-08-15T15:46:08.408Z"
   },
   {
    "duration": 55,
    "start_time": "2022-08-15T15:49:40.382Z"
   },
   {
    "duration": 7,
    "start_time": "2022-08-15T16:00:00.690Z"
   },
   {
    "duration": 38,
    "start_time": "2022-08-15T16:00:39.736Z"
   },
   {
    "duration": 7,
    "start_time": "2022-08-15T16:01:15.983Z"
   },
   {
    "duration": 7,
    "start_time": "2022-08-15T16:02:02.258Z"
   },
   {
    "duration": 48,
    "start_time": "2022-08-15T16:02:57.486Z"
   },
   {
    "duration": 60,
    "start_time": "2022-08-15T16:04:21.601Z"
   },
   {
    "duration": 48,
    "start_time": "2022-08-15T16:05:04.443Z"
   },
   {
    "duration": 15,
    "start_time": "2022-08-15T16:06:17.341Z"
   },
   {
    "duration": 9,
    "start_time": "2022-08-15T16:07:36.343Z"
   },
   {
    "duration": 14,
    "start_time": "2022-08-15T16:12:04.088Z"
   },
   {
    "duration": 67,
    "start_time": "2022-08-15T16:12:40.907Z"
   },
   {
    "duration": 10,
    "start_time": "2022-08-15T16:13:35.090Z"
   },
   {
    "duration": 10,
    "start_time": "2022-08-15T16:17:25.756Z"
   },
   {
    "duration": 15,
    "start_time": "2022-08-15T16:17:37.842Z"
   },
   {
    "duration": 4,
    "start_time": "2022-08-15T16:20:31.331Z"
   },
   {
    "duration": 5,
    "start_time": "2022-08-15T16:22:05.335Z"
   },
   {
    "duration": 5,
    "start_time": "2022-08-15T16:22:19.136Z"
   },
   {
    "duration": 4,
    "start_time": "2022-08-15T16:23:21.487Z"
   },
   {
    "duration": 4,
    "start_time": "2022-08-15T16:24:29.238Z"
   },
   {
    "duration": 3,
    "start_time": "2022-08-15T16:26:24.267Z"
   },
   {
    "duration": 54,
    "start_time": "2022-08-16T09:30:28.957Z"
   },
   {
    "duration": 6,
    "start_time": "2022-08-16T09:32:19.734Z"
   },
   {
    "duration": 6,
    "start_time": "2022-08-16T09:33:11.999Z"
   },
   {
    "duration": 7,
    "start_time": "2022-08-16T09:33:42.219Z"
   },
   {
    "duration": 7,
    "start_time": "2022-08-16T09:33:57.255Z"
   },
   {
    "duration": 6,
    "start_time": "2022-08-16T09:34:07.065Z"
   },
   {
    "duration": 419,
    "start_time": "2022-08-16T09:36:27.376Z"
   },
   {
    "duration": 2,
    "start_time": "2022-08-16T09:36:31.422Z"
   },
   {
    "duration": 241,
    "start_time": "2022-08-16T09:36:33.875Z"
   },
   {
    "duration": 17,
    "start_time": "2022-08-16T09:36:37.701Z"
   },
   {
    "duration": 27,
    "start_time": "2022-08-16T09:36:43.703Z"
   },
   {
    "duration": 22,
    "start_time": "2022-08-16T09:36:50.570Z"
   },
   {
    "duration": 33,
    "start_time": "2022-08-16T09:37:01.062Z"
   },
   {
    "duration": 11,
    "start_time": "2022-08-16T09:38:08.042Z"
   },
   {
    "duration": 22,
    "start_time": "2022-08-16T09:38:17.145Z"
   },
   {
    "duration": 43,
    "start_time": "2022-08-16T09:38:28.865Z"
   },
   {
    "duration": 3,
    "start_time": "2022-08-16T09:38:47.019Z"
   },
   {
    "duration": 181,
    "start_time": "2022-08-16T09:38:49.945Z"
   },
   {
    "duration": 10,
    "start_time": "2022-08-16T09:38:51.816Z"
   },
   {
    "duration": 26,
    "start_time": "2022-08-16T09:38:54.158Z"
   },
   {
    "duration": 2,
    "start_time": "2022-08-16T09:38:59.304Z"
   },
   {
    "duration": 37,
    "start_time": "2022-08-16T09:39:02.789Z"
   },
   {
    "duration": 11,
    "start_time": "2022-08-16T09:39:07.072Z"
   },
   {
    "duration": 26,
    "start_time": "2022-08-16T09:39:08.503Z"
   },
   {
    "duration": 21,
    "start_time": "2022-08-16T09:39:11.170Z"
   },
   {
    "duration": 74,
    "start_time": "2022-08-16T09:39:13.185Z"
   },
   {
    "duration": 21,
    "start_time": "2022-08-16T09:39:15.380Z"
   },
   {
    "duration": 62,
    "start_time": "2022-08-16T09:39:17.550Z"
   },
   {
    "duration": 78,
    "start_time": "2022-08-16T09:39:18.921Z"
   },
   {
    "duration": 61,
    "start_time": "2022-08-16T09:39:21.819Z"
   },
   {
    "duration": 56,
    "start_time": "2022-08-16T09:39:29.250Z"
   },
   {
    "duration": 11,
    "start_time": "2022-08-16T09:39:41.042Z"
   },
   {
    "duration": 11,
    "start_time": "2022-08-16T09:39:52.489Z"
   },
   {
    "duration": 17,
    "start_time": "2022-08-16T09:40:53.773Z"
   },
   {
    "duration": 10,
    "start_time": "2022-08-16T09:42:27.582Z"
   },
   {
    "duration": 13,
    "start_time": "2022-08-16T09:42:54.939Z"
   },
   {
    "duration": 5,
    "start_time": "2022-08-16T10:27:57.498Z"
   },
   {
    "duration": 8,
    "start_time": "2022-08-16T10:28:50.657Z"
   },
   {
    "duration": 8,
    "start_time": "2022-08-16T10:30:30.100Z"
   },
   {
    "duration": 9,
    "start_time": "2022-08-16T10:33:12.322Z"
   },
   {
    "duration": 9,
    "start_time": "2022-08-16T10:34:09.821Z"
   },
   {
    "duration": 5,
    "start_time": "2022-08-16T10:40:48.095Z"
   },
   {
    "duration": 6,
    "start_time": "2022-08-16T10:41:21.719Z"
   },
   {
    "duration": 66,
    "start_time": "2022-08-16T10:41:32.636Z"
   },
   {
    "duration": 6,
    "start_time": "2022-08-16T10:43:32.811Z"
   },
   {
    "duration": 5,
    "start_time": "2022-08-16T10:43:53.355Z"
   },
   {
    "duration": 5,
    "start_time": "2022-08-16T10:44:19.911Z"
   },
   {
    "duration": 5,
    "start_time": "2022-08-16T10:49:03.287Z"
   },
   {
    "duration": 5,
    "start_time": "2022-08-16T10:50:49.082Z"
   },
   {
    "duration": 4,
    "start_time": "2022-08-16T10:50:57.744Z"
   },
   {
    "duration": 6,
    "start_time": "2022-08-16T10:51:44.382Z"
   },
   {
    "duration": 8,
    "start_time": "2022-08-16T10:52:24.037Z"
   },
   {
    "duration": 12,
    "start_time": "2022-08-16T10:53:41.955Z"
   },
   {
    "duration": 11,
    "start_time": "2022-08-16T10:58:49.428Z"
   },
   {
    "duration": 8,
    "start_time": "2022-08-16T10:59:05.427Z"
   },
   {
    "duration": 7,
    "start_time": "2022-08-16T10:59:42.749Z"
   },
   {
    "duration": 8,
    "start_time": "2022-08-16T11:00:11.395Z"
   },
   {
    "duration": 10,
    "start_time": "2022-08-16T11:00:21.686Z"
   },
   {
    "duration": 7,
    "start_time": "2022-08-16T11:34:53.082Z"
   },
   {
    "duration": 8,
    "start_time": "2022-08-16T11:36:26.500Z"
   },
   {
    "duration": 4,
    "start_time": "2022-08-16T11:45:26.549Z"
   },
   {
    "duration": 425,
    "start_time": "2022-08-16T16:08:22.871Z"
   },
   {
    "duration": 82,
    "start_time": "2022-08-16T16:12:16.596Z"
   },
   {
    "duration": 4,
    "start_time": "2022-08-16T16:12:24.695Z"
   },
   {
    "duration": 9,
    "start_time": "2022-08-16T16:12:28.116Z"
   },
   {
    "duration": 3,
    "start_time": "2022-08-16T16:12:35.295Z"
   },
   {
    "duration": 247,
    "start_time": "2022-08-16T16:12:37.027Z"
   },
   {
    "duration": 17,
    "start_time": "2022-08-16T16:12:39.020Z"
   },
   {
    "duration": 31,
    "start_time": "2022-08-16T16:12:42.772Z"
   },
   {
    "duration": 4,
    "start_time": "2022-08-16T16:12:49.271Z"
   },
   {
    "duration": 36,
    "start_time": "2022-08-16T16:12:52.554Z"
   },
   {
    "duration": 15,
    "start_time": "2022-08-16T16:12:56.272Z"
   },
   {
    "duration": 29,
    "start_time": "2022-08-16T16:12:58.325Z"
   },
   {
    "duration": 22,
    "start_time": "2022-08-16T16:13:01.613Z"
   },
   {
    "duration": 83,
    "start_time": "2022-08-16T16:13:04.316Z"
   },
   {
    "duration": 28,
    "start_time": "2022-08-16T16:13:06.340Z"
   },
   {
    "duration": 71,
    "start_time": "2022-08-16T16:13:09.698Z"
   },
   {
    "duration": 64,
    "start_time": "2022-08-16T16:13:11.571Z"
   },
   {
    "duration": 64,
    "start_time": "2022-08-16T16:13:13.642Z"
   },
   {
    "duration": 46,
    "start_time": "2022-08-16T16:13:16.426Z"
   },
   {
    "duration": 10,
    "start_time": "2022-08-16T16:13:27.447Z"
   },
   {
    "duration": 7,
    "start_time": "2022-08-16T16:13:34.570Z"
   },
   {
    "duration": 12,
    "start_time": "2022-08-16T16:13:39.036Z"
   },
   {
    "duration": 14,
    "start_time": "2022-08-16T16:13:43.838Z"
   },
   {
    "duration": 11,
    "start_time": "2022-08-16T16:13:56.284Z"
   },
   {
    "duration": 4,
    "start_time": "2022-08-16T16:14:02.769Z"
   },
   {
    "duration": 20,
    "start_time": "2022-08-16T16:14:05.576Z"
   },
   {
    "duration": 15,
    "start_time": "2022-08-16T16:16:29.898Z"
   },
   {
    "duration": 16,
    "start_time": "2022-08-16T16:17:02.292Z"
   },
   {
    "duration": 14,
    "start_time": "2022-08-16T16:17:17.674Z"
   },
   {
    "duration": 16,
    "start_time": "2022-08-16T16:17:36.370Z"
   },
   {
    "duration": 14,
    "start_time": "2022-08-16T16:17:46.987Z"
   },
   {
    "duration": 17,
    "start_time": "2022-08-16T17:02:15.242Z"
   },
   {
    "duration": 14,
    "start_time": "2022-08-16T17:03:40.254Z"
   },
   {
    "duration": 11,
    "start_time": "2022-08-16T17:07:02.397Z"
   },
   {
    "duration": 7,
    "start_time": "2022-08-16T17:14:42.968Z"
   },
   {
    "duration": 2,
    "start_time": "2022-08-16T17:17:06.382Z"
   },
   {
    "duration": 167,
    "start_time": "2022-08-16T17:17:08.316Z"
   },
   {
    "duration": 11,
    "start_time": "2022-08-16T17:17:10.281Z"
   },
   {
    "duration": 29,
    "start_time": "2022-08-16T17:17:14.881Z"
   },
   {
    "duration": 2,
    "start_time": "2022-08-16T17:17:18.031Z"
   },
   {
    "duration": 27,
    "start_time": "2022-08-16T17:17:21.785Z"
   },
   {
    "duration": 9,
    "start_time": "2022-08-16T17:17:23.812Z"
   },
   {
    "duration": 28,
    "start_time": "2022-08-16T17:17:25.448Z"
   },
   {
    "duration": 23,
    "start_time": "2022-08-16T17:17:27.479Z"
   },
   {
    "duration": 93,
    "start_time": "2022-08-16T17:17:29.743Z"
   },
   {
    "duration": 22,
    "start_time": "2022-08-16T17:17:31.084Z"
   },
   {
    "duration": 63,
    "start_time": "2022-08-16T17:17:32.425Z"
   },
   {
    "duration": 68,
    "start_time": "2022-08-16T17:17:33.489Z"
   },
   {
    "duration": 57,
    "start_time": "2022-08-16T17:17:34.611Z"
   },
   {
    "duration": 36,
    "start_time": "2022-08-16T17:17:36.910Z"
   },
   {
    "duration": 10,
    "start_time": "2022-08-16T17:17:42.899Z"
   },
   {
    "duration": 6,
    "start_time": "2022-08-16T17:18:14.079Z"
   },
   {
    "duration": 6,
    "start_time": "2022-08-16T17:18:16.117Z"
   },
   {
    "duration": 6,
    "start_time": "2022-08-16T17:18:43.158Z"
   },
   {
    "duration": 387,
    "start_time": "2022-08-17T15:15:56.369Z"
   },
   {
    "duration": 439,
    "start_time": "2022-08-17T15:15:58.762Z"
   },
   {
    "duration": 15,
    "start_time": "2022-08-17T15:16:00.769Z"
   },
   {
    "duration": 26,
    "start_time": "2022-08-17T15:16:05.583Z"
   },
   {
    "duration": 2,
    "start_time": "2022-08-17T15:16:07.561Z"
   },
   {
    "duration": 31,
    "start_time": "2022-08-17T15:16:10.381Z"
   },
   {
    "duration": 12,
    "start_time": "2022-08-17T15:16:16.653Z"
   },
   {
    "duration": 25,
    "start_time": "2022-08-17T15:16:18.231Z"
   },
   {
    "duration": 20,
    "start_time": "2022-08-17T15:16:19.626Z"
   },
   {
    "duration": 71,
    "start_time": "2022-08-17T15:16:22.121Z"
   },
   {
    "duration": 21,
    "start_time": "2022-08-17T15:16:23.707Z"
   },
   {
    "duration": 56,
    "start_time": "2022-08-17T15:16:26.827Z"
   },
   {
    "duration": 63,
    "start_time": "2022-08-17T15:16:28.119Z"
   },
   {
    "duration": 56,
    "start_time": "2022-08-17T15:16:29.266Z"
   },
   {
    "duration": 37,
    "start_time": "2022-08-17T15:16:31.590Z"
   },
   {
    "duration": 9,
    "start_time": "2022-08-17T15:16:33.813Z"
   },
   {
    "duration": 7,
    "start_time": "2022-08-17T15:16:35.221Z"
   },
   {
    "duration": 11,
    "start_time": "2022-08-17T15:16:39.620Z"
   },
   {
    "duration": 9,
    "start_time": "2022-08-17T15:16:40.937Z"
   },
   {
    "duration": 3,
    "start_time": "2022-08-17T15:16:42.809Z"
   },
   {
    "duration": 15,
    "start_time": "2022-08-17T15:16:44.103Z"
   },
   {
    "duration": 14,
    "start_time": "2022-08-17T15:16:45.960Z"
   },
   {
    "duration": 14,
    "start_time": "2022-08-17T15:16:47.475Z"
   },
   {
    "duration": 13,
    "start_time": "2022-08-17T15:16:52.256Z"
   },
   {
    "duration": 18,
    "start_time": "2022-08-17T15:16:55.011Z"
   },
   {
    "duration": 21,
    "start_time": "2022-08-17T15:16:55.925Z"
   },
   {
    "duration": 8,
    "start_time": "2022-08-17T15:16:57.289Z"
   },
   {
    "duration": 6,
    "start_time": "2022-08-17T15:16:59.663Z"
   },
   {
    "duration": 5,
    "start_time": "2022-08-17T15:17:01.500Z"
   },
   {
    "duration": 113,
    "start_time": "2022-08-17T15:17:03.765Z"
   },
   {
    "duration": 4,
    "start_time": "2022-08-17T15:23:22.139Z"
   },
   {
    "duration": 89,
    "start_time": "2022-08-17T15:25:29.968Z"
   },
   {
    "duration": 20,
    "start_time": "2022-08-17T15:25:46.430Z"
   },
   {
    "duration": 19,
    "start_time": "2022-08-17T15:27:53.802Z"
   },
   {
    "duration": 20,
    "start_time": "2022-08-17T15:28:06.758Z"
   },
   {
    "duration": 21,
    "start_time": "2022-08-17T15:29:10.800Z"
   },
   {
    "duration": 18,
    "start_time": "2022-08-17T15:29:41.835Z"
   },
   {
    "duration": 6,
    "start_time": "2022-08-17T15:31:30.787Z"
   },
   {
    "duration": 3,
    "start_time": "2022-08-17T15:31:33.985Z"
   },
   {
    "duration": 19,
    "start_time": "2022-08-17T15:31:37.012Z"
   },
   {
    "duration": 20,
    "start_time": "2022-08-17T15:31:38.457Z"
   },
   {
    "duration": 5,
    "start_time": "2022-08-17T15:36:18.219Z"
   },
   {
    "duration": 19,
    "start_time": "2022-08-17T15:36:20.556Z"
   },
   {
    "duration": 20,
    "start_time": "2022-08-17T15:36:22.821Z"
   },
   {
    "duration": 4,
    "start_time": "2022-08-17T15:36:33.241Z"
   },
   {
    "duration": 77,
    "start_time": "2022-08-17T15:36:37.951Z"
   },
   {
    "duration": 4,
    "start_time": "2022-08-17T15:37:14.159Z"
   },
   {
    "duration": 21,
    "start_time": "2022-08-17T15:37:16.920Z"
   },
   {
    "duration": 19,
    "start_time": "2022-08-17T15:37:21.099Z"
   },
   {
    "duration": 18,
    "start_time": "2022-08-17T15:37:22.675Z"
   },
   {
    "duration": 18,
    "start_time": "2022-08-17T15:37:24.649Z"
   },
   {
    "duration": 6,
    "start_time": "2022-08-17T15:42:35.417Z"
   },
   {
    "duration": 6,
    "start_time": "2022-08-17T15:42:49.033Z"
   },
   {
    "duration": 5,
    "start_time": "2022-08-17T15:46:47.008Z"
   },
   {
    "duration": 974,
    "start_time": "2022-08-17T15:46:51.735Z"
   },
   {
    "duration": 3,
    "start_time": "2022-08-17T15:47:29.439Z"
   },
   {
    "duration": 892,
    "start_time": "2022-08-17T15:47:31.961Z"
   },
   {
    "duration": 5,
    "start_time": "2022-08-17T15:48:56.555Z"
   },
   {
    "duration": 4,
    "start_time": "2022-08-17T15:49:03.720Z"
   },
   {
    "duration": 31,
    "start_time": "2022-08-17T15:49:05.643Z"
   },
   {
    "duration": 21,
    "start_time": "2022-08-17T15:49:09.541Z"
   },
   {
    "duration": 20,
    "start_time": "2022-08-17T15:50:31.216Z"
   },
   {
    "duration": 20,
    "start_time": "2022-08-17T15:50:36.901Z"
   },
   {
    "duration": 17,
    "start_time": "2022-08-17T15:50:40.160Z"
   },
   {
    "duration": 17,
    "start_time": "2022-08-17T15:50:42.821Z"
   },
   {
    "duration": 7,
    "start_time": "2022-08-17T15:50:49.603Z"
   },
   {
    "duration": 949,
    "start_time": "2022-08-17T15:50:51.685Z"
   },
   {
    "duration": 972,
    "start_time": "2022-08-17T15:52:59.376Z"
   },
   {
    "duration": 4,
    "start_time": "2022-08-17T15:54:10.458Z"
   },
   {
    "duration": 1055,
    "start_time": "2022-08-17T15:54:13.237Z"
   },
   {
    "duration": 4,
    "start_time": "2022-08-17T15:55:45.381Z"
   },
   {
    "duration": 20,
    "start_time": "2022-08-17T15:55:47.626Z"
   },
   {
    "duration": 8,
    "start_time": "2022-08-17T15:56:44.038Z"
   },
   {
    "duration": 4,
    "start_time": "2022-08-17T15:56:58.845Z"
   },
   {
    "duration": 5,
    "start_time": "2022-08-17T15:57:06.270Z"
   },
   {
    "duration": 23,
    "start_time": "2022-08-17T15:57:10.828Z"
   },
   {
    "duration": 4,
    "start_time": "2022-08-17T15:57:21.000Z"
   },
   {
    "duration": 20,
    "start_time": "2022-08-17T15:57:25.190Z"
   },
   {
    "duration": 19,
    "start_time": "2022-08-17T15:58:15.585Z"
   },
   {
    "duration": 20,
    "start_time": "2022-08-17T15:58:18.110Z"
   },
   {
    "duration": 21,
    "start_time": "2022-08-17T15:58:26.019Z"
   },
   {
    "duration": 18,
    "start_time": "2022-08-17T15:58:28.099Z"
   },
   {
    "duration": 3,
    "start_time": "2022-08-17T15:59:02.448Z"
   },
   {
    "duration": 5,
    "start_time": "2022-08-17T16:01:15.061Z"
   },
   {
    "duration": 4,
    "start_time": "2022-08-17T16:01:42.224Z"
   },
   {
    "duration": 25,
    "start_time": "2022-08-17T16:01:44.951Z"
   },
   {
    "duration": 4,
    "start_time": "2022-08-17T16:02:39.874Z"
   },
   {
    "duration": 22,
    "start_time": "2022-08-17T16:02:42.618Z"
   },
   {
    "duration": 4,
    "start_time": "2022-08-17T16:03:15.221Z"
   },
   {
    "duration": 21,
    "start_time": "2022-08-17T16:03:19.449Z"
   },
   {
    "duration": 20,
    "start_time": "2022-08-17T16:03:23.028Z"
   },
   {
    "duration": 18,
    "start_time": "2022-08-17T16:03:25.435Z"
   },
   {
    "duration": 18,
    "start_time": "2022-08-17T16:03:26.765Z"
   },
   {
    "duration": 4,
    "start_time": "2022-08-17T16:04:26.780Z"
   },
   {
    "duration": 1180,
    "start_time": "2022-08-17T16:04:29.379Z"
   },
   {
    "duration": 4,
    "start_time": "2022-08-17T16:05:06.799Z"
   },
   {
    "duration": 6,
    "start_time": "2022-08-17T16:05:44.997Z"
   },
   {
    "duration": 19,
    "start_time": "2022-08-17T16:05:47.329Z"
   },
   {
    "duration": 19,
    "start_time": "2022-08-17T16:05:51.856Z"
   },
   {
    "duration": 5,
    "start_time": "2022-08-17T16:06:04.935Z"
   },
   {
    "duration": 8,
    "start_time": "2022-08-17T16:06:25.988Z"
   },
   {
    "duration": 6,
    "start_time": "2022-08-17T16:06:26.780Z"
   },
   {
    "duration": 5,
    "start_time": "2022-08-17T16:06:31.064Z"
   },
   {
    "duration": 19,
    "start_time": "2022-08-17T16:06:35.600Z"
   },
   {
    "duration": 20,
    "start_time": "2022-08-17T16:06:36.708Z"
   },
   {
    "duration": 4,
    "start_time": "2022-08-17T16:06:52.312Z"
   },
   {
    "duration": 1340,
    "start_time": "2022-08-17T16:06:55.612Z"
   },
   {
    "duration": 7,
    "start_time": "2022-08-17T16:08:39.546Z"
   },
   {
    "duration": 1681,
    "start_time": "2022-08-17T16:08:44.646Z"
   },
   {
    "duration": 0,
    "start_time": "2022-08-17T16:08:46.329Z"
   },
   {
    "duration": 5,
    "start_time": "2022-08-17T16:08:50.661Z"
   },
   {
    "duration": 19,
    "start_time": "2022-08-17T16:08:53.124Z"
   },
   {
    "duration": 20,
    "start_time": "2022-08-17T16:08:59.673Z"
   },
   {
    "duration": 18,
    "start_time": "2022-08-17T16:09:03.502Z"
   },
   {
    "duration": 6,
    "start_time": "2022-08-17T16:09:18.005Z"
   },
   {
    "duration": 20,
    "start_time": "2022-08-17T16:09:23.776Z"
   },
   {
    "duration": 6,
    "start_time": "2022-08-17T16:09:37.812Z"
   },
   {
    "duration": 20,
    "start_time": "2022-08-17T16:09:41.802Z"
   },
   {
    "duration": 20,
    "start_time": "2022-08-17T16:09:43.149Z"
   },
   {
    "duration": 19,
    "start_time": "2022-08-17T16:09:47.171Z"
   },
   {
    "duration": 15,
    "start_time": "2022-08-17T16:10:12.744Z"
   },
   {
    "duration": 10,
    "start_time": "2022-08-17T16:10:17.115Z"
   },
   {
    "duration": 5,
    "start_time": "2022-08-17T16:10:38.515Z"
   },
   {
    "duration": 8,
    "start_time": "2022-08-17T16:10:46.353Z"
   },
   {
    "duration": 14,
    "start_time": "2022-08-17T16:11:09.166Z"
   },
   {
    "duration": 8,
    "start_time": "2022-08-17T16:11:29.719Z"
   },
   {
    "duration": 81,
    "start_time": "2022-08-17T16:12:21.213Z"
   },
   {
    "duration": 7,
    "start_time": "2022-08-17T16:12:28.625Z"
   },
   {
    "duration": 6,
    "start_time": "2022-08-17T16:12:47.414Z"
   },
   {
    "duration": 6,
    "start_time": "2022-08-17T16:12:50.161Z"
   },
   {
    "duration": 8,
    "start_time": "2022-08-17T16:13:28.488Z"
   },
   {
    "duration": 11,
    "start_time": "2022-08-17T16:13:30.725Z"
   },
   {
    "duration": 23,
    "start_time": "2022-08-17T16:13:33.777Z"
   },
   {
    "duration": 24,
    "start_time": "2022-08-17T16:13:36.177Z"
   },
   {
    "duration": 26,
    "start_time": "2022-08-17T16:13:38.220Z"
   },
   {
    "duration": 27,
    "start_time": "2022-08-17T16:13:39.976Z"
   },
   {
    "duration": 28,
    "start_time": "2022-08-17T16:14:37.393Z"
   },
   {
    "duration": 20,
    "start_time": "2022-08-17T16:14:45.948Z"
   },
   {
    "duration": 19,
    "start_time": "2022-08-17T16:14:57.185Z"
   },
   {
    "duration": 18,
    "start_time": "2022-08-17T16:15:07.713Z"
   },
   {
    "duration": 19,
    "start_time": "2022-08-17T16:15:14.971Z"
   },
   {
    "duration": 19,
    "start_time": "2022-08-17T16:15:27.322Z"
   },
   {
    "duration": 20,
    "start_time": "2022-08-17T16:15:30.027Z"
   },
   {
    "duration": 9,
    "start_time": "2022-08-17T16:16:52.523Z"
   },
   {
    "duration": 22,
    "start_time": "2022-08-17T16:16:55.953Z"
   },
   {
    "duration": 19,
    "start_time": "2022-08-17T16:16:58.887Z"
   },
   {
    "duration": 5,
    "start_time": "2022-08-17T16:18:27.168Z"
   },
   {
    "duration": 4,
    "start_time": "2022-08-17T16:20:21.457Z"
   },
   {
    "duration": 22,
    "start_time": "2022-08-17T16:20:24.399Z"
   },
   {
    "duration": 18,
    "start_time": "2022-08-17T16:20:27.360Z"
   },
   {
    "duration": 26,
    "start_time": "2022-08-17T16:20:29.398Z"
   },
   {
    "duration": 23,
    "start_time": "2022-08-17T16:20:31.841Z"
   },
   {
    "duration": 4,
    "start_time": "2022-08-17T16:20:41.372Z"
   },
   {
    "duration": 17,
    "start_time": "2022-08-17T16:20:43.742Z"
   },
   {
    "duration": 17,
    "start_time": "2022-08-17T16:20:47.087Z"
   },
   {
    "duration": 19,
    "start_time": "2022-08-17T16:20:49.390Z"
   },
   {
    "duration": 19,
    "start_time": "2022-08-17T16:20:51.581Z"
   },
   {
    "duration": 29,
    "start_time": "2022-08-17T16:20:54.142Z"
   },
   {
    "duration": 11,
    "start_time": "2022-08-17T16:21:36.623Z"
   },
   {
    "duration": 10,
    "start_time": "2022-08-17T16:21:38.451Z"
   },
   {
    "duration": 5,
    "start_time": "2022-08-17T16:21:40.832Z"
   },
   {
    "duration": 18,
    "start_time": "2022-08-17T16:21:42.925Z"
   },
   {
    "duration": 3,
    "start_time": "2022-08-17T16:22:06.428Z"
   },
   {
    "duration": 18,
    "start_time": "2022-08-17T16:22:08.625Z"
   },
   {
    "duration": 18,
    "start_time": "2022-08-17T16:22:11.974Z"
   },
   {
    "duration": 5,
    "start_time": "2022-08-17T16:31:46.845Z"
   },
   {
    "duration": 18,
    "start_time": "2022-08-17T16:31:50.802Z"
   },
   {
    "duration": 17,
    "start_time": "2022-08-17T16:31:54.000Z"
   },
   {
    "duration": 5,
    "start_time": "2022-08-17T16:44:28.493Z"
   },
   {
    "duration": 20,
    "start_time": "2022-08-17T16:44:31.718Z"
   },
   {
    "duration": 18,
    "start_time": "2022-08-17T16:44:34.438Z"
   },
   {
    "duration": 14,
    "start_time": "2022-08-17T16:46:04.396Z"
   },
   {
    "duration": 16,
    "start_time": "2022-08-17T16:46:05.561Z"
   },
   {
    "duration": 17,
    "start_time": "2022-08-17T16:46:06.008Z"
   },
   {
    "duration": 7,
    "start_time": "2022-08-17T16:47:02.635Z"
   },
   {
    "duration": 7,
    "start_time": "2022-08-17T16:47:09.163Z"
   },
   {
    "duration": 5,
    "start_time": "2022-08-17T16:47:11.503Z"
   },
   {
    "duration": 19,
    "start_time": "2022-08-17T16:47:14.052Z"
   },
   {
    "duration": 18,
    "start_time": "2022-08-17T16:47:16.196Z"
   },
   {
    "duration": 10,
    "start_time": "2022-08-17T16:52:24.859Z"
   },
   {
    "duration": 10,
    "start_time": "2022-08-17T16:52:40.228Z"
   },
   {
    "duration": 7,
    "start_time": "2022-08-17T16:52:50.996Z"
   },
   {
    "duration": 10,
    "start_time": "2022-08-17T16:53:50.424Z"
   },
   {
    "duration": 5,
    "start_time": "2022-08-17T16:54:42.486Z"
   },
   {
    "duration": 19,
    "start_time": "2022-08-17T16:54:44.668Z"
   },
   {
    "duration": 16,
    "start_time": "2022-08-17T16:54:47.125Z"
   },
   {
    "duration": 20,
    "start_time": "2022-08-17T16:54:51.105Z"
   },
   {
    "duration": 21,
    "start_time": "2022-08-17T16:54:53.434Z"
   },
   {
    "duration": 6,
    "start_time": "2022-08-17T16:57:00.081Z"
   },
   {
    "duration": 9,
    "start_time": "2022-08-17T16:58:28.894Z"
   },
   {
    "duration": 7,
    "start_time": "2022-08-17T16:58:34.531Z"
   },
   {
    "duration": 2,
    "start_time": "2022-08-17T16:59:11.504Z"
   },
   {
    "duration": 170,
    "start_time": "2022-08-17T16:59:12.928Z"
   },
   {
    "duration": 10,
    "start_time": "2022-08-17T16:59:14.353Z"
   },
   {
    "duration": 27,
    "start_time": "2022-08-17T16:59:16.740Z"
   },
   {
    "duration": 2,
    "start_time": "2022-08-17T16:59:18.902Z"
   },
   {
    "duration": 24,
    "start_time": "2022-08-17T16:59:22.161Z"
   },
   {
    "duration": 9,
    "start_time": "2022-08-17T16:59:25.573Z"
   },
   {
    "duration": 27,
    "start_time": "2022-08-17T16:59:27.029Z"
   },
   {
    "duration": 20,
    "start_time": "2022-08-17T16:59:28.256Z"
   },
   {
    "duration": 89,
    "start_time": "2022-08-17T16:59:30.721Z"
   },
   {
    "duration": 23,
    "start_time": "2022-08-17T16:59:31.929Z"
   },
   {
    "duration": 60,
    "start_time": "2022-08-17T16:59:33.329Z"
   },
   {
    "duration": 62,
    "start_time": "2022-08-17T16:59:34.362Z"
   },
   {
    "duration": 53,
    "start_time": "2022-08-17T16:59:35.667Z"
   },
   {
    "duration": 32,
    "start_time": "2022-08-17T16:59:37.894Z"
   },
   {
    "duration": 8,
    "start_time": "2022-08-17T16:59:39.356Z"
   },
   {
    "duration": 7,
    "start_time": "2022-08-17T16:59:43.734Z"
   },
   {
    "duration": 10,
    "start_time": "2022-08-17T16:59:51.317Z"
   },
   {
    "duration": 9,
    "start_time": "2022-08-17T16:59:55.316Z"
   },
   {
    "duration": 4,
    "start_time": "2022-08-17T17:00:00.445Z"
   },
   {
    "duration": 16,
    "start_time": "2022-08-17T17:00:02.678Z"
   },
   {
    "duration": 15,
    "start_time": "2022-08-17T17:00:05.306Z"
   },
   {
    "duration": 15,
    "start_time": "2022-08-17T17:00:07.179Z"
   },
   {
    "duration": 14,
    "start_time": "2022-08-17T17:00:09.609Z"
   },
   {
    "duration": 17,
    "start_time": "2022-08-17T17:00:12.384Z"
   },
   {
    "duration": 16,
    "start_time": "2022-08-17T17:00:13.304Z"
   },
   {
    "duration": 8,
    "start_time": "2022-08-17T17:00:14.824Z"
   },
   {
    "duration": 5,
    "start_time": "2022-08-17T17:00:21.298Z"
   },
   {
    "duration": 5,
    "start_time": "2022-08-17T17:00:22.911Z"
   },
   {
    "duration": 5,
    "start_time": "2022-08-17T17:00:24.847Z"
   },
   {
    "duration": 22,
    "start_time": "2022-08-17T17:00:26.474Z"
   },
   {
    "duration": 20,
    "start_time": "2022-08-17T17:00:27.598Z"
   },
   {
    "duration": 20,
    "start_time": "2022-08-17T17:00:29.853Z"
   },
   {
    "duration": 21,
    "start_time": "2022-08-17T17:00:36.526Z"
   },
   {
    "duration": 5,
    "start_time": "2022-08-17T17:01:25.555Z"
   },
   {
    "duration": 18,
    "start_time": "2022-08-17T17:01:29.938Z"
   },
   {
    "duration": 5,
    "start_time": "2022-08-17T17:01:36.413Z"
   },
   {
    "duration": 5,
    "start_time": "2022-08-17T17:01:38.192Z"
   },
   {
    "duration": 941,
    "start_time": "2022-08-17T17:01:41.177Z"
   },
   {
    "duration": 8,
    "start_time": "2022-08-17T17:02:26.666Z"
   },
   {
    "duration": 10,
    "start_time": "2022-08-17T17:02:28.192Z"
   },
   {
    "duration": 5,
    "start_time": "2022-08-17T17:02:31.091Z"
   },
   {
    "duration": 15,
    "start_time": "2022-08-17T17:02:33.425Z"
   },
   {
    "duration": 11,
    "start_time": "2022-08-17T17:02:40.483Z"
   },
   {
    "duration": 17,
    "start_time": "2022-08-17T17:02:42.768Z"
   },
   {
    "duration": 12,
    "start_time": "2022-08-17T17:02:44.871Z"
   },
   {
    "duration": 3,
    "start_time": "2022-08-17T17:03:37.213Z"
   },
   {
    "duration": 17,
    "start_time": "2022-08-17T17:03:39.535Z"
   },
   {
    "duration": 11,
    "start_time": "2022-08-17T17:03:41.648Z"
   },
   {
    "duration": 15,
    "start_time": "2022-08-17T17:03:44.014Z"
   },
   {
    "duration": 13,
    "start_time": "2022-08-17T17:03:46.158Z"
   },
   {
    "duration": 7,
    "start_time": "2022-08-17T17:04:11.075Z"
   },
   {
    "duration": 4,
    "start_time": "2022-08-17T17:04:25.633Z"
   },
   {
    "duration": 5,
    "start_time": "2022-08-17T17:10:26.552Z"
   },
   {
    "duration": 7,
    "start_time": "2022-08-17T17:10:40.250Z"
   },
   {
    "duration": 78,
    "start_time": "2022-08-17T17:11:34.361Z"
   },
   {
    "duration": 6,
    "start_time": "2022-08-17T17:11:41.765Z"
   },
   {
    "duration": 10,
    "start_time": "2022-08-17T17:12:36.038Z"
   },
   {
    "duration": 6,
    "start_time": "2022-08-17T17:13:09.653Z"
   },
   {
    "duration": 7,
    "start_time": "2022-08-17T17:13:12.293Z"
   },
   {
    "duration": 7,
    "start_time": "2022-08-17T17:13:22.770Z"
   },
   {
    "duration": 4,
    "start_time": "2022-08-17T17:13:24.677Z"
   },
   {
    "duration": 7,
    "start_time": "2022-08-17T17:13:31.124Z"
   },
   {
    "duration": 4,
    "start_time": "2022-08-17T17:13:51.082Z"
   },
   {
    "duration": 9,
    "start_time": "2022-08-17T17:16:07.562Z"
   },
   {
    "duration": 8,
    "start_time": "2022-08-17T17:16:10.629Z"
   },
   {
    "duration": 9,
    "start_time": "2022-08-17T17:16:27.016Z"
   },
   {
    "duration": 7,
    "start_time": "2022-08-17T17:16:30.741Z"
   },
   {
    "duration": 2,
    "start_time": "2022-08-17T17:16:38.980Z"
   },
   {
    "duration": 150,
    "start_time": "2022-08-17T17:16:40.956Z"
   },
   {
    "duration": 10,
    "start_time": "2022-08-17T17:16:42.477Z"
   },
   {
    "duration": 26,
    "start_time": "2022-08-17T17:16:44.186Z"
   },
   {
    "duration": 3,
    "start_time": "2022-08-17T17:16:46.105Z"
   },
   {
    "duration": 29,
    "start_time": "2022-08-17T17:16:49.758Z"
   },
   {
    "duration": 9,
    "start_time": "2022-08-17T17:16:52.221Z"
   },
   {
    "duration": 27,
    "start_time": "2022-08-17T17:16:54.144Z"
   },
   {
    "duration": 21,
    "start_time": "2022-08-17T17:16:55.585Z"
   },
   {
    "duration": 77,
    "start_time": "2022-08-17T17:16:58.043Z"
   },
   {
    "duration": 23,
    "start_time": "2022-08-17T17:17:00.224Z"
   },
   {
    "duration": 58,
    "start_time": "2022-08-17T17:17:02.635Z"
   },
   {
    "duration": 61,
    "start_time": "2022-08-17T17:17:04.449Z"
   },
   {
    "duration": 54,
    "start_time": "2022-08-17T17:17:06.729Z"
   },
   {
    "duration": 34,
    "start_time": "2022-08-17T17:17:10.754Z"
   },
   {
    "duration": 9,
    "start_time": "2022-08-17T17:17:19.269Z"
   },
   {
    "duration": 6,
    "start_time": "2022-08-17T17:17:22.274Z"
   },
   {
    "duration": 9,
    "start_time": "2022-08-17T17:17:42.348Z"
   },
   {
    "duration": 9,
    "start_time": "2022-08-17T17:17:45.250Z"
   },
   {
    "duration": 6,
    "start_time": "2022-08-17T17:17:48.319Z"
   },
   {
    "duration": 9,
    "start_time": "2022-08-17T17:19:24.318Z"
   },
   {
    "duration": 7,
    "start_time": "2022-08-17T17:19:27.841Z"
   },
   {
    "duration": 31,
    "start_time": "2022-08-17T17:22:27.403Z"
   },
   {
    "duration": 52,
    "start_time": "2022-08-17T17:23:14.549Z"
   },
   {
    "duration": 33,
    "start_time": "2022-08-17T17:23:17.035Z"
   },
   {
    "duration": 8,
    "start_time": "2022-08-17T17:23:29.984Z"
   },
   {
    "duration": 7,
    "start_time": "2022-08-17T17:23:32.532Z"
   },
   {
    "duration": 10,
    "start_time": "2022-08-17T17:23:56.727Z"
   },
   {
    "duration": 10,
    "start_time": "2022-08-17T17:24:09.665Z"
   },
   {
    "duration": 3,
    "start_time": "2022-08-17T17:27:07.162Z"
   },
   {
    "duration": 16,
    "start_time": "2022-08-17T17:27:11.028Z"
   },
   {
    "duration": 14,
    "start_time": "2022-08-17T17:27:14.070Z"
   },
   {
    "duration": 13,
    "start_time": "2022-08-17T17:27:16.427Z"
   },
   {
    "duration": 13,
    "start_time": "2022-08-17T17:27:17.499Z"
   },
   {
    "duration": 16,
    "start_time": "2022-08-17T17:27:17.891Z"
   },
   {
    "duration": 13,
    "start_time": "2022-08-17T17:27:18.329Z"
   },
   {
    "duration": 7,
    "start_time": "2022-08-17T17:29:49.525Z"
   },
   {
    "duration": 9,
    "start_time": "2022-08-17T17:31:03.562Z"
   },
   {
    "duration": 13,
    "start_time": "2022-08-17T17:31:09.557Z"
   },
   {
    "duration": 12,
    "start_time": "2022-08-17T17:31:10.537Z"
   },
   {
    "duration": 4,
    "start_time": "2022-08-17T17:31:15.775Z"
   },
   {
    "duration": 4,
    "start_time": "2022-08-17T17:34:05.280Z"
   },
   {
    "duration": 21,
    "start_time": "2022-08-17T17:34:36.107Z"
   },
   {
    "duration": 11,
    "start_time": "2022-08-17T17:34:38.405Z"
   },
   {
    "duration": 15,
    "start_time": "2022-08-17T17:34:41.158Z"
   },
   {
    "duration": 11,
    "start_time": "2022-08-17T17:34:43.713Z"
   },
   {
    "duration": 4,
    "start_time": "2022-08-17T17:35:04.140Z"
   },
   {
    "duration": 9,
    "start_time": "2022-08-17T17:35:05.982Z"
   },
   {
    "duration": 5,
    "start_time": "2022-08-17T17:35:21.324Z"
   },
   {
    "duration": 4,
    "start_time": "2022-08-17T17:35:24.935Z"
   },
   {
    "duration": 10,
    "start_time": "2022-08-17T17:37:03.599Z"
   },
   {
    "duration": 7,
    "start_time": "2022-08-17T17:37:54.322Z"
   },
   {
    "duration": 24,
    "start_time": "2022-08-17T17:37:57.049Z"
   },
   {
    "duration": 24,
    "start_time": "2022-08-17T17:38:53.888Z"
   },
   {
    "duration": 7,
    "start_time": "2022-08-17T17:40:01.202Z"
   },
   {
    "duration": 25,
    "start_time": "2022-08-17T17:40:10.697Z"
   },
   {
    "duration": 7,
    "start_time": "2022-08-17T17:41:40.937Z"
   },
   {
    "duration": 3,
    "start_time": "2022-08-17T17:41:50.735Z"
   },
   {
    "duration": 3,
    "start_time": "2022-08-17T17:43:17.356Z"
   },
   {
    "duration": 31,
    "start_time": "2022-08-17T17:47:41.628Z"
   },
   {
    "duration": 7,
    "start_time": "2022-08-17T17:48:46.215Z"
   },
   {
    "duration": 9,
    "start_time": "2022-08-17T17:49:11.250Z"
   },
   {
    "duration": 6,
    "start_time": "2022-08-17T17:49:13.820Z"
   },
   {
    "duration": 3,
    "start_time": "2022-08-17T17:49:52.803Z"
   },
   {
    "duration": 139,
    "start_time": "2022-08-17T17:49:54.471Z"
   },
   {
    "duration": 6,
    "start_time": "2022-08-17T17:49:55.751Z"
   },
   {
    "duration": 24,
    "start_time": "2022-08-17T17:49:58.130Z"
   },
   {
    "duration": 3,
    "start_time": "2022-08-17T17:50:01.308Z"
   },
   {
    "duration": 3,
    "start_time": "2022-08-17T17:50:04.723Z"
   },
   {
    "duration": 8,
    "start_time": "2022-08-17T17:50:06.853Z"
   },
   {
    "duration": 3,
    "start_time": "2022-08-17T17:50:08.178Z"
   },
   {
    "duration": 28,
    "start_time": "2022-08-17T17:50:10.350Z"
   },
   {
    "duration": 86,
    "start_time": "2022-08-17T17:50:12.325Z"
   },
   {
    "duration": 21,
    "start_time": "2022-08-17T17:50:13.867Z"
   },
   {
    "duration": 54,
    "start_time": "2022-08-17T17:50:15.646Z"
   },
   {
    "duration": 58,
    "start_time": "2022-08-17T17:50:17.097Z"
   },
   {
    "duration": 53,
    "start_time": "2022-08-17T17:50:18.305Z"
   },
   {
    "duration": 30,
    "start_time": "2022-08-17T17:50:21.856Z"
   },
   {
    "duration": 14,
    "start_time": "2022-08-17T17:50:32.087Z"
   },
   {
    "duration": 6,
    "start_time": "2022-08-17T17:50:37.794Z"
   },
   {
    "duration": 6,
    "start_time": "2022-08-17T17:50:43.208Z"
   },
   {
    "duration": 9,
    "start_time": "2022-08-17T17:52:09.396Z"
   },
   {
    "duration": 6,
    "start_time": "2022-08-17T17:52:13.066Z"
   },
   {
    "duration": 8,
    "start_time": "2022-08-17T17:52:57.219Z"
   },
   {
    "duration": 6,
    "start_time": "2022-08-17T17:53:00.170Z"
   },
   {
    "duration": 8,
    "start_time": "2022-08-17T17:54:21.098Z"
   },
   {
    "duration": 8,
    "start_time": "2022-08-17T17:55:06.348Z"
   },
   {
    "duration": 6,
    "start_time": "2022-08-17T17:55:09.014Z"
   },
   {
    "duration": 9,
    "start_time": "2022-08-17T17:55:43.138Z"
   },
   {
    "duration": 7,
    "start_time": "2022-08-17T17:55:46.206Z"
   },
   {
    "duration": 6,
    "start_time": "2022-08-17T17:55:53.572Z"
   },
   {
    "duration": 9,
    "start_time": "2022-08-17T17:58:13.115Z"
   },
   {
    "duration": 5,
    "start_time": "2022-08-17T17:58:16.266Z"
   },
   {
    "duration": 31,
    "start_time": "2022-08-17T17:59:20.836Z"
   },
   {
    "duration": 35,
    "start_time": "2022-08-17T17:59:36.536Z"
   },
   {
    "duration": 10,
    "start_time": "2022-08-17T17:59:44.388Z"
   },
   {
    "duration": 6,
    "start_time": "2022-08-17T17:59:46.959Z"
   },
   {
    "duration": 10,
    "start_time": "2022-08-17T18:00:54.344Z"
   },
   {
    "duration": 6,
    "start_time": "2022-08-17T18:00:57.709Z"
   },
   {
    "duration": 10,
    "start_time": "2022-08-17T18:03:04.455Z"
   },
   {
    "duration": 9,
    "start_time": "2022-08-17T18:05:12.797Z"
   },
   {
    "duration": 7,
    "start_time": "2022-08-17T18:05:16.121Z"
   },
   {
    "duration": 20,
    "start_time": "2022-08-17T18:16:51.322Z"
   },
   {
    "duration": 70,
    "start_time": "2022-08-17T18:16:55.552Z"
   },
   {
    "duration": 19,
    "start_time": "2022-08-17T18:16:58.462Z"
   },
   {
    "duration": 51,
    "start_time": "2022-08-17T18:17:02.198Z"
   },
   {
    "duration": 55,
    "start_time": "2022-08-17T18:17:11.126Z"
   },
   {
    "duration": 22,
    "start_time": "2022-08-17T18:17:15.282Z"
   },
   {
    "duration": 20,
    "start_time": "2022-08-17T18:17:19.228Z"
   },
   {
    "duration": 2,
    "start_time": "2022-08-17T18:17:25.510Z"
   },
   {
    "duration": 153,
    "start_time": "2022-08-17T18:17:27.353Z"
   },
   {
    "duration": 6,
    "start_time": "2022-08-17T18:17:29.143Z"
   },
   {
    "duration": 29,
    "start_time": "2022-08-17T18:17:32.598Z"
   },
   {
    "duration": 2,
    "start_time": "2022-08-17T18:17:35.873Z"
   },
   {
    "duration": 3,
    "start_time": "2022-08-17T18:17:39.283Z"
   },
   {
    "duration": 8,
    "start_time": "2022-08-17T18:17:41.959Z"
   },
   {
    "duration": 2,
    "start_time": "2022-08-17T18:17:44.615Z"
   },
   {
    "duration": 19,
    "start_time": "2022-08-17T18:17:46.969Z"
   },
   {
    "duration": 83,
    "start_time": "2022-08-17T18:17:50.469Z"
   },
   {
    "duration": 20,
    "start_time": "2022-08-17T18:17:53.375Z"
   },
   {
    "duration": 57,
    "start_time": "2022-08-17T18:17:58.432Z"
   },
   {
    "duration": 58,
    "start_time": "2022-08-17T18:18:02.329Z"
   },
   {
    "duration": 51,
    "start_time": "2022-08-17T18:18:04.861Z"
   },
   {
    "duration": 32,
    "start_time": "2022-08-17T18:18:08.229Z"
   },
   {
    "duration": 10,
    "start_time": "2022-08-17T18:18:15.060Z"
   },
   {
    "duration": 5,
    "start_time": "2022-08-17T18:18:26.662Z"
   },
   {
    "duration": 7,
    "start_time": "2022-08-17T18:18:53.018Z"
   },
   {
    "duration": 6,
    "start_time": "2022-08-17T18:18:56.264Z"
   },
   {
    "duration": 9,
    "start_time": "2022-08-17T18:19:06.459Z"
   },
   {
    "duration": 6,
    "start_time": "2022-08-17T18:19:57.223Z"
   },
   {
    "duration": 10,
    "start_time": "2022-08-17T18:21:26.237Z"
   },
   {
    "duration": 5,
    "start_time": "2022-08-17T18:21:29.010Z"
   },
   {
    "duration": 8,
    "start_time": "2022-08-17T18:22:19.234Z"
   },
   {
    "duration": 6,
    "start_time": "2022-08-17T18:22:28.575Z"
   },
   {
    "duration": 11,
    "start_time": "2022-08-17T18:24:04.717Z"
   },
   {
    "duration": 6,
    "start_time": "2022-08-17T18:24:08.060Z"
   },
   {
    "duration": 426,
    "start_time": "2022-08-18T04:51:17.656Z"
   },
   {
    "duration": 232,
    "start_time": "2022-08-18T04:51:19.895Z"
   },
   {
    "duration": 8,
    "start_time": "2022-08-18T04:51:21.514Z"
   },
   {
    "duration": 30,
    "start_time": "2022-08-18T04:51:23.907Z"
   },
   {
    "duration": 3,
    "start_time": "2022-08-18T04:51:26.995Z"
   },
   {
    "duration": 3,
    "start_time": "2022-08-18T04:51:29.314Z"
   },
   {
    "duration": 13,
    "start_time": "2022-08-18T04:51:30.670Z"
   },
   {
    "duration": 3,
    "start_time": "2022-08-18T04:51:32.187Z"
   },
   {
    "duration": 22,
    "start_time": "2022-08-18T04:51:34.157Z"
   },
   {
    "duration": 78,
    "start_time": "2022-08-18T04:51:36.336Z"
   },
   {
    "duration": 24,
    "start_time": "2022-08-18T04:51:37.613Z"
   },
   {
    "duration": 62,
    "start_time": "2022-08-18T04:51:41.492Z"
   },
   {
    "duration": 64,
    "start_time": "2022-08-18T04:51:42.666Z"
   },
   {
    "duration": 57,
    "start_time": "2022-08-18T04:51:43.761Z"
   },
   {
    "duration": 47,
    "start_time": "2022-08-18T04:51:45.730Z"
   },
   {
    "duration": 10,
    "start_time": "2022-08-18T04:51:52.177Z"
   },
   {
    "duration": 6,
    "start_time": "2022-08-18T04:51:54.127Z"
   },
   {
    "duration": 39,
    "start_time": "2022-08-18T04:54:06.662Z"
   },
   {
    "duration": 381,
    "start_time": "2022-08-18T09:43:43.114Z"
   },
   {
    "duration": 290,
    "start_time": "2022-08-18T09:43:44.640Z"
   },
   {
    "duration": 8,
    "start_time": "2022-08-18T09:43:46.207Z"
   },
   {
    "duration": 30,
    "start_time": "2022-08-18T09:43:47.599Z"
   },
   {
    "duration": 3,
    "start_time": "2022-08-18T09:43:49.325Z"
   },
   {
    "duration": 4,
    "start_time": "2022-08-18T09:43:53.503Z"
   },
   {
    "duration": 12,
    "start_time": "2022-08-18T09:43:54.925Z"
   },
   {
    "duration": 4,
    "start_time": "2022-08-18T09:43:56.106Z"
   },
   {
    "duration": 22,
    "start_time": "2022-08-18T09:43:59.390Z"
   },
   {
    "duration": 108,
    "start_time": "2022-08-18T09:44:00.789Z"
   },
   {
    "duration": 26,
    "start_time": "2022-08-18T09:44:02.075Z"
   },
   {
    "duration": 70,
    "start_time": "2022-08-18T09:44:03.440Z"
   },
   {
    "duration": 72,
    "start_time": "2022-08-18T09:44:04.682Z"
   },
   {
    "duration": 90,
    "start_time": "2022-08-18T09:44:05.909Z"
   },
   {
    "duration": 34,
    "start_time": "2022-08-18T09:44:09.718Z"
   },
   {
    "duration": 9,
    "start_time": "2022-08-18T09:44:12.523Z"
   },
   {
    "duration": 40,
    "start_time": "2022-08-18T09:44:14.638Z"
   },
   {
    "duration": 11,
    "start_time": "2022-08-18T09:44:18.964Z"
   },
   {
    "duration": 9,
    "start_time": "2022-08-18T09:44:33.008Z"
   },
   {
    "duration": 3,
    "start_time": "2022-08-18T09:44:50.470Z"
   }
  ],
  "colab": {
   "collapsed_sections": [
    "E0vqbgi9ay0H",
    "VUC88oWjTJw2"
   ],
   "name": "automatization_template_upd4.ipynb",
   "provenance": []
  },
  "kernelspec": {
   "display_name": "Python 3 (ipykernel)",
   "language": "python",
   "name": "python3"
  },
  "language_info": {
   "codemirror_mode": {
    "name": "ipython",
    "version": 3
   },
   "file_extension": ".py",
   "mimetype": "text/x-python",
   "name": "python",
   "nbconvert_exporter": "python",
   "pygments_lexer": "ipython3",
   "version": "3.9.13"
  },
  "toc": {
   "base_numbering": 1,
   "nav_menu": {
    "height": "215px",
    "width": "403px"
   },
   "number_sections": true,
   "sideBar": true,
   "skip_h1_title": true,
   "title_cell": "Table of Contents",
   "title_sidebar": "Contents",
   "toc_cell": false,
   "toc_position": {
    "height": "calc(100% - 180px)",
    "left": "10px",
    "top": "150px",
    "width": "285.825px"
   },
   "toc_section_display": true,
   "toc_window_display": false
  }
 },
 "nbformat": 4,
 "nbformat_minor": 1
}
