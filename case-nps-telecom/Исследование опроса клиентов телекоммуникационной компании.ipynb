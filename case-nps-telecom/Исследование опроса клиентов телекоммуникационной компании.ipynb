{
 "cells": [
  {
   "cell_type": "markdown",
   "id": "32d6511f",
   "metadata": {},
   "source": [
    "# Исследование опроса клиентов телекомунникационной компании\n",
    "\n",
    "Заказчик этого исследования — большая телекоммуникационная компания, которая оказывает услуги на территории всего СНГ. Перед компанией стоит задача определить текущий уровень потребительской лояльности (NPS - от англ. Net Promoter Score), среди клиентов из России.\n",
    "\n",
    "Чтобы определить уровень лояльности, компания провела опрос, в котором клиентам задавали классический вопрос: «*Оцените по шкале от 1 до 10 вероятность того, что вы порекомендуете компанию друзьям и знакомым*». Дашборд и презентацию oб уровне NPS нам и предстоит подготовить."
   ]
  },
  {
   "cell_type": "markdown",
   "id": "eb71f24c",
   "metadata": {},
   "source": [
    "Импортируем необходимые для работы инструменты:"
   ]
  },
  {
   "cell_type": "code",
   "execution_count": 1,
   "id": "0c246185",
   "metadata": {
    "tags": [
     "aa81075c-062f-4de0-b5fe-14c73dc7468e"
    ]
   },
   "outputs": [],
   "source": [
    "import pandas as pd\n",
    "from sqlalchemy import create_engine"
   ]
  },
  {
   "cell_type": "markdown",
   "id": "7ebb94e2",
   "metadata": {},
   "source": [
    "Подключаемся к базе:"
   ]
  },
  {
   "cell_type": "code",
   "execution_count": 2,
   "id": "a23ec5b1",
   "metadata": {},
   "outputs": [],
   "source": [
    "path_to_db = '/datasets/telecomm_csi.db'\n",
    "engine = create_engine(f'sqlite:///{path_to_db}', echo = False)"
   ]
  },
  {
   "cell_type": "markdown",
   "id": "48011e1b",
   "metadata": {},
   "source": [
    "В документации к данным указана следующая структура:\n",
    "\n",
    "- `user_id` - Идентификатор клиента;\n",
    "- `lt_day` - Количество дней «жизни» клиента;\n",
    "- `is_new` - Поле хранит информацию о том, является ли клиент новым (новый = лайфтайм не более 365 дней);\n",
    "- `age` - Возраст;\n",
    "- `gender_segment` - Пол;\n",
    "- `os_name` - Тип операционной системы;\n",
    "- `cpe_type_name` - Тип устройства;\n",
    "- `country` - Страна проживания;\n",
    "- `city` - Город проживания;\n",
    "- `age_segment` - Возрастной сегмент;\n",
    "- `traffic_segment` - Сегмент по объёму потребляемого трафика;\n",
    "- `lifetime_segment` - Сегмент по количеству дней «жизни»;\n",
    "- `nps_score` - Оценка клиента в NPS-опросе;\n",
    "- `nps_group` - Поле хранит информацию о том, к какой группе относится оценка клиента в опросе.\n",
    "\n",
    "Выгрузим базу данных при помощи SQL-запросов:"
   ]
  },
  {
   "cell_type": "code",
   "execution_count": 3,
   "id": "a5142079",
   "metadata": {},
   "outputs": [],
   "source": [
    "query = \"\"\"\n",
    "SELECT u.user_id,\n",
    "       ABS(u.lt_day) lt_day,\n",
    "       CASE\n",
    "           WHEN lt_day <= 365 THEN 'New'\n",
    "           ELSE 'Old'\n",
    "       END is_new,\n",
    "       u.age,\n",
    "       u.os_name,\n",
    "       u.cpe_type_name,\n",
    "       u.nps_score,\n",
    "       l.country,\n",
    "       l.city,\n",
    "       CASE\n",
    "           WHEN gender_segment == 1 THEN 'Женщина'\n",
    "           WHEN gender_segment == 0 THEN 'Мужчина'\n",
    "           ELSE 'Неизвестно'\n",
    "       END gender_segment,\n",
    "       SUBSTR(a_s.title, 4, 5) age_segment,\n",
    "       SUBSTR(t_s.title, 4, 6) traffic_segment,\n",
    "       SUBSTR(l_s.title, 4, 5) lifetime_segment,\n",
    "       CASE\n",
    "           WHEN nps_score >= 9 THEN 'Сторонники'\n",
    "           WHEN nps_score >= 7 AND u.nps_score <= 8 THEN 'Нейтралы'\n",
    "           WHEN nps_score <= 6 THEN 'Критики'\n",
    "       END nps_group\n",
    "       \n",
    "FROM location as l\n",
    "LEFT JOIN user AS u ON l.location_id = u.location_id\n",
    "LEFT JOIN age_segment AS a_s ON u.age_gr_id = a_s.age_gr_id\n",
    "LEFT JOIN traffic_segment AS t_s ON u.tr_gr_id = t_s.tr_gr_id\n",
    "LEFT JOIN lifetime_segment AS l_s ON u.lt_gr_id = l_s.lt_gr_id\n",
    ";\n",
    "\"\"\""
   ]
  },
  {
   "cell_type": "markdown",
   "id": "584ceeb7",
   "metadata": {},
   "source": [
    "Создаём датафрейм по данным запроса:"
   ]
  },
  {
   "cell_type": "code",
   "execution_count": 6,
   "id": "45a6946d",
   "metadata": {
    "scrolled": false
   },
   "outputs": [
    {
     "data": {
      "text/html": [
       "<div>\n",
       "<style scoped>\n",
       "    .dataframe tbody tr th:only-of-type {\n",
       "        vertical-align: middle;\n",
       "    }\n",
       "\n",
       "    .dataframe tbody tr th {\n",
       "        vertical-align: top;\n",
       "    }\n",
       "\n",
       "    .dataframe thead th {\n",
       "        text-align: right;\n",
       "    }\n",
       "</style>\n",
       "<table border=\"1\" class=\"dataframe\">\n",
       "  <thead>\n",
       "    <tr style=\"text-align: right;\">\n",
       "      <th></th>\n",
       "      <th>user_id</th>\n",
       "      <th>lt_day</th>\n",
       "      <th>is_new</th>\n",
       "      <th>age</th>\n",
       "      <th>os_name</th>\n",
       "      <th>cpe_type_name</th>\n",
       "      <th>nps_score</th>\n",
       "      <th>country</th>\n",
       "      <th>city</th>\n",
       "      <th>gender_segment</th>\n",
       "      <th>age_segment</th>\n",
       "      <th>traffic_segment</th>\n",
       "      <th>lifetime_segment</th>\n",
       "      <th>nps_group</th>\n",
       "    </tr>\n",
       "  </thead>\n",
       "  <tbody>\n",
       "    <tr>\n",
       "      <th>0</th>\n",
       "      <td>A0CMN5</td>\n",
       "      <td>2729</td>\n",
       "      <td>Old</td>\n",
       "      <td>27.0</td>\n",
       "      <td>ANDROID</td>\n",
       "      <td>SMARTPHONE</td>\n",
       "      <td>6</td>\n",
       "      <td>Россия</td>\n",
       "      <td>Архангельск</td>\n",
       "      <td>Мужчина</td>\n",
       "      <td>25-34</td>\n",
       "      <td>60-65</td>\n",
       "      <td>36+</td>\n",
       "      <td>Критики</td>\n",
       "    </tr>\n",
       "    <tr>\n",
       "      <th>1</th>\n",
       "      <td>A0CYVK</td>\n",
       "      <td>478</td>\n",
       "      <td>Old</td>\n",
       "      <td>48.0</td>\n",
       "      <td>ANDROID</td>\n",
       "      <td>SMARTPHONE</td>\n",
       "      <td>7</td>\n",
       "      <td>Россия</td>\n",
       "      <td>Архангельск</td>\n",
       "      <td>Женщина</td>\n",
       "      <td>45-54</td>\n",
       "      <td>10-15</td>\n",
       "      <td>13-24</td>\n",
       "      <td>Нейтралы</td>\n",
       "    </tr>\n",
       "    <tr>\n",
       "      <th>2</th>\n",
       "      <td>A0HNQU</td>\n",
       "      <td>413</td>\n",
       "      <td>Old</td>\n",
       "      <td>42.0</td>\n",
       "      <td>ANDROID</td>\n",
       "      <td>SMARTPHONE</td>\n",
       "      <td>9</td>\n",
       "      <td>Россия</td>\n",
       "      <td>Архангельск</td>\n",
       "      <td>Женщина</td>\n",
       "      <td>35-44</td>\n",
       "      <td>20-25</td>\n",
       "      <td>13-24</td>\n",
       "      <td>Сторонники</td>\n",
       "    </tr>\n",
       "    <tr>\n",
       "      <th>3</th>\n",
       "      <td>A0QZ38</td>\n",
       "      <td>1031</td>\n",
       "      <td>Old</td>\n",
       "      <td>30.0</td>\n",
       "      <td>ANDROID</td>\n",
       "      <td>SMARTPHONE</td>\n",
       "      <td>8</td>\n",
       "      <td>Россия</td>\n",
       "      <td>Архангельск</td>\n",
       "      <td>Мужчина</td>\n",
       "      <td>25-34</td>\n",
       "      <td>1-5</td>\n",
       "      <td>25-36</td>\n",
       "      <td>Нейтралы</td>\n",
       "    </tr>\n",
       "    <tr>\n",
       "      <th>4</th>\n",
       "      <td>A0RZLZ</td>\n",
       "      <td>604</td>\n",
       "      <td>Old</td>\n",
       "      <td>55.0</td>\n",
       "      <td>ANDROID</td>\n",
       "      <td>SMARTPHONE</td>\n",
       "      <td>10</td>\n",
       "      <td>Россия</td>\n",
       "      <td>Архангельск</td>\n",
       "      <td>Мужчина</td>\n",
       "      <td>55-64</td>\n",
       "      <td>5-10</td>\n",
       "      <td>13-24</td>\n",
       "      <td>Сторонники</td>\n",
       "    </tr>\n",
       "  </tbody>\n",
       "</table>\n",
       "</div>"
      ],
      "text/plain": [
       "  user_id  lt_day is_new   age  os_name cpe_type_name  nps_score country  \\\n",
       "0  A0CMN5    2729    Old  27.0  ANDROID    SMARTPHONE          6  Россия   \n",
       "1  A0CYVK     478    Old  48.0  ANDROID    SMARTPHONE          7  Россия   \n",
       "2  A0HNQU     413    Old  42.0  ANDROID    SMARTPHONE          9  Россия   \n",
       "3  A0QZ38    1031    Old  30.0  ANDROID    SMARTPHONE          8  Россия   \n",
       "4  A0RZLZ     604    Old  55.0  ANDROID    SMARTPHONE         10  Россия   \n",
       "\n",
       "          city gender_segment age_segment traffic_segment lifetime_segment  \\\n",
       "0  Архангельск        Мужчина       25-34           60-65              36+   \n",
       "1  Архангельск        Женщина       45-54           10-15            13-24   \n",
       "2  Архангельск        Женщина       35-44           20-25            13-24   \n",
       "3  Архангельск        Мужчина       25-34             1-5            25-36   \n",
       "4  Архангельск        Мужчина       55-64            5-10            13-24   \n",
       "\n",
       "    nps_group  \n",
       "0     Критики  \n",
       "1    Нейтралы  \n",
       "2  Сторонники  \n",
       "3    Нейтралы  \n",
       "4  Сторонники  "
      ]
     },
     "execution_count": 6,
     "metadata": {},
     "output_type": "execute_result"
    }
   ],
   "source": [
    "df = pd.read_sql(query, engine)\n",
    "\n",
    "# Проверим, что датафрейм корректно отображается:\n",
    "df.head(5)"
   ]
  },
  {
   "cell_type": "markdown",
   "id": "cce5bb24",
   "metadata": {},
   "source": [
    "Получившуюся таблицу сохраним как CSV-файл:"
   ]
  },
  {
   "cell_type": "code",
   "execution_count": 5,
   "id": "58e38c73",
   "metadata": {},
   "outputs": [],
   "source": [
    "df.to_csv('telecomm_csi_tableau.csv', index=False)"
   ]
  },
  {
   "cell_type": "markdown",
   "id": "47a61018",
   "metadata": {},
   "source": [
    "### Дашборд\n",
    "\n",
    "Дальнейший анализ и его визуализация проходили в Tableau. Был построен дашборд, предоставляющий информацию о текущем уровне NPS среди клиентов и показывающий, как этот уровень меняется в зависимости от пользовательских признаков. Дашборд можно открыть по ссылке ниже:"
   ]
  },
  {
   "cell_type": "markdown",
   "id": "5396042b",
   "metadata": {},
   "source": [
    "[Дашборд в Tableau](https://public.tableau.com/app/profile/nadiia4738/viz/_16742343909190/Dashboard1?publish=yes)"
   ]
  },
  {
   "cell_type": "markdown",
   "id": "c401098c",
   "metadata": {},
   "source": [
    "По данным из дашборда удалось достичь цели исследования, ответив на следующие вопросы:\n",
    "\n",
    "- Как распределены участники опроса по возрасту и полу? Каких пользователей больше: новых или старых? Пользователи из каких городов активнее участвовали в опросе?\n",
    "- Какие группы пользователей наиболее лояльны к сервису? Какие менее?\n",
    "- Какой общий NPS среди всех опрошенных?\n",
    "- Как можно описать клиентов, которые относятся к группе cторонников?\n",
    "\n",
    "### Результаты с выводами исследования можно прочитать в презентации по ссылке ниже:"
   ]
  },
  {
   "cell_type": "markdown",
   "id": "8bb0705a",
   "metadata": {},
   "source": [
    "[Презентация итогов исследования](https://drive.google.com/file/d/1OD9Tu_uPrKl5REvBMjSLmPxK0QzJYnOb/view?usp=sharing)"
   ]
  }
 ],
 "metadata": {
  "ExecuteTimeLog": [
   {
    "duration": 752,
    "start_time": "2021-10-03T17:40:52.731Z"
   },
   {
    "duration": 20,
    "start_time": "2021-10-03T17:40:53.486Z"
   },
   {
    "duration": 4,
    "start_time": "2021-10-03T17:41:04.638Z"
   },
   {
    "duration": 461,
    "start_time": "2021-10-03T17:41:04.912Z"
   },
   {
    "duration": 284,
    "start_time": "2021-10-03T17:41:05.376Z"
   },
   {
    "duration": 574,
    "start_time": "2021-10-06T07:55:05.029Z"
   },
   {
    "duration": 6,
    "start_time": "2021-10-06T07:55:05.605Z"
   },
   {
    "duration": 3,
    "start_time": "2021-10-06T07:55:14.685Z"
   },
   {
    "duration": 406,
    "start_time": "2021-10-06T07:55:15.522Z"
   },
   {
    "duration": 67,
    "start_time": "2021-10-06T07:55:15.929Z"
   },
   {
    "duration": 840,
    "start_time": "2021-10-07T07:54:04.647Z"
   },
   {
    "duration": 10,
    "start_time": "2021-10-07T07:54:05.490Z"
   },
   {
    "duration": 4,
    "start_time": "2021-10-07T07:54:05.544Z"
   },
   {
    "duration": 391,
    "start_time": "2021-10-07T07:54:06.237Z"
   },
   {
    "duration": 293,
    "start_time": "2021-10-07T07:54:06.654Z"
   },
   {
    "duration": 570,
    "start_time": "2023-01-09T16:33:30.154Z"
   },
   {
    "duration": 3,
    "start_time": "2023-01-09T16:33:43.142Z"
   },
   {
    "duration": 19,
    "start_time": "2023-01-09T16:33:43.148Z"
   },
   {
    "duration": 3,
    "start_time": "2023-01-09T16:33:43.169Z"
   },
   {
    "duration": 5,
    "start_time": "2023-01-09T16:33:43.174Z"
   },
   {
    "duration": 654,
    "start_time": "2023-01-09T16:33:43.181Z"
   },
   {
    "duration": 0,
    "start_time": "2023-01-09T16:33:43.837Z"
   },
   {
    "duration": 3,
    "start_time": "2023-01-09T16:35:34.143Z"
   },
   {
    "duration": 4,
    "start_time": "2023-01-09T16:36:52.775Z"
   },
   {
    "duration": 16,
    "start_time": "2023-01-09T16:36:52.781Z"
   },
   {
    "duration": 10,
    "start_time": "2023-01-09T16:36:52.798Z"
   },
   {
    "duration": 7,
    "start_time": "2023-01-09T16:36:52.810Z"
   },
   {
    "duration": 4661,
    "start_time": "2023-01-09T16:36:52.818Z"
   },
   {
    "duration": 3354,
    "start_time": "2023-01-09T16:36:57.481Z"
   },
   {
    "duration": 3,
    "start_time": "2023-01-09T16:48:09.832Z"
   },
   {
    "duration": 3,
    "start_time": "2023-01-09T16:48:12.145Z"
   },
   {
    "duration": 11,
    "start_time": "2023-01-09T16:48:12.150Z"
   },
   {
    "duration": 11,
    "start_time": "2023-01-09T16:48:12.162Z"
   },
   {
    "duration": 4892,
    "start_time": "2023-01-09T16:48:12.175Z"
   },
   {
    "duration": 3456,
    "start_time": "2023-01-09T16:48:17.069Z"
   },
   {
    "duration": 4,
    "start_time": "2023-01-09T17:00:45.540Z"
   },
   {
    "duration": 12,
    "start_time": "2023-01-09T17:00:45.546Z"
   },
   {
    "duration": 10,
    "start_time": "2023-01-09T17:00:45.560Z"
   },
   {
    "duration": 5556,
    "start_time": "2023-01-09T17:00:45.573Z"
   },
   {
    "duration": 4159,
    "start_time": "2023-01-09T17:00:51.131Z"
   },
   {
    "duration": 3,
    "start_time": "2023-01-09T17:01:20.461Z"
   },
   {
    "duration": 3,
    "start_time": "2023-01-09T17:01:22.428Z"
   },
   {
    "duration": 29,
    "start_time": "2023-01-09T17:01:22.434Z"
   },
   {
    "duration": 28,
    "start_time": "2023-01-09T17:01:22.465Z"
   },
   {
    "duration": 371,
    "start_time": "2023-01-09T17:01:22.495Z"
   },
   {
    "duration": 0,
    "start_time": "2023-01-09T17:01:22.868Z"
   },
   {
    "duration": 3,
    "start_time": "2023-01-09T17:02:28.736Z"
   },
   {
    "duration": 7,
    "start_time": "2023-01-09T17:02:28.741Z"
   },
   {
    "duration": 10,
    "start_time": "2023-01-09T17:02:28.750Z"
   },
   {
    "duration": 5299,
    "start_time": "2023-01-09T17:02:28.762Z"
   },
   {
    "duration": 4304,
    "start_time": "2023-01-09T17:02:34.063Z"
   },
   {
    "duration": 3,
    "start_time": "2023-01-09T17:32:40.692Z"
   },
   {
    "duration": 16,
    "start_time": "2023-01-09T17:32:40.698Z"
   },
   {
    "duration": 13,
    "start_time": "2023-01-09T17:32:40.716Z"
   },
   {
    "duration": 401,
    "start_time": "2023-01-09T17:32:40.732Z"
   },
   {
    "duration": 0,
    "start_time": "2023-01-09T17:32:41.135Z"
   },
   {
    "duration": 2,
    "start_time": "2023-01-09T17:33:05.500Z"
   },
   {
    "duration": 22,
    "start_time": "2023-01-09T17:33:05.505Z"
   },
   {
    "duration": 22,
    "start_time": "2023-01-09T17:33:05.528Z"
   },
   {
    "duration": 357,
    "start_time": "2023-01-09T17:33:05.552Z"
   },
   {
    "duration": 0,
    "start_time": "2023-01-09T17:33:05.911Z"
   },
   {
    "duration": 556,
    "start_time": "2023-01-10T08:57:16.467Z"
   },
   {
    "duration": 8,
    "start_time": "2023-01-10T08:57:17.025Z"
   },
   {
    "duration": 3,
    "start_time": "2023-01-10T08:57:17.035Z"
   },
   {
    "duration": 429,
    "start_time": "2023-01-10T08:57:17.039Z"
   },
   {
    "duration": 0,
    "start_time": "2023-01-10T08:57:17.469Z"
   },
   {
    "duration": 3,
    "start_time": "2023-01-10T08:57:50.737Z"
   },
   {
    "duration": 272,
    "start_time": "2023-01-10T08:57:55.206Z"
   },
   {
    "duration": 3,
    "start_time": "2023-01-10T09:00:45.738Z"
   },
   {
    "duration": 9,
    "start_time": "2023-01-10T09:00:45.743Z"
   },
   {
    "duration": 9,
    "start_time": "2023-01-10T09:00:45.754Z"
   },
   {
    "duration": 6359,
    "start_time": "2023-01-10T09:00:45.765Z"
   },
   {
    "duration": 3963,
    "start_time": "2023-01-10T09:00:52.126Z"
   },
   {
    "duration": 4806,
    "start_time": "2023-01-10T09:03:55.752Z"
   },
   {
    "duration": 250,
    "start_time": "2023-01-10T09:04:31.769Z"
   },
   {
    "duration": 3,
    "start_time": "2023-01-10T09:05:56.071Z"
   },
   {
    "duration": 11,
    "start_time": "2023-01-10T09:05:56.075Z"
   },
   {
    "duration": 7,
    "start_time": "2023-01-10T09:05:56.087Z"
   },
   {
    "duration": 4809,
    "start_time": "2023-01-10T09:05:56.096Z"
   },
   {
    "duration": 257,
    "start_time": "2023-01-10T09:06:00.907Z"
   },
   {
    "duration": 3446,
    "start_time": "2023-01-10T09:06:01.165Z"
   },
   {
    "duration": 2,
    "start_time": "2023-01-10T09:07:31.267Z"
   },
   {
    "duration": 24,
    "start_time": "2023-01-10T09:07:31.272Z"
   },
   {
    "duration": 20,
    "start_time": "2023-01-10T09:07:31.297Z"
   },
   {
    "duration": 5140,
    "start_time": "2023-01-10T09:07:31.319Z"
   },
   {
    "duration": 256,
    "start_time": "2023-01-10T09:07:36.462Z"
   },
   {
    "duration": 3662,
    "start_time": "2023-01-10T09:07:36.720Z"
   },
   {
    "duration": 3,
    "start_time": "2023-01-10T09:09:33.803Z"
   },
   {
    "duration": 14,
    "start_time": "2023-01-10T09:09:33.807Z"
   },
   {
    "duration": 19,
    "start_time": "2023-01-10T09:09:33.822Z"
   },
   {
    "duration": 4969,
    "start_time": "2023-01-10T09:09:33.843Z"
   },
   {
    "duration": 247,
    "start_time": "2023-01-10T09:09:38.813Z"
   },
   {
    "duration": 3189,
    "start_time": "2023-01-10T09:09:39.062Z"
   },
   {
    "duration": 4,
    "start_time": "2023-01-10T09:15:19.101Z"
   },
   {
    "duration": 20,
    "start_time": "2023-01-10T09:15:19.109Z"
   },
   {
    "duration": 35,
    "start_time": "2023-01-10T09:15:19.132Z"
   },
   {
    "duration": 5113,
    "start_time": "2023-01-10T09:15:19.170Z"
   },
   {
    "duration": 238,
    "start_time": "2023-01-10T09:15:24.285Z"
   },
   {
    "duration": 4274,
    "start_time": "2023-01-10T09:15:24.525Z"
   },
   {
    "duration": 3,
    "start_time": "2023-01-10T09:15:39.114Z"
   },
   {
    "duration": 9,
    "start_time": "2023-01-10T09:15:39.120Z"
   },
   {
    "duration": 7,
    "start_time": "2023-01-10T09:15:39.130Z"
   },
   {
    "duration": 317,
    "start_time": "2023-01-10T09:15:39.140Z"
   },
   {
    "duration": 0,
    "start_time": "2023-01-10T09:15:39.459Z"
   },
   {
    "duration": 0,
    "start_time": "2023-01-10T09:15:39.460Z"
   },
   {
    "duration": 3,
    "start_time": "2023-01-10T09:16:01.435Z"
   },
   {
    "duration": 66,
    "start_time": "2023-01-10T09:16:01.440Z"
   },
   {
    "duration": 68,
    "start_time": "2023-01-10T09:16:01.508Z"
   },
   {
    "duration": 5390,
    "start_time": "2023-01-10T09:16:01.577Z"
   },
   {
    "duration": 241,
    "start_time": "2023-01-10T09:16:06.976Z"
   },
   {
    "duration": 3928,
    "start_time": "2023-01-10T09:16:07.219Z"
   },
   {
    "duration": 6,
    "start_time": "2023-01-10T09:22:05.250Z"
   },
   {
    "duration": 8,
    "start_time": "2023-01-10T09:22:05.259Z"
   },
   {
    "duration": 14,
    "start_time": "2023-01-10T09:22:05.270Z"
   },
   {
    "duration": 419,
    "start_time": "2023-01-10T09:22:05.287Z"
   },
   {
    "duration": 0,
    "start_time": "2023-01-10T09:22:05.708Z"
   },
   {
    "duration": 0,
    "start_time": "2023-01-10T09:22:05.710Z"
   },
   {
    "duration": 4,
    "start_time": "2023-01-10T09:23:55.917Z"
   },
   {
    "duration": 8,
    "start_time": "2023-01-10T09:23:55.923Z"
   },
   {
    "duration": 7,
    "start_time": "2023-01-10T09:23:55.933Z"
   },
   {
    "duration": 5060,
    "start_time": "2023-01-10T09:23:55.943Z"
   },
   {
    "duration": 250,
    "start_time": "2023-01-10T09:24:01.007Z"
   },
   {
    "duration": 4255,
    "start_time": "2023-01-10T09:24:01.260Z"
   },
   {
    "duration": 5,
    "start_time": "2023-01-10T09:24:46.574Z"
   },
   {
    "duration": 26,
    "start_time": "2023-01-10T09:24:46.582Z"
   },
   {
    "duration": 8,
    "start_time": "2023-01-10T09:24:46.609Z"
   },
   {
    "duration": 5219,
    "start_time": "2023-01-10T09:24:46.618Z"
   },
   {
    "duration": 272,
    "start_time": "2023-01-10T09:24:51.839Z"
   },
   {
    "duration": 4515,
    "start_time": "2023-01-10T09:24:52.113Z"
   },
   {
    "duration": 2,
    "start_time": "2023-01-10T09:40:54.338Z"
   },
   {
    "duration": 7,
    "start_time": "2023-01-10T09:40:54.342Z"
   },
   {
    "duration": 7,
    "start_time": "2023-01-10T09:40:54.350Z"
   },
   {
    "duration": 4741,
    "start_time": "2023-01-10T09:40:54.359Z"
   },
   {
    "duration": 4075,
    "start_time": "2023-01-10T09:40:59.101Z"
   },
   {
    "duration": 547,
    "start_time": "2023-01-10T14:49:30.610Z"
   },
   {
    "duration": 10,
    "start_time": "2023-01-10T14:49:31.159Z"
   },
   {
    "duration": 15,
    "start_time": "2023-01-10T14:49:31.171Z"
   },
   {
    "duration": 656,
    "start_time": "2023-01-10T14:49:31.188Z"
   },
   {
    "duration": 0,
    "start_time": "2023-01-10T14:49:31.846Z"
   },
   {
    "duration": 3,
    "start_time": "2023-01-10T15:46:54.674Z"
   },
   {
    "duration": 12,
    "start_time": "2023-01-10T15:46:54.679Z"
   },
   {
    "duration": 12,
    "start_time": "2023-01-10T15:46:54.693Z"
   },
   {
    "duration": 6430,
    "start_time": "2023-01-10T15:46:54.707Z"
   },
   {
    "duration": 4253,
    "start_time": "2023-01-10T15:47:01.139Z"
   },
   {
    "duration": 3,
    "start_time": "2023-01-10T15:48:00.887Z"
   },
   {
    "duration": 39,
    "start_time": "2023-01-10T15:48:00.892Z"
   },
   {
    "duration": 17,
    "start_time": "2023-01-10T15:48:00.932Z"
   },
   {
    "duration": 5437,
    "start_time": "2023-01-10T15:48:00.951Z"
   },
   {
    "duration": 4250,
    "start_time": "2023-01-10T15:48:06.391Z"
   },
   {
    "duration": 2,
    "start_time": "2023-01-10T15:49:55.761Z"
   },
   {
    "duration": 19,
    "start_time": "2023-01-10T15:49:55.765Z"
   },
   {
    "duration": 21,
    "start_time": "2023-01-10T15:49:55.786Z"
   },
   {
    "duration": 5372,
    "start_time": "2023-01-10T15:49:55.809Z"
   },
   {
    "duration": 4170,
    "start_time": "2023-01-10T15:50:01.183Z"
   },
   {
    "duration": 3,
    "start_time": "2023-01-10T15:51:18.011Z"
   },
   {
    "duration": 15,
    "start_time": "2023-01-10T15:51:18.016Z"
   },
   {
    "duration": 10,
    "start_time": "2023-01-10T15:51:18.033Z"
   },
   {
    "duration": 5252,
    "start_time": "2023-01-10T15:51:18.045Z"
   },
   {
    "duration": 4322,
    "start_time": "2023-01-10T15:51:23.299Z"
   },
   {
    "duration": 3,
    "start_time": "2023-01-10T16:09:14.174Z"
   },
   {
    "duration": 37,
    "start_time": "2023-01-10T16:09:14.178Z"
   },
   {
    "duration": 16,
    "start_time": "2023-01-10T16:09:14.217Z"
   },
   {
    "duration": 5377,
    "start_time": "2023-01-10T16:09:14.235Z"
   },
   {
    "duration": 54,
    "start_time": "2023-01-10T16:09:19.614Z"
   },
   {
    "duration": 2,
    "start_time": "2023-01-10T16:11:23.604Z"
   },
   {
    "duration": 20,
    "start_time": "2023-01-10T16:11:23.608Z"
   },
   {
    "duration": 11,
    "start_time": "2023-01-10T16:11:23.630Z"
   },
   {
    "duration": 5058,
    "start_time": "2023-01-10T16:11:23.643Z"
   },
   {
    "duration": 4134,
    "start_time": "2023-01-10T16:11:28.703Z"
   },
   {
    "duration": 3,
    "start_time": "2023-01-10T18:47:36.530Z"
   },
   {
    "duration": 25,
    "start_time": "2023-01-10T18:47:36.535Z"
   },
   {
    "duration": 12,
    "start_time": "2023-01-10T18:47:36.562Z"
   },
   {
    "duration": 5823,
    "start_time": "2023-01-10T18:47:36.577Z"
   },
   {
    "duration": 5063,
    "start_time": "2023-01-10T18:47:42.402Z"
   },
   {
    "duration": 3,
    "start_time": "2023-01-10T18:49:00.824Z"
   },
   {
    "duration": 32,
    "start_time": "2023-01-10T18:49:00.829Z"
   },
   {
    "duration": 12,
    "start_time": "2023-01-10T18:49:00.862Z"
   },
   {
    "duration": 5984,
    "start_time": "2023-01-10T18:49:00.876Z"
   },
   {
    "duration": 5059,
    "start_time": "2023-01-10T18:49:06.862Z"
   },
   {
    "duration": 526,
    "start_time": "2023-01-11T11:24:53.117Z"
   },
   {
    "duration": 8,
    "start_time": "2023-01-11T11:24:53.645Z"
   },
   {
    "duration": 6,
    "start_time": "2023-01-11T11:24:53.655Z"
   },
   {
    "duration": 5600,
    "start_time": "2023-01-11T11:24:53.662Z"
   },
   {
    "duration": 3895,
    "start_time": "2023-01-11T11:24:59.264Z"
   },
   {
    "duration": 2,
    "start_time": "2023-01-11T11:25:32.141Z"
   },
   {
    "duration": 33,
    "start_time": "2023-01-11T11:25:32.145Z"
   },
   {
    "duration": 53,
    "start_time": "2023-01-11T11:25:32.180Z"
   },
   {
    "duration": 639,
    "start_time": "2023-01-11T11:25:32.235Z"
   },
   {
    "duration": 0,
    "start_time": "2023-01-11T11:25:32.875Z"
   },
   {
    "duration": 3,
    "start_time": "2023-01-11T11:31:18.170Z"
   },
   {
    "duration": 11,
    "start_time": "2023-01-11T11:31:18.174Z"
   },
   {
    "duration": 18,
    "start_time": "2023-01-11T11:31:18.187Z"
   },
   {
    "duration": 5246,
    "start_time": "2023-01-11T11:31:18.207Z"
   },
   {
    "duration": 3870,
    "start_time": "2023-01-11T11:31:23.454Z"
   },
   {
    "duration": 7,
    "start_time": "2023-01-11T11:32:23.622Z"
   },
   {
    "duration": 2,
    "start_time": "2023-01-11T11:34:33.156Z"
   },
   {
    "duration": 9,
    "start_time": "2023-01-11T11:34:33.160Z"
   },
   {
    "duration": 9,
    "start_time": "2023-01-11T11:34:33.170Z"
   },
   {
    "duration": 5642,
    "start_time": "2023-01-11T11:34:33.181Z"
   },
   {
    "duration": 1244,
    "start_time": "2023-01-11T11:34:38.826Z"
   },
   {
    "duration": 0,
    "start_time": "2023-01-11T11:34:40.071Z"
   },
   {
    "duration": 3991,
    "start_time": "2023-01-11T11:35:13.825Z"
   },
   {
    "duration": 2,
    "start_time": "2023-01-11T11:38:11.102Z"
   },
   {
    "duration": 2,
    "start_time": "2023-01-11T11:38:14.955Z"
   },
   {
    "duration": 11,
    "start_time": "2023-01-11T11:38:14.959Z"
   },
   {
    "duration": 10,
    "start_time": "2023-01-11T11:38:14.972Z"
   },
   {
    "duration": 5600,
    "start_time": "2023-01-11T11:38:14.983Z"
   },
   {
    "duration": 10,
    "start_time": "2023-01-11T11:38:20.586Z"
   },
   {
    "duration": 4303,
    "start_time": "2023-01-11T11:38:20.598Z"
   },
   {
    "duration": 4,
    "start_time": "2023-01-11T11:38:40.798Z"
   },
   {
    "duration": 3,
    "start_time": "2023-01-11T11:39:14.452Z"
   },
   {
    "duration": 5306,
    "start_time": "2023-01-11T11:39:20.861Z"
   },
   {
    "duration": 4,
    "start_time": "2023-01-11T11:39:31.369Z"
   },
   {
    "duration": 16,
    "start_time": "2023-01-11T11:39:51.937Z"
   },
   {
    "duration": 3,
    "start_time": "2023-01-11T11:47:25.756Z"
   },
   {
    "duration": 92,
    "start_time": "2023-01-11T11:47:25.762Z"
   },
   {
    "duration": 31,
    "start_time": "2023-01-11T11:47:25.856Z"
   },
   {
    "duration": 5814,
    "start_time": "2023-01-11T11:47:25.889Z"
   },
   {
    "duration": 4974,
    "start_time": "2023-01-11T11:47:31.706Z"
   },
   {
    "duration": 2,
    "start_time": "2023-01-11T11:47:42.846Z"
   },
   {
    "duration": 5819,
    "start_time": "2023-01-11T11:47:46.408Z"
   },
   {
    "duration": 3,
    "start_time": "2023-01-11T11:52:57.989Z"
   },
   {
    "duration": 8,
    "start_time": "2023-01-11T11:52:57.994Z"
   },
   {
    "duration": 6,
    "start_time": "2023-01-11T11:52:58.004Z"
   },
   {
    "duration": 542,
    "start_time": "2023-01-11T11:53:14.913Z"
   },
   {
    "duration": 9,
    "start_time": "2023-01-11T11:53:15.457Z"
   },
   {
    "duration": 3,
    "start_time": "2023-01-11T11:53:15.468Z"
   },
   {
    "duration": 5578,
    "start_time": "2023-01-11T11:53:15.473Z"
   },
   {
    "duration": 4142,
    "start_time": "2023-01-11T11:53:21.053Z"
   },
   {
    "duration": 573,
    "start_time": "2023-01-11T14:21:40.143Z"
   },
   {
    "duration": 10,
    "start_time": "2023-01-11T14:21:40.719Z"
   },
   {
    "duration": 4,
    "start_time": "2023-01-11T14:21:40.730Z"
   },
   {
    "duration": 6820,
    "start_time": "2023-01-11T14:21:40.735Z"
   },
   {
    "duration": 5333,
    "start_time": "2023-01-11T14:21:47.556Z"
   },
   {
    "duration": 3,
    "start_time": "2023-01-11T14:23:18.347Z"
   },
   {
    "duration": 6,
    "start_time": "2023-01-11T14:23:18.352Z"
   },
   {
    "duration": 6,
    "start_time": "2023-01-11T14:23:18.360Z"
   },
   {
    "duration": 521,
    "start_time": "2023-01-11T14:23:18.367Z"
   },
   {
    "duration": 0,
    "start_time": "2023-01-11T14:23:18.890Z"
   },
   {
    "duration": 560,
    "start_time": "2023-01-11T19:50:10.663Z"
   },
   {
    "duration": 9,
    "start_time": "2023-01-11T19:50:11.225Z"
   },
   {
    "duration": 3,
    "start_time": "2023-01-11T19:50:11.236Z"
   },
   {
    "duration": 6056,
    "start_time": "2023-01-11T19:50:11.241Z"
   },
   {
    "duration": 4317,
    "start_time": "2023-01-11T19:50:17.300Z"
   },
   {
    "duration": 56,
    "start_time": "2023-01-11T19:51:08.186Z"
   },
   {
    "duration": 152,
    "start_time": "2023-01-11T19:51:24.118Z"
   },
   {
    "duration": 119,
    "start_time": "2023-01-11T19:51:43.244Z"
   },
   {
    "duration": 534,
    "start_time": "2023-01-16T17:39:14.630Z"
   },
   {
    "duration": 8,
    "start_time": "2023-01-16T17:39:15.166Z"
   },
   {
    "duration": 18,
    "start_time": "2023-01-16T17:39:15.176Z"
   },
   {
    "duration": 5762,
    "start_time": "2023-01-16T17:39:15.196Z"
   },
   {
    "duration": 4168,
    "start_time": "2023-01-16T17:39:20.961Z"
   },
   {
    "duration": 493,
    "start_time": "2023-01-17T11:25:16.346Z"
   },
   {
    "duration": 9,
    "start_time": "2023-01-17T11:25:16.841Z"
   },
   {
    "duration": 22,
    "start_time": "2023-01-17T11:25:16.852Z"
   },
   {
    "duration": 5609,
    "start_time": "2023-01-17T11:25:16.876Z"
   },
   {
    "duration": 4107,
    "start_time": "2023-01-17T11:25:22.487Z"
   },
   {
    "duration": 528,
    "start_time": "2023-01-17T12:28:02.311Z"
   },
   {
    "duration": 8,
    "start_time": "2023-01-17T12:28:02.841Z"
   },
   {
    "duration": 3,
    "start_time": "2023-01-17T12:28:02.851Z"
   },
   {
    "duration": 5788,
    "start_time": "2023-01-17T12:28:02.855Z"
   },
   {
    "duration": 4360,
    "start_time": "2023-01-17T12:28:08.645Z"
   },
   {
    "duration": 542,
    "start_time": "2023-01-17T13:12:20.048Z"
   },
   {
    "duration": 10,
    "start_time": "2023-01-17T13:12:20.592Z"
   },
   {
    "duration": 4,
    "start_time": "2023-01-17T13:12:20.604Z"
   },
   {
    "duration": 729,
    "start_time": "2023-01-17T13:12:20.621Z"
   },
   {
    "duration": 0,
    "start_time": "2023-01-17T13:12:21.352Z"
   },
   {
    "duration": 3,
    "start_time": "2023-01-17T13:13:11.231Z"
   },
   {
    "duration": 3,
    "start_time": "2023-01-17T13:13:21.287Z"
   },
   {
    "duration": 7,
    "start_time": "2023-01-17T13:13:21.292Z"
   },
   {
    "duration": 8,
    "start_time": "2023-01-17T13:13:21.300Z"
   },
   {
    "duration": 599,
    "start_time": "2023-01-17T13:13:21.310Z"
   },
   {
    "duration": 0,
    "start_time": "2023-01-17T13:13:21.911Z"
   },
   {
    "duration": 3,
    "start_time": "2023-01-17T13:13:55.296Z"
   },
   {
    "duration": 10,
    "start_time": "2023-01-17T13:13:55.301Z"
   },
   {
    "duration": 11,
    "start_time": "2023-01-17T13:13:55.313Z"
   },
   {
    "duration": 7323,
    "start_time": "2023-01-17T13:13:55.327Z"
   },
   {
    "duration": 4834,
    "start_time": "2023-01-17T13:14:02.651Z"
   },
   {
    "duration": 104,
    "start_time": "2023-01-17T13:15:03.931Z"
   },
   {
    "duration": 3,
    "start_time": "2023-01-17T13:15:57.471Z"
   },
   {
    "duration": 10,
    "start_time": "2023-01-17T13:15:57.476Z"
   },
   {
    "duration": 8,
    "start_time": "2023-01-17T13:15:57.487Z"
   },
   {
    "duration": 5696,
    "start_time": "2023-01-17T13:15:57.497Z"
   },
   {
    "duration": 110,
    "start_time": "2023-01-17T13:16:03.194Z"
   },
   {
    "duration": 4315,
    "start_time": "2023-01-17T13:16:03.305Z"
   },
   {
    "duration": 3,
    "start_time": "2023-01-17T13:16:57.446Z"
   },
   {
    "duration": 12,
    "start_time": "2023-01-17T13:16:57.451Z"
   },
   {
    "duration": 5,
    "start_time": "2023-01-17T13:16:57.465Z"
   },
   {
    "duration": 6186,
    "start_time": "2023-01-17T13:16:57.472Z"
   },
   {
    "duration": 107,
    "start_time": "2023-01-17T13:17:03.659Z"
   },
   {
    "duration": 5404,
    "start_time": "2023-01-17T13:17:03.768Z"
   },
   {
    "duration": 109,
    "start_time": "2023-01-17T13:17:42.165Z"
   },
   {
    "duration": 127,
    "start_time": "2023-01-17T13:19:10.729Z"
   },
   {
    "duration": 3,
    "start_time": "2023-01-17T13:20:23.578Z"
   },
   {
    "duration": 9,
    "start_time": "2023-01-17T13:20:23.583Z"
   },
   {
    "duration": 7,
    "start_time": "2023-01-17T13:20:23.593Z"
   },
   {
    "duration": 6332,
    "start_time": "2023-01-17T13:20:23.602Z"
   },
   {
    "duration": 112,
    "start_time": "2023-01-17T13:20:29.936Z"
   },
   {
    "duration": 4683,
    "start_time": "2023-01-17T13:20:30.049Z"
   },
   {
    "duration": 91,
    "start_time": "2023-01-20T14:25:36.149Z"
   },
   {
    "duration": 72,
    "start_time": "2023-01-20T14:26:16.088Z"
   },
   {
    "duration": 76,
    "start_time": "2023-01-20T14:26:31.426Z"
   },
   {
    "duration": 82,
    "start_time": "2023-01-20T14:26:54.917Z"
   },
   {
    "duration": 82,
    "start_time": "2023-01-20T14:27:43.052Z"
   },
   {
    "duration": 77,
    "start_time": "2023-01-20T14:29:16.640Z"
   },
   {
    "duration": 74,
    "start_time": "2023-01-20T14:29:36.192Z"
   },
   {
    "duration": 597,
    "start_time": "2023-01-20T14:29:59.060Z"
   },
   {
    "duration": 12,
    "start_time": "2023-01-20T14:29:59.659Z"
   },
   {
    "duration": 15,
    "start_time": "2023-01-20T14:29:59.672Z"
   },
   {
    "duration": 73,
    "start_time": "2023-01-20T14:29:59.689Z"
   },
   {
    "duration": 0,
    "start_time": "2023-01-20T14:29:59.765Z"
   },
   {
    "duration": 0,
    "start_time": "2023-01-20T14:29:59.767Z"
   },
   {
    "duration": 0,
    "start_time": "2023-01-20T14:29:59.768Z"
   },
   {
    "duration": 76,
    "start_time": "2023-01-20T14:30:24.702Z"
   },
   {
    "duration": 479,
    "start_time": "2023-07-27T21:18:50.966Z"
   },
   {
    "duration": 26,
    "start_time": "2023-07-27T21:18:51.461Z"
   },
   {
    "duration": 3,
    "start_time": "2023-07-27T21:18:51.488Z"
   },
   {
    "duration": 8110,
    "start_time": "2023-07-27T21:18:51.492Z"
   },
   {
    "duration": 5079,
    "start_time": "2023-07-27T21:18:59.604Z"
   },
   {
    "duration": 5976,
    "start_time": "2023-07-27T21:19:25.781Z"
   }
  ],
  "kernelspec": {
   "display_name": "Python 3 (ipykernel)",
   "language": "python",
   "name": "python3"
  },
  "language_info": {
   "codemirror_mode": {
    "name": "ipython",
    "version": 3
   },
   "file_extension": ".py",
   "mimetype": "text/x-python",
   "name": "python",
   "nbconvert_exporter": "python",
   "pygments_lexer": "ipython3",
   "version": "3.9.13"
  },
  "toc": {
   "base_numbering": 1,
   "nav_menu": {},
   "number_sections": true,
   "sideBar": true,
   "skip_h1_title": true,
   "title_cell": "Table of Contents",
   "title_sidebar": "Contents",
   "toc_cell": false,
   "toc_position": {},
   "toc_section_display": true,
   "toc_window_display": false
  }
 },
 "nbformat": 4,
 "nbformat_minor": 5
}
