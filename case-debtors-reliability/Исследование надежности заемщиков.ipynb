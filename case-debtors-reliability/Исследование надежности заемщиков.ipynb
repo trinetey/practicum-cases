{
 "cells": [
  {
   "cell_type": "markdown",
   "id": "8f21b630",
   "metadata": {
    "id": "c81daeeb"
   },
   "source": [
    "# Исследование надежности заемщиков\n"
   ]
  },
  {
   "cell_type": "markdown",
   "id": "04e47021",
   "metadata": {},
   "source": [
    "С просьбой об исследовании обратился банк \"Денюжки\". Для улучшения его финансовых показателей требуется выяснить каким заёмщикам стоит отдавать приоритет при выдаче кредита. В ходе исследования нам предстоит изучить и обработать данные, чтобы они были пригодны для исследования, а также ответить на следующие вопросы:\n",
    "* Есть ли зависимость между количеством детей и возвратом кредита в срок?\n",
    "* Есть ли зависимость между семейным положением и возвратом кредита в срок?\n",
    "* Есть ли зависимость между уровнем дохода и возвратом кредита в срок?\n",
    "* Как разные цели кредита влияют на его возврат в срок?"
   ]
  },
  {
   "cell_type": "markdown",
   "id": "cf336b76",
   "metadata": {
    "id": "744d7639"
   },
   "source": [
    "## 1 Изучим общую информацию о данных"
   ]
  },
  {
   "cell_type": "markdown",
   "id": "24051691",
   "metadata": {
    "id": "e7a14c31"
   },
   "source": [
    "Импортируем библиотеку pandas и считаем данные из csv-файла в датафрейм `data`:"
   ]
  },
  {
   "cell_type": "code",
   "execution_count": 2,
   "id": "3ac4d210",
   "metadata": {
    "id": "7bcf75c9"
   },
   "outputs": [],
   "source": [
    "import pandas as pd\n",
    "\n",
    "try:\n",
    "    data = pd.read_csv('/datasets/data.csv')\n",
    "except:\n",
    "    data = pd.read_csv('https://code.s3.yandex.net/datasets/data.csv')"
   ]
  },
  {
   "cell_type": "markdown",
   "id": "ed48369c",
   "metadata": {
    "id": "b8038fe3"
   },
   "source": [
    "Выведем первые 20 строчек `data` на экран:"
   ]
  },
  {
   "cell_type": "code",
   "execution_count": 3,
   "id": "6f647b4a",
   "metadata": {
    "id": "2a7cab99",
    "outputId": "1a8f3ef2-d323-4ec2-ddf7-89670b5944c4"
   },
   "outputs": [
    {
     "data": {
      "text/html": [
       "<div>\n",
       "<style scoped>\n",
       "    .dataframe tbody tr th:only-of-type {\n",
       "        vertical-align: middle;\n",
       "    }\n",
       "\n",
       "    .dataframe tbody tr th {\n",
       "        vertical-align: top;\n",
       "    }\n",
       "\n",
       "    .dataframe thead th {\n",
       "        text-align: right;\n",
       "    }\n",
       "</style>\n",
       "<table border=\"1\" class=\"dataframe\">\n",
       "  <thead>\n",
       "    <tr style=\"text-align: right;\">\n",
       "      <th></th>\n",
       "      <th>children</th>\n",
       "      <th>days_employed</th>\n",
       "      <th>dob_years</th>\n",
       "      <th>education</th>\n",
       "      <th>education_id</th>\n",
       "      <th>family_status</th>\n",
       "      <th>family_status_id</th>\n",
       "      <th>gender</th>\n",
       "      <th>income_type</th>\n",
       "      <th>debt</th>\n",
       "      <th>total_income</th>\n",
       "      <th>purpose</th>\n",
       "    </tr>\n",
       "  </thead>\n",
       "  <tbody>\n",
       "    <tr>\n",
       "      <th>0</th>\n",
       "      <td>1</td>\n",
       "      <td>-8437.673028</td>\n",
       "      <td>42</td>\n",
       "      <td>высшее</td>\n",
       "      <td>0</td>\n",
       "      <td>женат / замужем</td>\n",
       "      <td>0</td>\n",
       "      <td>F</td>\n",
       "      <td>сотрудник</td>\n",
       "      <td>0</td>\n",
       "      <td>253875.639453</td>\n",
       "      <td>покупка жилья</td>\n",
       "    </tr>\n",
       "    <tr>\n",
       "      <th>1</th>\n",
       "      <td>1</td>\n",
       "      <td>-4024.803754</td>\n",
       "      <td>36</td>\n",
       "      <td>среднее</td>\n",
       "      <td>1</td>\n",
       "      <td>женат / замужем</td>\n",
       "      <td>0</td>\n",
       "      <td>F</td>\n",
       "      <td>сотрудник</td>\n",
       "      <td>0</td>\n",
       "      <td>112080.014102</td>\n",
       "      <td>приобретение автомобиля</td>\n",
       "    </tr>\n",
       "    <tr>\n",
       "      <th>2</th>\n",
       "      <td>0</td>\n",
       "      <td>-5623.422610</td>\n",
       "      <td>33</td>\n",
       "      <td>Среднее</td>\n",
       "      <td>1</td>\n",
       "      <td>женат / замужем</td>\n",
       "      <td>0</td>\n",
       "      <td>M</td>\n",
       "      <td>сотрудник</td>\n",
       "      <td>0</td>\n",
       "      <td>145885.952297</td>\n",
       "      <td>покупка жилья</td>\n",
       "    </tr>\n",
       "    <tr>\n",
       "      <th>3</th>\n",
       "      <td>3</td>\n",
       "      <td>-4124.747207</td>\n",
       "      <td>32</td>\n",
       "      <td>среднее</td>\n",
       "      <td>1</td>\n",
       "      <td>женат / замужем</td>\n",
       "      <td>0</td>\n",
       "      <td>M</td>\n",
       "      <td>сотрудник</td>\n",
       "      <td>0</td>\n",
       "      <td>267628.550329</td>\n",
       "      <td>дополнительное образование</td>\n",
       "    </tr>\n",
       "    <tr>\n",
       "      <th>4</th>\n",
       "      <td>0</td>\n",
       "      <td>340266.072047</td>\n",
       "      <td>53</td>\n",
       "      <td>среднее</td>\n",
       "      <td>1</td>\n",
       "      <td>гражданский брак</td>\n",
       "      <td>1</td>\n",
       "      <td>F</td>\n",
       "      <td>пенсионер</td>\n",
       "      <td>0</td>\n",
       "      <td>158616.077870</td>\n",
       "      <td>сыграть свадьбу</td>\n",
       "    </tr>\n",
       "    <tr>\n",
       "      <th>5</th>\n",
       "      <td>0</td>\n",
       "      <td>-926.185831</td>\n",
       "      <td>27</td>\n",
       "      <td>высшее</td>\n",
       "      <td>0</td>\n",
       "      <td>гражданский брак</td>\n",
       "      <td>1</td>\n",
       "      <td>M</td>\n",
       "      <td>компаньон</td>\n",
       "      <td>0</td>\n",
       "      <td>255763.565419</td>\n",
       "      <td>покупка жилья</td>\n",
       "    </tr>\n",
       "    <tr>\n",
       "      <th>6</th>\n",
       "      <td>0</td>\n",
       "      <td>-2879.202052</td>\n",
       "      <td>43</td>\n",
       "      <td>высшее</td>\n",
       "      <td>0</td>\n",
       "      <td>женат / замужем</td>\n",
       "      <td>0</td>\n",
       "      <td>F</td>\n",
       "      <td>компаньон</td>\n",
       "      <td>0</td>\n",
       "      <td>240525.971920</td>\n",
       "      <td>операции с жильем</td>\n",
       "    </tr>\n",
       "    <tr>\n",
       "      <th>7</th>\n",
       "      <td>0</td>\n",
       "      <td>-152.779569</td>\n",
       "      <td>50</td>\n",
       "      <td>СРЕДНЕЕ</td>\n",
       "      <td>1</td>\n",
       "      <td>женат / замужем</td>\n",
       "      <td>0</td>\n",
       "      <td>M</td>\n",
       "      <td>сотрудник</td>\n",
       "      <td>0</td>\n",
       "      <td>135823.934197</td>\n",
       "      <td>образование</td>\n",
       "    </tr>\n",
       "    <tr>\n",
       "      <th>8</th>\n",
       "      <td>2</td>\n",
       "      <td>-6929.865299</td>\n",
       "      <td>35</td>\n",
       "      <td>ВЫСШЕЕ</td>\n",
       "      <td>0</td>\n",
       "      <td>гражданский брак</td>\n",
       "      <td>1</td>\n",
       "      <td>F</td>\n",
       "      <td>сотрудник</td>\n",
       "      <td>0</td>\n",
       "      <td>95856.832424</td>\n",
       "      <td>на проведение свадьбы</td>\n",
       "    </tr>\n",
       "    <tr>\n",
       "      <th>9</th>\n",
       "      <td>0</td>\n",
       "      <td>-2188.756445</td>\n",
       "      <td>41</td>\n",
       "      <td>среднее</td>\n",
       "      <td>1</td>\n",
       "      <td>женат / замужем</td>\n",
       "      <td>0</td>\n",
       "      <td>M</td>\n",
       "      <td>сотрудник</td>\n",
       "      <td>0</td>\n",
       "      <td>144425.938277</td>\n",
       "      <td>покупка жилья для семьи</td>\n",
       "    </tr>\n",
       "    <tr>\n",
       "      <th>10</th>\n",
       "      <td>2</td>\n",
       "      <td>-4171.483647</td>\n",
       "      <td>36</td>\n",
       "      <td>высшее</td>\n",
       "      <td>0</td>\n",
       "      <td>женат / замужем</td>\n",
       "      <td>0</td>\n",
       "      <td>M</td>\n",
       "      <td>компаньон</td>\n",
       "      <td>0</td>\n",
       "      <td>113943.491460</td>\n",
       "      <td>покупка недвижимости</td>\n",
       "    </tr>\n",
       "    <tr>\n",
       "      <th>11</th>\n",
       "      <td>0</td>\n",
       "      <td>-792.701887</td>\n",
       "      <td>40</td>\n",
       "      <td>среднее</td>\n",
       "      <td>1</td>\n",
       "      <td>женат / замужем</td>\n",
       "      <td>0</td>\n",
       "      <td>F</td>\n",
       "      <td>сотрудник</td>\n",
       "      <td>0</td>\n",
       "      <td>77069.234271</td>\n",
       "      <td>покупка коммерческой недвижимости</td>\n",
       "    </tr>\n",
       "    <tr>\n",
       "      <th>12</th>\n",
       "      <td>0</td>\n",
       "      <td>NaN</td>\n",
       "      <td>65</td>\n",
       "      <td>среднее</td>\n",
       "      <td>1</td>\n",
       "      <td>гражданский брак</td>\n",
       "      <td>1</td>\n",
       "      <td>M</td>\n",
       "      <td>пенсионер</td>\n",
       "      <td>0</td>\n",
       "      <td>NaN</td>\n",
       "      <td>сыграть свадьбу</td>\n",
       "    </tr>\n",
       "    <tr>\n",
       "      <th>13</th>\n",
       "      <td>0</td>\n",
       "      <td>-1846.641941</td>\n",
       "      <td>54</td>\n",
       "      <td>неоконченное высшее</td>\n",
       "      <td>2</td>\n",
       "      <td>женат / замужем</td>\n",
       "      <td>0</td>\n",
       "      <td>F</td>\n",
       "      <td>сотрудник</td>\n",
       "      <td>0</td>\n",
       "      <td>130458.228857</td>\n",
       "      <td>приобретение автомобиля</td>\n",
       "    </tr>\n",
       "    <tr>\n",
       "      <th>14</th>\n",
       "      <td>0</td>\n",
       "      <td>-1844.956182</td>\n",
       "      <td>56</td>\n",
       "      <td>высшее</td>\n",
       "      <td>0</td>\n",
       "      <td>гражданский брак</td>\n",
       "      <td>1</td>\n",
       "      <td>F</td>\n",
       "      <td>компаньон</td>\n",
       "      <td>1</td>\n",
       "      <td>165127.911772</td>\n",
       "      <td>покупка жилой недвижимости</td>\n",
       "    </tr>\n",
       "    <tr>\n",
       "      <th>15</th>\n",
       "      <td>1</td>\n",
       "      <td>-972.364419</td>\n",
       "      <td>26</td>\n",
       "      <td>среднее</td>\n",
       "      <td>1</td>\n",
       "      <td>женат / замужем</td>\n",
       "      <td>0</td>\n",
       "      <td>F</td>\n",
       "      <td>сотрудник</td>\n",
       "      <td>0</td>\n",
       "      <td>116820.904450</td>\n",
       "      <td>строительство собственной недвижимости</td>\n",
       "    </tr>\n",
       "    <tr>\n",
       "      <th>16</th>\n",
       "      <td>0</td>\n",
       "      <td>-1719.934226</td>\n",
       "      <td>35</td>\n",
       "      <td>среднее</td>\n",
       "      <td>1</td>\n",
       "      <td>женат / замужем</td>\n",
       "      <td>0</td>\n",
       "      <td>F</td>\n",
       "      <td>сотрудник</td>\n",
       "      <td>0</td>\n",
       "      <td>289202.704229</td>\n",
       "      <td>недвижимость</td>\n",
       "    </tr>\n",
       "    <tr>\n",
       "      <th>17</th>\n",
       "      <td>0</td>\n",
       "      <td>-2369.999720</td>\n",
       "      <td>33</td>\n",
       "      <td>высшее</td>\n",
       "      <td>0</td>\n",
       "      <td>гражданский брак</td>\n",
       "      <td>1</td>\n",
       "      <td>M</td>\n",
       "      <td>сотрудник</td>\n",
       "      <td>0</td>\n",
       "      <td>90410.586745</td>\n",
       "      <td>строительство недвижимости</td>\n",
       "    </tr>\n",
       "    <tr>\n",
       "      <th>18</th>\n",
       "      <td>0</td>\n",
       "      <td>400281.136913</td>\n",
       "      <td>53</td>\n",
       "      <td>среднее</td>\n",
       "      <td>1</td>\n",
       "      <td>вдовец / вдова</td>\n",
       "      <td>2</td>\n",
       "      <td>F</td>\n",
       "      <td>пенсионер</td>\n",
       "      <td>0</td>\n",
       "      <td>56823.777243</td>\n",
       "      <td>на покупку подержанного автомобиля</td>\n",
       "    </tr>\n",
       "    <tr>\n",
       "      <th>19</th>\n",
       "      <td>0</td>\n",
       "      <td>-10038.818549</td>\n",
       "      <td>48</td>\n",
       "      <td>СРЕДНЕЕ</td>\n",
       "      <td>1</td>\n",
       "      <td>в разводе</td>\n",
       "      <td>3</td>\n",
       "      <td>F</td>\n",
       "      <td>сотрудник</td>\n",
       "      <td>0</td>\n",
       "      <td>242831.107982</td>\n",
       "      <td>на покупку своего автомобиля</td>\n",
       "    </tr>\n",
       "  </tbody>\n",
       "</table>\n",
       "</div>"
      ],
      "text/plain": [
       "    children  days_employed  dob_years            education  education_id  \\\n",
       "0          1   -8437.673028         42               высшее             0   \n",
       "1          1   -4024.803754         36              среднее             1   \n",
       "2          0   -5623.422610         33              Среднее             1   \n",
       "3          3   -4124.747207         32              среднее             1   \n",
       "4          0  340266.072047         53              среднее             1   \n",
       "5          0    -926.185831         27               высшее             0   \n",
       "6          0   -2879.202052         43               высшее             0   \n",
       "7          0    -152.779569         50              СРЕДНЕЕ             1   \n",
       "8          2   -6929.865299         35               ВЫСШЕЕ             0   \n",
       "9          0   -2188.756445         41              среднее             1   \n",
       "10         2   -4171.483647         36               высшее             0   \n",
       "11         0    -792.701887         40              среднее             1   \n",
       "12         0            NaN         65              среднее             1   \n",
       "13         0   -1846.641941         54  неоконченное высшее             2   \n",
       "14         0   -1844.956182         56               высшее             0   \n",
       "15         1    -972.364419         26              среднее             1   \n",
       "16         0   -1719.934226         35              среднее             1   \n",
       "17         0   -2369.999720         33               высшее             0   \n",
       "18         0  400281.136913         53              среднее             1   \n",
       "19         0  -10038.818549         48              СРЕДНЕЕ             1   \n",
       "\n",
       "       family_status  family_status_id gender income_type  debt  \\\n",
       "0    женат / замужем                 0      F   сотрудник     0   \n",
       "1    женат / замужем                 0      F   сотрудник     0   \n",
       "2    женат / замужем                 0      M   сотрудник     0   \n",
       "3    женат / замужем                 0      M   сотрудник     0   \n",
       "4   гражданский брак                 1      F   пенсионер     0   \n",
       "5   гражданский брак                 1      M   компаньон     0   \n",
       "6    женат / замужем                 0      F   компаньон     0   \n",
       "7    женат / замужем                 0      M   сотрудник     0   \n",
       "8   гражданский брак                 1      F   сотрудник     0   \n",
       "9    женат / замужем                 0      M   сотрудник     0   \n",
       "10   женат / замужем                 0      M   компаньон     0   \n",
       "11   женат / замужем                 0      F   сотрудник     0   \n",
       "12  гражданский брак                 1      M   пенсионер     0   \n",
       "13   женат / замужем                 0      F   сотрудник     0   \n",
       "14  гражданский брак                 1      F   компаньон     1   \n",
       "15   женат / замужем                 0      F   сотрудник     0   \n",
       "16   женат / замужем                 0      F   сотрудник     0   \n",
       "17  гражданский брак                 1      M   сотрудник     0   \n",
       "18    вдовец / вдова                 2      F   пенсионер     0   \n",
       "19         в разводе                 3      F   сотрудник     0   \n",
       "\n",
       "     total_income                                 purpose  \n",
       "0   253875.639453                           покупка жилья  \n",
       "1   112080.014102                 приобретение автомобиля  \n",
       "2   145885.952297                           покупка жилья  \n",
       "3   267628.550329              дополнительное образование  \n",
       "4   158616.077870                         сыграть свадьбу  \n",
       "5   255763.565419                           покупка жилья  \n",
       "6   240525.971920                       операции с жильем  \n",
       "7   135823.934197                             образование  \n",
       "8    95856.832424                   на проведение свадьбы  \n",
       "9   144425.938277                 покупка жилья для семьи  \n",
       "10  113943.491460                    покупка недвижимости  \n",
       "11   77069.234271       покупка коммерческой недвижимости  \n",
       "12            NaN                         сыграть свадьбу  \n",
       "13  130458.228857                 приобретение автомобиля  \n",
       "14  165127.911772              покупка жилой недвижимости  \n",
       "15  116820.904450  строительство собственной недвижимости  \n",
       "16  289202.704229                            недвижимость  \n",
       "17   90410.586745              строительство недвижимости  \n",
       "18   56823.777243      на покупку подержанного автомобиля  \n",
       "19  242831.107982            на покупку своего автомобиля  "
      ]
     },
     "execution_count": 3,
     "metadata": {},
     "output_type": "execute_result"
    }
   ],
   "source": [
    "data.head(20)"
   ]
  },
  {
   "cell_type": "markdown",
   "id": "ece9ca16",
   "metadata": {
    "id": "1c12e233"
   },
   "source": [
    "Посмотрим основную информацию с помощью метода `info()`:"
   ]
  },
  {
   "cell_type": "code",
   "execution_count": 4,
   "id": "65309d76",
   "metadata": {
    "id": "2b757bca",
    "outputId": "15376089-8dad-46c9-b520-c05248d43158"
   },
   "outputs": [
    {
     "name": "stdout",
     "output_type": "stream",
     "text": [
      "<class 'pandas.core.frame.DataFrame'>\n",
      "RangeIndex: 21525 entries, 0 to 21524\n",
      "Data columns (total 12 columns):\n",
      " #   Column            Non-Null Count  Dtype  \n",
      "---  ------            --------------  -----  \n",
      " 0   children          21525 non-null  int64  \n",
      " 1   days_employed     19351 non-null  float64\n",
      " 2   dob_years         21525 non-null  int64  \n",
      " 3   education         21525 non-null  object \n",
      " 4   education_id      21525 non-null  int64  \n",
      " 5   family_status     21525 non-null  object \n",
      " 6   family_status_id  21525 non-null  int64  \n",
      " 7   gender            21525 non-null  object \n",
      " 8   income_type       21525 non-null  object \n",
      " 9   debt              21525 non-null  int64  \n",
      " 10  total_income      19351 non-null  float64\n",
      " 11  purpose           21525 non-null  object \n",
      "dtypes: float64(2), int64(5), object(5)\n",
      "memory usage: 2.0+ MB\n"
     ]
    }
   ],
   "source": [
    "data.info()"
   ]
  },
  {
   "cell_type": "markdown",
   "id": "99cb1416",
   "metadata": {},
   "source": [
    "Видим, что в таблице 12 столбцов:\n",
    "\n",
    "* `children` — количество детей у заёмщика (тип данных `int64`);\n",
    "* `days_employed` — рабочий стаж в днях (тип данных `float64`);  \n",
    "* `dob_years` — возраст (тип данных `int64`);\n",
    "* `education` — образование (тип данных `object`);\n",
    "* `education_id` — id образования (тип данных `int64`);\n",
    "* `family_status` — семейное положение (тип данных `object`);\n",
    "* `family_status_id` — id семейного положения (тип данных `int64`);\n",
    "* `gender` — пол (тип данных `object`);\n",
    "* `income_type` — тип занятости (тип данных `object`);\n",
    "* `debt` — задолженность (1 - да, 0 - нет) (тип данных `int64`);\n",
    "* `total_income` — уровень дохода (тип данных `float64`);\n",
    "* `purpose` — цель кредита (тип данных `object`). \n",
    "\n",
    "Количество значений в столбцах `days_employed` и `total_income` отличается по сравнению с остальными столбцами. Значит, в них есть пропущенные значения."
   ]
  },
  {
   "cell_type": "markdown",
   "id": "4156e316",
   "metadata": {
    "id": "333ec665"
   },
   "source": [
    "## 2 Предобработка данных"
   ]
  },
  {
   "cell_type": "markdown",
   "id": "fdb49740",
   "metadata": {
    "id": "02d92d53"
   },
   "source": [
    "### 2.1 Обработка пропусков в столбце `total_income`"
   ]
  },
  {
   "cell_type": "markdown",
   "id": "73eacdb1",
   "metadata": {
    "id": "cd84967c"
   },
   "source": [
    "Выведем количество пропущенных значений для каждого столбца:"
   ]
  },
  {
   "cell_type": "code",
   "execution_count": 5,
   "id": "8c352e75",
   "metadata": {
    "id": "7f9b2309",
    "outputId": "81f4d817-781c-465c-ed15-91ce4446810d"
   },
   "outputs": [
    {
     "data": {
      "text/plain": [
       "children               0\n",
       "days_employed       2174\n",
       "dob_years              0\n",
       "education              0\n",
       "education_id           0\n",
       "family_status          0\n",
       "family_status_id       0\n",
       "gender                 0\n",
       "income_type            0\n",
       "debt                   0\n",
       "total_income        2174\n",
       "purpose                0\n",
       "dtype: int64"
      ]
     },
     "execution_count": 5,
     "metadata": {},
     "output_type": "execute_result"
    }
   ],
   "source": [
    "data.isna().sum()"
   ]
  },
  {
   "cell_type": "markdown",
   "id": "dde46926",
   "metadata": {},
   "source": [
    "Видим, что в столбцах `days_employed` и `total_income` пропуски равны и симметричны. Возможно, они появились из-за нежелания этих пользователей оставлять эти данные или из-за какой-то технической ошибки.\n",
    "\n",
    "Для начала обработаем `total_income`. Он хранит данные о доходах, а на сумму дохода сильнее всего влияет тип занятости, поэтому заполнить пропуски в этом столбце нужно медианным значением по каждому типу из столбца `income_type`. Медиана здесь предпочтительнее среднего, так как она позволяет избежать перекоса вычислениях, если в них встречаются редкие, но сильно отличающиеся от других значений, выбросы:"
   ]
  },
  {
   "cell_type": "code",
   "execution_count": 6,
   "id": "3e39671a",
   "metadata": {
    "id": "42006a93"
   },
   "outputs": [],
   "source": [
    "for t in data['income_type'].unique():\n",
    "    data.loc[(data['income_type'] == t) & (data['total_income'].isna()), 'total_income'] = \\\n",
    "    data.loc[(data['income_type'] == t), 'total_income'].median()"
   ]
  },
  {
   "cell_type": "markdown",
   "id": "639fa9ac",
   "metadata": {
    "id": "89da5ece"
   },
   "source": [
    "### 2.2 Обработка аномальных значений"
   ]
  },
  {
   "cell_type": "markdown",
   "id": "14f8087a",
   "metadata": {
    "id": "57964554"
   },
   "source": [
    "Выше, посмотрев первые 20 строчек, мы обнаружили аномальные значения, которые не отражают действительность и появились по какой-то ошибке. Это отрицательное количество дней трудового стажа в столбце `days_employed`. Стоит обработать эти значения методом `abs()` - он заменит все отрицательные значения положительными:"
   ]
  },
  {
   "cell_type": "code",
   "execution_count": 7,
   "id": "3148ddc8",
   "metadata": {
    "id": "f6f055bf"
   },
   "outputs": [],
   "source": [
    "data['days_employed'] = data['days_employed'].abs()"
   ]
  },
  {
   "cell_type": "markdown",
   "id": "7b5f3e89",
   "metadata": {
    "id": "6107dd2f"
   },
   "source": [
    "После этого взглянем на то, какие у нас получились медианные значения трудового стажа для разных категорий занятости:"
   ]
  },
  {
   "cell_type": "code",
   "execution_count": 8,
   "id": "7a016f6f",
   "metadata": {
    "id": "85a5faf6",
    "outputId": "801ef80e-522b-4668-f34e-565af7432bcf"
   },
   "outputs": [
    {
     "data": {
      "text/plain": [
       "income_type\n",
       "безработный        366413.652744\n",
       "в декрете            3296.759962\n",
       "госслужащий          2689.368353\n",
       "компаньон            1547.382223\n",
       "пенсионер          365213.306266\n",
       "предприниматель       520.848083\n",
       "сотрудник            1574.202821\n",
       "студент               578.751554\n",
       "Name: days_employed, dtype: float64"
      ]
     },
     "execution_count": 8,
     "metadata": {},
     "output_type": "execute_result"
    }
   ],
   "source": [
    "data.groupby('income_type')['days_employed'].agg('median')"
   ]
  },
  {
   "cell_type": "markdown",
   "id": "931772a5",
   "metadata": {
    "id": "38d1a030"
   },
   "source": [
    "У безработных и пенсионеров аномально большие значения. Но в данном случае можно оставить их \"как есть\" - столбец не понадобится для исследования."
   ]
  },
  {
   "cell_type": "markdown",
   "id": "7bc8b8c8",
   "metadata": {
    "id": "d8a9f147"
   },
   "source": [
    "Теперь взглянём на уникальные значения столбца `children`:"
   ]
  },
  {
   "cell_type": "code",
   "execution_count": 9,
   "id": "05cfe84b",
   "metadata": {
    "id": "ef5056eb",
    "outputId": "6975b15c-7f95-4697-d16d-a0c79b657b03"
   },
   "outputs": [
    {
     "data": {
      "text/plain": [
       "array([ 1,  0,  3,  2, -1,  4, 20,  5])"
      ]
     },
     "execution_count": 9,
     "metadata": {},
     "output_type": "execute_result"
    }
   ],
   "source": [
    "data['children'].unique()"
   ]
  },
  {
   "cell_type": "markdown",
   "id": "1fabd198",
   "metadata": {
    "id": "40b9ebf2"
   },
   "source": [
    "Здесь есть два аномальных значения. Удалим строки, в которых встречаются такие аномальные значения, из датафрейма `data`:"
   ]
  },
  {
   "cell_type": "code",
   "execution_count": 10,
   "id": "bc6edd9b",
   "metadata": {
    "id": "3ff9801d"
   },
   "outputs": [],
   "source": [
    "data = data[(data['children'] != -1) & (data['children'] != 20)]"
   ]
  },
  {
   "cell_type": "markdown",
   "id": "b857e74d",
   "metadata": {
    "id": "bbc4d0ce"
   },
   "source": [
    "Убедимся, что артефакты удалены:"
   ]
  },
  {
   "cell_type": "code",
   "execution_count": 11,
   "id": "2662a609",
   "metadata": {
    "id": "ad4fa8b7",
    "outputId": "b2097101-d49d-44d9-901b-32a65c9463d1"
   },
   "outputs": [
    {
     "data": {
      "text/plain": [
       "array([1, 0, 3, 2, 4, 5])"
      ]
     },
     "execution_count": 11,
     "metadata": {},
     "output_type": "execute_result"
    }
   ],
   "source": [
    "data['children'].unique()"
   ]
  },
  {
   "cell_type": "markdown",
   "id": "70302102",
   "metadata": {
    "id": "75440b63"
   },
   "source": [
    "### 2.3 Обработка пропусков в `days_employed`"
   ]
  },
  {
   "cell_type": "markdown",
   "id": "5af9acbe",
   "metadata": {
    "id": "f4ea573f"
   },
   "source": [
    "Заполним пропуски в столбце `days_employed` медианными значениями каждого типа занятости `income_type`:"
   ]
  },
  {
   "cell_type": "code",
   "execution_count": 12,
   "id": "4ce9e2b7",
   "metadata": {
    "id": "af6b1a7e"
   },
   "outputs": [],
   "source": [
    "for t in data['income_type'].unique():\n",
    "    data.loc[(data['income_type'] == t) & (data['days_employed'].isna()), 'days_employed'] = \\\n",
    "    data.loc[(data['income_type'] == t), 'days_employed'].median()"
   ]
  },
  {
   "cell_type": "markdown",
   "id": "02b3ac5d",
   "metadata": {
    "id": "2753f40d"
   },
   "source": [
    "Проверим обработку пропусков - выведем количество пропущенных значений для каждого столбца:"
   ]
  },
  {
   "cell_type": "code",
   "execution_count": 13,
   "id": "e064f571",
   "metadata": {
    "id": "55f78bc2",
    "outputId": "8da1e4e1-358e-4e87-98c9-f261bce0a7b2"
   },
   "outputs": [
    {
     "data": {
      "text/plain": [
       "children            0\n",
       "days_employed       0\n",
       "dob_years           0\n",
       "education           0\n",
       "education_id        0\n",
       "family_status       0\n",
       "family_status_id    0\n",
       "gender              0\n",
       "income_type         0\n",
       "debt                0\n",
       "total_income        0\n",
       "purpose             0\n",
       "dtype: int64"
      ]
     },
     "execution_count": 13,
     "metadata": {},
     "output_type": "execute_result"
    }
   ],
   "source": [
    "data.isna().sum()"
   ]
  },
  {
   "cell_type": "markdown",
   "id": "8931c234",
   "metadata": {
    "id": "ddc81e43"
   },
   "source": [
    "### 2.4 Изменение типов данных"
   ]
  },
  {
   "cell_type": "markdown",
   "id": "21ba907c",
   "metadata": {
    "id": "42d19d24"
   },
   "source": [
    "Заменим вещественный тип данных в столбце `total_income` на целочисленный с помощью метода `astype()`:"
   ]
  },
  {
   "cell_type": "code",
   "execution_count": 14,
   "id": "34d39aa4",
   "metadata": {
    "id": "920b65ad"
   },
   "outputs": [],
   "source": [
    "data['total_income'] = data['total_income'].astype(int)"
   ]
  },
  {
   "cell_type": "markdown",
   "id": "9dde9fbb",
   "metadata": {
    "id": "80c420ba"
   },
   "source": [
    "### 2.5 Обработка дубликатов"
   ]
  },
  {
   "cell_type": "markdown",
   "id": "4192b728",
   "metadata": {},
   "source": [
    "Обработаем неявные дубликаты в столбце `education`. В этом столбце есть одни и те же значения, но записанные по-разному: с использованием заглавных и строчных букв. Приведем их к нижнему регистру:"
   ]
  },
  {
   "cell_type": "code",
   "execution_count": 15,
   "id": "e9759ae2",
   "metadata": {},
   "outputs": [],
   "source": [
    "data['education'] = data['education'].str.lower()"
   ]
  },
  {
   "cell_type": "markdown",
   "id": "816396b3",
   "metadata": {
    "id": "dc587695"
   },
   "source": [
    "Посмотрим, не появились ли дубликаты:"
   ]
  },
  {
   "cell_type": "code",
   "execution_count": 16,
   "id": "fd3e1410",
   "metadata": {
    "id": "3ee445e4",
    "outputId": "9684deba-1934-42d1-99e1-cda61740f822"
   },
   "outputs": [
    {
     "data": {
      "text/plain": [
       "71"
      ]
     },
     "execution_count": 16,
     "metadata": {},
     "output_type": "execute_result"
    }
   ],
   "source": [
    "data.duplicated().sum()"
   ]
  },
  {
   "cell_type": "markdown",
   "id": "0224b720",
   "metadata": {},
   "source": [
    "Их не много, но они есть. Удалим их из датафрейма:"
   ]
  },
  {
   "cell_type": "code",
   "execution_count": 17,
   "id": "b889b8fb",
   "metadata": {
    "id": "8575fe05"
   },
   "outputs": [],
   "source": [
    "data = data.drop_duplicates()"
   ]
  },
  {
   "cell_type": "markdown",
   "id": "21ba1588",
   "metadata": {
    "id": "9904cf55"
   },
   "source": [
    "### 2.6 Категоризация данных"
   ]
  },
  {
   "cell_type": "markdown",
   "id": "a86d168e",
   "metadata": {
    "id": "72fcc8a2"
   },
   "source": [
    "На основании следующих диапазонов создадим в датафрейме `data` столбец `total_income_category` с категориями:\n",
    "\n",
    "- 0–30000 — `'E'`;\n",
    "- 30001–50000 — `'D'`;\n",
    "- 50001–200000 — `'C'`;\n",
    "- 200001–1000000 — `'B'`;\n",
    "- 1000001 и выше — `'A'`.\n",
    "\n",
    "\n",
    "Таким образом, кредитополучателю с доходом, скажем, 25000 будет присвоена категория `'E'`, а клиенту, получающему 235000, — `'B'`.\n",
    "\n",
    "Для этих целей напишем функцию `categorize_income()`, которую применим при помощи `apply()` к столбцу `total_income` нашего датафрейма:"
   ]
  },
  {
   "cell_type": "code",
   "execution_count": 18,
   "id": "2ab6a4bb",
   "metadata": {
    "id": "e1771346"
   },
   "outputs": [],
   "source": [
    "def categorize_income(income):\n",
    "    try:\n",
    "        if 0 <= income <= 30000:\n",
    "            return 'E'\n",
    "        elif 30001 <= income <= 50000:\n",
    "            return 'D'\n",
    "        elif 50001 <= income <= 200000:\n",
    "            return 'C'\n",
    "        elif 200001 <= income <= 1000000:\n",
    "            return 'B'\n",
    "        elif income >= 1000001:\n",
    "            return 'A'\n",
    "    except:\n",
    "        pass"
   ]
  },
  {
   "cell_type": "code",
   "execution_count": 19,
   "id": "5b3d313f",
   "metadata": {
    "id": "d5f3586d"
   },
   "outputs": [],
   "source": [
    "data['total_income_category'] = data['total_income'].apply(categorize_income)"
   ]
  },
  {
   "cell_type": "markdown",
   "id": "40391f54",
   "metadata": {
    "id": "dde49b5c"
   },
   "source": [
    "Также, выведем на экран перечень уникальных целей взятия кредита из столбца `purpose`:"
   ]
  },
  {
   "cell_type": "code",
   "execution_count": 20,
   "id": "feba348d",
   "metadata": {
    "id": "f67ce9b3",
    "outputId": "673c12d9-7d7e-4ae0-9812-c622c89dd244"
   },
   "outputs": [
    {
     "data": {
      "text/plain": [
       "array(['покупка жилья', 'приобретение автомобиля',\n",
       "       'дополнительное образование', 'сыграть свадьбу',\n",
       "       'операции с жильем', 'образование', 'на проведение свадьбы',\n",
       "       'покупка жилья для семьи', 'покупка недвижимости',\n",
       "       'покупка коммерческой недвижимости', 'покупка жилой недвижимости',\n",
       "       'строительство собственной недвижимости', 'недвижимость',\n",
       "       'строительство недвижимости', 'на покупку подержанного автомобиля',\n",
       "       'на покупку своего автомобиля',\n",
       "       'операции с коммерческой недвижимостью',\n",
       "       'строительство жилой недвижимости', 'жилье',\n",
       "       'операции со своей недвижимостью', 'автомобили',\n",
       "       'заняться образованием', 'сделка с подержанным автомобилем',\n",
       "       'получение образования', 'автомобиль', 'свадьба',\n",
       "       'получение дополнительного образования', 'покупка своего жилья',\n",
       "       'операции с недвижимостью', 'получение высшего образования',\n",
       "       'свой автомобиль', 'сделка с автомобилем',\n",
       "       'профильное образование', 'высшее образование',\n",
       "       'покупка жилья для сдачи', 'на покупку автомобиля', 'ремонт жилью',\n",
       "       'заняться высшим образованием'], dtype=object)"
      ]
     },
     "execution_count": 20,
     "metadata": {},
     "output_type": "execute_result"
    }
   ],
   "source": [
    "data['purpose'].unique()"
   ]
  },
  {
   "cell_type": "markdown",
   "id": "aa72ae47",
   "metadata": {
    "id": "85d0aef0"
   },
   "source": [
    "Создадим функцию, которая на основании данных из столбца `purpose` сформирует новый столбец `purpose_category`, в который войдут следующие категории:\n",
    "\n",
    "- `'операции с автомобилем'`,\n",
    "- `'операции с недвижимостью'`,\n",
    "- `'проведение свадьбы'`,\n",
    "- `'получение образования'`.\n",
    "\n",
    "Например, если в столбце `purpose` находится подстрока `'на покупку автомобиля'`, то в столбце `purpose_category` появится строка `'операции с автомобилем'`.\n",
    "\n",
    "Для этих целей напишем функцию `categorize_purpose()`:"
   ]
  },
  {
   "cell_type": "code",
   "execution_count": 21,
   "id": "8d04530e",
   "metadata": {
    "id": "e149fab4"
   },
   "outputs": [],
   "source": [
    "def categorize_purpose(row):\n",
    "    try:\n",
    "        if 'автом' in row:\n",
    "            return 'операции с автомобилем'\n",
    "        elif 'жил' in row or 'недвиж' in row:\n",
    "            return 'операции с недвижимостью'\n",
    "        elif 'свад' in row:\n",
    "            return 'проведение свадьбы'\n",
    "        elif 'образов' in row:\n",
    "            return 'получение образования'\n",
    "    except:\n",
    "        return 'нет категории'"
   ]
  },
  {
   "cell_type": "code",
   "execution_count": 22,
   "id": "5545118f",
   "metadata": {
    "id": "bf36e69b"
   },
   "outputs": [],
   "source": [
    "data['purpose_category'] = data['purpose'].apply(categorize_purpose)"
   ]
  },
  {
   "cell_type": "markdown",
   "id": "8edbe73e",
   "metadata": {
    "id": "09b242bf"
   },
   "source": [
    "### 3 Исследуем данные и ответим на вопросы"
   ]
  },
  {
   "cell_type": "markdown",
   "id": "373f5c19",
   "metadata": {
    "id": "c5d66278"
   },
   "source": [
    "#### 3.1 Есть ли зависимость между количеством детей и возвратом кредита в срок?\n",
    "\n",
    "Создадим сводную таблицу `children_pivot`, чтобы посчитать общее количество кредитов (count) и сколько из них не было возвращено \n",
    "в срок (sum). В качестве столбца для группировки берём столбец *children* из исходного датафрейма data. Необходимые значения (values) даст столбец с данными по задолженности *debt* - к нему применим функции 'count' и 'sum':"
   ]
  },
  {
   "cell_type": "code",
   "execution_count": 36,
   "id": "cb1eb0df",
   "metadata": {
    "id": "2cacfc4a"
   },
   "outputs": [
    {
     "data": {
      "text/html": [
       "<style  type=\"text/css\" >\n",
       "#T_87ef2_row0_col3{\n",
       "            background-color:  #a50026;\n",
       "            color:  #f1f1f1;\n",
       "        }#T_87ef2_row1_col3{\n",
       "            background-color:  #a90426;\n",
       "            color:  #f1f1f1;\n",
       "        }#T_87ef2_row2_col3{\n",
       "            background-color:  #006837;\n",
       "            color:  #f1f1f1;\n",
       "        }</style><table id=\"T_87ef2_\" ><caption>Влияние количества детей на возврат кредита в срок</caption><thead>    <tr>        <th class=\"col_heading level0 col0\" >children</th>        <th class=\"col_heading level0 col1\" >count</th>        <th class=\"col_heading level0 col2\" >sum</th>        <th class=\"col_heading level0 col3\" >Depend from children</th>    </tr></thead><tbody>\n",
       "                <tr>\n",
       "                                <td id=\"T_87ef2_row0_col0\" class=\"data row0 col0\" >2+</td>\n",
       "                        <td id=\"T_87ef2_row0_col1\" class=\"data row0 col1\" >2432</td>\n",
       "                        <td id=\"T_87ef2_row0_col2\" class=\"data row0 col2\" >225</td>\n",
       "                        <td id=\"T_87ef2_row0_col3\" class=\"data row0 col3\" >9.251645</td>\n",
       "            </tr>\n",
       "            <tr>\n",
       "                                <td id=\"T_87ef2_row1_col0\" class=\"data row1 col0\" >1</td>\n",
       "                        <td id=\"T_87ef2_row1_col1\" class=\"data row1 col1\" >4808</td>\n",
       "                        <td id=\"T_87ef2_row1_col2\" class=\"data row1 col2\" >444</td>\n",
       "                        <td id=\"T_87ef2_row1_col3\" class=\"data row1 col3\" >9.234609</td>\n",
       "            </tr>\n",
       "            <tr>\n",
       "                                <td id=\"T_87ef2_row2_col0\" class=\"data row2 col0\" >0</td>\n",
       "                        <td id=\"T_87ef2_row2_col1\" class=\"data row2 col1\" >14091</td>\n",
       "                        <td id=\"T_87ef2_row2_col2\" class=\"data row2 col2\" >1063</td>\n",
       "                        <td id=\"T_87ef2_row2_col3\" class=\"data row2 col3\" >7.543822</td>\n",
       "            </tr>\n",
       "    </tbody></table>"
      ],
      "text/plain": [
       "<pandas.io.formats.style.Styler at 0x7fa3138d3880>"
      ]
     },
     "metadata": {},
     "output_type": "display_data"
    }
   ],
   "source": [
    "children_pivot = data.pivot_table(index = ['children'], values = 'debt', aggfunc = ('count', 'sum'))\n",
    "\n",
    "# Для получения в процентном выражении значения зависимости просрочки кредита от количества детей поделим количество \n",
    "# невозвращенных вовремя займов из столбца ['sum'] на общее число займов столбца ['count']), а затем умножим на 100:\n",
    "children_pivot['Depend from children'] = (children_pivot['sum'] / children_pivot['count']) * 100\n",
    "\n",
    "# Есть строки с небольшим количеством данных. Например, заёмщиков с 4 детьми всего 41, из них не вернули деньги вовремя 4. По\n",
    "# такой маленькой выборке некорректно будет делать выводы о их платёжеспособности в целом. Данных по семьям с 3 и 5 детьми тоже\n",
    "# немного. В такой ситуации целесообразно выделить отдельную категорию заёмщиков - те, у кого 2 и более детей и в ней объединить\n",
    "# данные по всем подходящим заёмщикам.\n",
    "# Для этого преобразуем тип данных int в столбце ['children'] на str:\n",
    "data['children'] = data['children'].astype(str)\n",
    "\n",
    "# Переименуем строку столбца ['children'] co значением 2 на 2+:\n",
    "data.loc[data['children'] == '2', 'children'] = '2+'\n",
    "\n",
    "# Объединим данные строк, где детей 2 или больше: \n",
    "data.loc[data['children'] == '4', 'children'] = '2+'\n",
    "data.loc[data['children'] == '3', 'children'] = '2+'\n",
    "data.loc[data['children'] == '5', 'children'] = '2+'\n",
    "\n",
    "# Отсортируем значения по убыванию в столбце ['Depend from children'], отображающем значение зависимости просрочки кредита от \n",
    "# количества детей:\n",
    "\n",
    "children_pivot = children_pivot.sort_values(by=['Depend from children'], ascending=False)\n",
    "\n",
    "# Сделаем таблицу более визуально понятной. Применим reset_index() для сбрасывания мультииндекса - тогда названия столбцов \n",
    "# будут отображаться примерно на одном уровне. Подпишем таблицу, применив опцию set_caption, чтобы было\n",
    "# ясно какие именно данные она отображает. Скроем индекс строк, не несущий смысловой нагрузки, при помощи hide_index():\n",
    "\n",
    "children_pivot = children_pivot.reset_index().set_caption('Влияние количества детей на возврат кредита в срок').hide_index()\n",
    "\n",
    "# Выведем полученную таблицу на экран:\n",
    "\n",
    "display(children_pivot)"
   ]
  },
  {
   "cell_type": "markdown",
   "id": "c1be1c52",
   "metadata": {
    "id": "3a6b99ec"
   },
   "source": [
    "**Вывод:** Чем меньше значение в столбце 'Depend from children', тем лучше возвращает деньги в срок группа заёмщиков. \n",
    "\n",
    "По таблице мы видим, что чем больше детей - тем больше просрочек по кредитам. Среди семей с одним ребёнком просрочки у примерно 9,23% займов. Двое и больше детей поднимают это значение до 9,25%. А вот среди бездетных заёмщиков процент невозврата в срок ниже - 7,54%."
   ]
  },
  {
   "cell_type": "markdown",
   "id": "edc359c5",
   "metadata": {
    "id": "97be82ca"
   },
   "source": [
    "#### 3.2 Есть ли зависимость между семейным положением и возвратом кредита в срок?"
   ]
  },
  {
   "cell_type": "code",
   "execution_count": 38,
   "id": "d90382c7",
   "metadata": {
    "id": "dc3f7ee8"
   },
   "outputs": [
    {
     "data": {
      "text/html": [
       "<style  type=\"text/css\" >\n",
       "#T_474fc_row0_col3{\n",
       "            background-color:  #a50026;\n",
       "            color:  #f1f1f1;\n",
       "        }#T_474fc_row1_col3{\n",
       "            background-color:  #e65036;\n",
       "            color:  #000000;\n",
       "        }#T_474fc_row2_col3{\n",
       "            background-color:  #7fc866;\n",
       "            color:  #000000;\n",
       "        }#T_474fc_row3_col3{\n",
       "            background-color:  #006837;\n",
       "            color:  #f1f1f1;\n",
       "        }</style><table id=\"T_474fc_\" ><caption>Влияние семейного положения на возврат кредита в срок</caption><thead>    <tr>        <th class=\"col_heading level0 col0\" >family_status</th>        <th class=\"col_heading level0 col1\" colspan=\"2\">debt</th>        <th class=\"col_heading level0 col3\" >Depend from family status</th>    </tr>    <tr>        <th class=\"col_heading level1 col0\" ></th>        <th class=\"col_heading level1 col1\" >count</th>        <th class=\"col_heading level1 col2\" >sum</th>        <th class=\"col_heading level1 col3\" ></th>    </tr></thead><tbody>\n",
       "                <tr>\n",
       "                                <td id=\"T_474fc_row0_col0\" class=\"data row0 col0\" >Не женат / не замужем</td>\n",
       "                        <td id=\"T_474fc_row0_col1\" class=\"data row0 col1\" >2796</td>\n",
       "                        <td id=\"T_474fc_row0_col2\" class=\"data row0 col2\" >273</td>\n",
       "                        <td id=\"T_474fc_row0_col3\" class=\"data row0 col3\" >9.763948</td>\n",
       "            </tr>\n",
       "            <tr>\n",
       "                                <td id=\"T_474fc_row1_col0\" class=\"data row1 col0\" >гражданский брак</td>\n",
       "                        <td id=\"T_474fc_row1_col1\" class=\"data row1 col1\" >4134</td>\n",
       "                        <td id=\"T_474fc_row1_col2\" class=\"data row1 col2\" >385</td>\n",
       "                        <td id=\"T_474fc_row1_col3\" class=\"data row1 col3\" >9.313014</td>\n",
       "            </tr>\n",
       "            <tr>\n",
       "                                <td id=\"T_474fc_row2_col0\" class=\"data row2 col0\" >женат / замужем</td>\n",
       "                        <td id=\"T_474fc_row2_col1\" class=\"data row2 col1\" >12261</td>\n",
       "                        <td id=\"T_474fc_row2_col2\" class=\"data row2 col2\" >927</td>\n",
       "                        <td id=\"T_474fc_row2_col3\" class=\"data row2 col3\" >7.560558</td>\n",
       "            </tr>\n",
       "            <tr>\n",
       "                                <td id=\"T_474fc_row3_col0\" class=\"data row3 col0\" >были в браке</td>\n",
       "                        <td id=\"T_474fc_row3_col1\" class=\"data row3 col1\" >2140</td>\n",
       "                        <td id=\"T_474fc_row3_col2\" class=\"data row3 col2\" >147</td>\n",
       "                        <td id=\"T_474fc_row3_col3\" class=\"data row3 col3\" >6.869159</td>\n",
       "            </tr>\n",
       "    </tbody></table>"
      ],
      "text/plain": [
       "<pandas.io.formats.style.Styler at 0x7fa33caee7f0>"
      ]
     },
     "metadata": {},
     "output_type": "display_data"
    }
   ],
   "source": [
    "# Чтобы посчитать сколько всего было выдано кредитов заёмщикам с разным семейным положением (debt count) и какая часть из них\n",
    "# не была возвращена в срок (debt sum) сгруппируем данные по столбцам 'family_status' и 'debt', применив к последнему agg()\n",
    "# c функциями count и sum:\n",
    "family_depend_debt = data.groupby('family_status').agg({'debt': ['count', 'sum']})\n",
    "\n",
    "# Для получения значения зависимости просрочки кредита от семейного положения в % поделим количество невозвращенных вовремя\n",
    "# займов (debt sum) на общее число займов (debt count), а затем умножим на 100:\n",
    "family_depend_debt['Depend from family status'] = (family_depend_debt['debt']['sum'] / \n",
    "                                                   family_depend_debt['debt']['count']) * 100\n",
    "\n",
    "# Строки с теми, кто в разводе и вдовцами содержат не слишком большое количество данных. Их целесообразно будет объединить в \n",
    "# новую группу по общему признаку 'были в браке'. Для этого переименуем строку 'в разводе':\n",
    "data.loc[data['family_status'] == 'в разводе', 'family_status'] = 'были в браке'\n",
    "\n",
    "# Теперь объединим данные строк 'были в браке' с 'вдовец/вдова': \n",
    "data.loc[data['family_status'] == 'вдовец / вдова', 'family_status'] = 'были в браке'\n",
    "\n",
    "# Отсортируем значения по убыванию в столбце ['Depend from family status'], отображающем значение зависимости просрочки кредита \n",
    "# от семейного положения:\n",
    "family_depend_debt = family_depend_debt.sort_values(by=['Depend from family status'], ascending=False)\n",
    "\n",
    "# Подпишем таблицу, применив опцию set_caption, чтобы было ясно какие именно данные она отображает. Скроем индекс строк, не \n",
    "# несущий смысловой нагрузки при помощи hide_index():\n",
    "family_depend_debt = (\n",
    "    family_depend_debt\n",
    "    .reset_index()\n",
    "    .set_caption('Влияние семейного положения на возврат кредита в срок')\n",
    "    .hide_index()\n",
    ")\n",
    "#Выведем полученную таблицу на экран:\n",
    "display(family_depend_debt)"
   ]
  },
  {
   "cell_type": "markdown",
   "id": "c89e9fd3",
   "metadata": {
    "id": "1cef7837"
   },
   "source": [
    "**Вывод:** Чем меньше значение в столбце `Depend from family status`, тем лучше возвращает деньги в срок группа заёмщиков. \n",
    "Наилучшие показатели по возвратам в срок у вдовцов и разведённых, объединённых в группе *были в браке* - в этой категории не возвращается вовремя примерно 6,87% кредитов.\n",
    "\n",
    "Средний показатель невозврата кредитов в срок у тех, кто *женат/замужем* - 7,56%.\n",
    "\n",
    "Хуже всего показали себя *неженатые/незамужние* заёмщики - не возвращают деньги в срок 9.76% из них. Немногим лучше ситуация в группе тех, кто состоит в *гражданском браке* - просрочки допускаются ими в 9,31% случаев."
   ]
  },
  {
   "cell_type": "markdown",
   "id": "d6a8601d",
   "metadata": {},
   "source": [
    "<font color=\"green\">✔️ Комментарий ревьювера    \n",
    "Вывод верный. Если клиент не женат или не был женат - то вероятность просрочки выше </font>\n"
   ]
  },
  {
   "cell_type": "markdown",
   "id": "4177c68e",
   "metadata": {
    "id": "1e8b2fca"
   },
   "source": [
    "#### 3.3 Есть ли зависимость между уровнем дохода и возвратом кредита в срок?"
   ]
  },
  {
   "cell_type": "code",
   "execution_count": 39,
   "id": "f62097fc",
   "metadata": {
    "id": "cd7e3720",
    "scrolled": true
   },
   "outputs": [
    {
     "data": {
      "text/html": [
       "<style  type=\"text/css\" >\n",
       "#T_c6da9_row0_col3{\n",
       "            background-color:  #a50026;\n",
       "            color:  #f1f1f1;\n",
       "        }#T_c6da9_row1_col3{\n",
       "            background-color:  #f26841;\n",
       "            color:  #000000;\n",
       "        }#T_c6da9_row2_col3{\n",
       "            background-color:  #fec877;\n",
       "            color:  #000000;\n",
       "        }#T_c6da9_row3_col3{\n",
       "            background-color:  #b9e176;\n",
       "            color:  #000000;\n",
       "        }#T_c6da9_row4_col3{\n",
       "            background-color:  #006837;\n",
       "            color:  #f1f1f1;\n",
       "        }</style><table id=\"T_c6da9_\" ><caption>Влияние уровня дохода на возврат кредита в срок</caption><thead>    <tr>        <th class=\"col_heading level0 col0\" >total_income_category</th>        <th class=\"col_heading level0 col1\" colspan=\"2\">debt</th>        <th class=\"col_heading level0 col3\" >Depend from category income</th>    </tr>    <tr>        <th class=\"col_heading level1 col0\" ></th>        <th class=\"col_heading level1 col1\" >count</th>        <th class=\"col_heading level1 col2\" >sum</th>        <th class=\"col_heading level1 col3\" ></th>    </tr></thead><tbody>\n",
       "                <tr>\n",
       "                                <td id=\"T_c6da9_row0_col0\" class=\"data row0 col0\" >E</td>\n",
       "                        <td id=\"T_c6da9_row0_col1\" class=\"data row0 col1\" >22</td>\n",
       "                        <td id=\"T_c6da9_row0_col2\" class=\"data row0 col2\" >2</td>\n",
       "                        <td id=\"T_c6da9_row0_col3\" class=\"data row0 col3\" >9.090909</td>\n",
       "            </tr>\n",
       "            <tr>\n",
       "                                <td id=\"T_c6da9_row1_col0\" class=\"data row1 col0\" >C</td>\n",
       "                        <td id=\"T_c6da9_row1_col1\" class=\"data row1 col1\" >15921</td>\n",
       "                        <td id=\"T_c6da9_row1_col2\" class=\"data row1 col2\" >1353</td>\n",
       "                        <td id=\"T_c6da9_row1_col3\" class=\"data row1 col3\" >8.498210</td>\n",
       "            </tr>\n",
       "            <tr>\n",
       "                                <td id=\"T_c6da9_row2_col0\" class=\"data row2 col0\" >A</td>\n",
       "                        <td id=\"T_c6da9_row2_col1\" class=\"data row2 col1\" >25</td>\n",
       "                        <td id=\"T_c6da9_row2_col2\" class=\"data row2 col2\" >2</td>\n",
       "                        <td id=\"T_c6da9_row2_col3\" class=\"data row2 col3\" >8.000000</td>\n",
       "            </tr>\n",
       "            <tr>\n",
       "                                <td id=\"T_c6da9_row3_col0\" class=\"data row3 col0\" >B</td>\n",
       "                        <td id=\"T_c6da9_row3_col1\" class=\"data row3 col1\" >5014</td>\n",
       "                        <td id=\"T_c6da9_row3_col2\" class=\"data row3 col2\" >354</td>\n",
       "                        <td id=\"T_c6da9_row3_col3\" class=\"data row3 col3\" >7.060231</td>\n",
       "            </tr>\n",
       "            <tr>\n",
       "                                <td id=\"T_c6da9_row4_col0\" class=\"data row4 col0\" >D</td>\n",
       "                        <td id=\"T_c6da9_row4_col1\" class=\"data row4 col1\" >349</td>\n",
       "                        <td id=\"T_c6da9_row4_col2\" class=\"data row4 col2\" >21</td>\n",
       "                        <td id=\"T_c6da9_row4_col3\" class=\"data row4 col3\" >6.017192</td>\n",
       "            </tr>\n",
       "    </tbody></table>"
      ],
      "text/plain": [
       "<pandas.io.formats.style.Styler at 0x7fa313893580>"
      ]
     },
     "metadata": {},
     "output_type": "display_data"
    }
   ],
   "source": [
    "# Чтобы посчитать сколько всего было выдано кредитов заёмщикам с разным уровнем дохода (debt count) и какая часть из них не была\n",
    "# возвращена в срок (debt sum) сгруппируем данные по столбцу 'total_income_category' и 'debt', применив к последнему метод agg()\n",
    "# c функциями count и sum:\n",
    "income_depend_debt = data.groupby('total_income_category').agg({'debt': ['count', 'sum']})\n",
    "\n",
    "# Для получения в процентном выражении значения зависимости просрочки кредита от семейного положения поделим количество \n",
    "# невозвращенных вовремя займов (debt sum) на общее число займов (debt count), а затем умножим на 100:\n",
    "income_depend_debt['Depend from category income'] = (income_depend_debt['debt']['sum'] / income_depend_debt['debt']['count']) \\\n",
    "* 100\n",
    "\n",
    "# Отсортируем значения по убыванию в столбце ['Depend from category income'], отображающем значение зависимости просрочки \n",
    "# кредита от уровня дохода:\n",
    "income_depend_debt = income_depend_debt.sort_values(by=['Depend from category income'], ascending=False)\n",
    "\n",
    "# Подпишем таблицу, применив опцию set_caption, чтобы было ясно какие именно данные она отображает. Скроем индекс строк, не \n",
    "# несущий смысловой нагрузки при помощи hide_index():\n",
    "\n",
    "income_depend_debt = (\n",
    "    income_depend_debt\n",
    "    .reset_index()\n",
    "    .set_caption('Влияние уровня дохода на возврат кредита в срок')\n",
    "    .hide_index()\n",
    ")\n",
    "    \n",
    "#Выведем полученную таблицу на экран:\n",
    "display(income_depend_debt)"
   ]
  },
  {
   "cell_type": "markdown",
   "id": "5dec6755",
   "metadata": {
    "id": "e8593def"
   },
   "source": [
    "**Вывод:** Чем меньше значение в столбце `Depend from category income`, тем лучше возвращает деньги в срок группа заёмщиков.\n",
    "\n",
    "Данных в столбцах с категориями A, E и D слишком мало, чтобы сейчас сделать корректные выводы на их счёт. Однако объединять категории не стоит - в будущем данных может стать больше и мы сможем учесть и их, чтобы сделать расчет более точным, а также не упустить информацию, что увеличилось количество представителей какой-либо категории клиентов.\n",
    "\n",
    "Сейчас же рассмотрим 2 категории с максимальным количеством данных - группы В и С. По ним мы видим, что люди с более высоким доходом возвращают кредиты лучше - у них 7.06% просрочек по сравнению с 8,5% у заемщиков из категории С."
   ]
  },
  {
   "cell_type": "markdown",
   "id": "55d1eae1",
   "metadata": {
    "id": "99ecbd1f"
   },
   "source": [
    "#### 3.4 Как разные цели кредита влияют на его возврат в срок?"
   ]
  },
  {
   "cell_type": "code",
   "execution_count": 40,
   "id": "37688e29",
   "metadata": {
    "id": "2b687290"
   },
   "outputs": [
    {
     "data": {
      "text/html": [
       "<style  type=\"text/css\" >\n",
       "#T_21bb9_row0_col3{\n",
       "            background-color:  #a50026;\n",
       "            color:  #f1f1f1;\n",
       "        }#T_21bb9_row1_col3{\n",
       "            background-color:  #bb1526;\n",
       "            color:  #f1f1f1;\n",
       "        }#T_21bb9_row2_col3{\n",
       "            background-color:  #addc6f;\n",
       "            color:  #000000;\n",
       "        }#T_21bb9_row3_col3{\n",
       "            background-color:  #006837;\n",
       "            color:  #f1f1f1;\n",
       "        }</style><table id=\"T_21bb9_\" ><caption>Влияние целей кредита на его возврат в срок</caption><thead>    <tr>        <th class=\"col_heading level0 col0\" >purpose_category</th>        <th class=\"col_heading level0 col1\" colspan=\"2\">debt</th>        <th class=\"col_heading level0 col3\" >Depend from purpose</th>    </tr>    <tr>        <th class=\"col_heading level1 col0\" ></th>        <th class=\"col_heading level1 col1\" >count</th>        <th class=\"col_heading level1 col2\" >sum</th>        <th class=\"col_heading level1 col3\" ></th>    </tr></thead><tbody>\n",
       "                <tr>\n",
       "                                <td id=\"T_21bb9_row0_col0\" class=\"data row0 col0\" >операции с автомобилем</td>\n",
       "                        <td id=\"T_21bb9_row0_col1\" class=\"data row0 col1\" >4279</td>\n",
       "                        <td id=\"T_21bb9_row0_col2\" class=\"data row0 col2\" >400</td>\n",
       "                        <td id=\"T_21bb9_row0_col3\" class=\"data row0 col3\" >9.347978</td>\n",
       "            </tr>\n",
       "            <tr>\n",
       "                                <td id=\"T_21bb9_row1_col0\" class=\"data row1 col0\" >получение образования</td>\n",
       "                        <td id=\"T_21bb9_row1_col1\" class=\"data row1 col1\" >3988</td>\n",
       "                        <td id=\"T_21bb9_row1_col2\" class=\"data row1 col2\" >369</td>\n",
       "                        <td id=\"T_21bb9_row1_col3\" class=\"data row1 col3\" >9.252758</td>\n",
       "            </tr>\n",
       "            <tr>\n",
       "                                <td id=\"T_21bb9_row2_col0\" class=\"data row2 col0\" >проведение свадьбы</td>\n",
       "                        <td id=\"T_21bb9_row2_col1\" class=\"data row2 col1\" >2313</td>\n",
       "                        <td id=\"T_21bb9_row2_col2\" class=\"data row2 col2\" >183</td>\n",
       "                        <td id=\"T_21bb9_row2_col3\" class=\"data row2 col3\" >7.911803</td>\n",
       "            </tr>\n",
       "            <tr>\n",
       "                                <td id=\"T_21bb9_row3_col0\" class=\"data row3 col0\" >операции с недвижимостью</td>\n",
       "                        <td id=\"T_21bb9_row3_col1\" class=\"data row3 col1\" >10751</td>\n",
       "                        <td id=\"T_21bb9_row3_col2\" class=\"data row3 col2\" >780</td>\n",
       "                        <td id=\"T_21bb9_row3_col3\" class=\"data row3 col3\" >7.255139</td>\n",
       "            </tr>\n",
       "    </tbody></table>"
      ],
      "text/plain": [
       "<pandas.io.formats.style.Styler at 0x7fa338aa8040>"
      ]
     },
     "metadata": {},
     "output_type": "display_data"
    }
   ],
   "source": [
    "# Чтобы посчитать сколько всего было выдано кредитов заёмщикам с разными целями (debt count) и какая часть из них не была\n",
    "# возвращена в срок (debt sum) сгруппируем данные по столбцу 'purpose_category' и 'debt', применив к последнему метод agg()\n",
    "# c функциями count и sum:\n",
    "purpose_category_depend = data.groupby('purpose_category').agg({'debt': ['count', 'sum']})\n",
    "\n",
    "# Для получения в процентном выражении значения зависимости просрочки кредита от семейного положения поделим количество \n",
    "# невозвращенных вовремя займов (debt sum) на общее число займов (debt count), а затем умножим на 100:\n",
    "purpose_category_depend['Depend from purpose'] = (purpose_category_depend['debt']['sum'] / purpose_category_depend['debt'] \\\n",
    "['count']) * 100\n",
    "\n",
    "# Отсортируем значения по убыванию в столбце ['Depend from purpose'], отображающем значение зависимости просрочки \n",
    "# кредита от уровня дохода:\n",
    "purpose_category_depend = purpose_category_depend.sort_values(by=['Depend from purpose'], ascending=False)\n",
    "\n",
    "# Подпишем таблицу, применив опцию set_caption, чтобы было ясно какие именно данные она отображает. Скроем индекс строк, не\n",
    "# несущий смысловой нагрузки при помощи hide_index():\n",
    "purpose_category_depend = (\n",
    "    purpose_category_depend\n",
    "    .reset_index()\n",
    "    .set_caption('Влияние целей кредита на его возврат в срок')\n",
    "    .hide_index()\n",
    "\n",
    "#Выведем полученную таблицу на экран:\n",
    "display(purpose_category_depend)"
   ]
  },
  {
   "cell_type": "markdown",
   "id": "5a674aee",
   "metadata": {
    "id": "b4bb2ce6"
   },
   "source": [
    "**Вывод:** Чем меньше значение в столбце `Depend from purpose`, тем лучше возвращает деньги в срок группа заёмщиков.\n",
    "\n",
    "По таблице мы видим, что **лучше всего возвращают кредиты, взятые на операции с недвижимостью (7,26%) и проведение свадьбы (7,91%)**. Хуже ситуация обстоит с кредитами на получение образования - 9,25% из них не возвращаются вовремя. **Наихудший показатель** наблюдается в категории **операций с автомобилем** - здесь невозвраты достигают 9,35%."
   ]
  },
  {
   "cell_type": "markdown",
   "id": "7b5003e7",
   "metadata": {
    "id": "6db5255a"
   },
   "source": [
    "## 4 Итоговые выводы"
   ]
  },
  {
   "cell_type": "markdown",
   "id": "b8f60ccb",
   "metadata": {
    "id": "bad65432"
   },
   "source": [
    "В ходе исследования данные по заёмщикам были проверены на наличие пропусков. Было обнаружено, что отсутствует равное и значительное количество данных (около 10%) в столбцах трудового стажа `days_employed` и дохода `total_income`. Такие проблемы могут говорить о программном сбое, когда потерялась или не была записана часть данных. Либо клиенты или сотрудники в определённых ситуациях могут игнорировать и не заполнять эти метрики. В любом случае - требуется поиск и устранение причины отсутствия информации в этих столбцах, так как неполнота данных влияет на результат. К тому же, если количество пропусков будет расти, ошибок в расчётах не избежать.\n",
    "\n",
    "В столбцах трудового стажа `days_employed` и дохода `total_income` оставить пропуски или заменить на среднее арифметическое будет некорректно - так можно сильно исказить итоговый результат. Поскольку на сумму дохода `total_income` и трудовой стаж `days_employed` сильнее всего влияет тип занятости (income type), пропуски здесь заполнялись медианным значением по каждому типу из столбца `income_type`. Например, у человека с типом занятости \"*сотрудник*\" пропуск в столбце дохода (`total_income`) заполнялся медианным доходом среди всех \"*сотрудников*\".\n",
    "\n",
    "Кроме отсутствия данных, были выявлены проблемы с аномальными значениями: отрицательный стаж (обработан при помощи метода **abc()**), удалены строки с чрезмерным (20) и отрицательным (-1) количеством детей у заёмщика. Столбец `total_income` для дальнейшей работы нуждался в преобразовании из вещественного в числовой тип данных. А часть данных дублировала друг друга, будучи написанной разным регистром (устранено функцией **str.lower()** и удалением дубликатов).\n",
    "\n",
    "Эти проблемы могут указывать на опечатки сотрудников либо клиентов при заполнении формы. Решить этот вопрос может помочь, к примеру, введение упрощенного ввода - когда клиенту нужно выбрать значение из выпадащего списка.\n",
    "\n",
    "##### После очистки данных от \"мусора\", для исследования было создано 2 функции:\n",
    "\n",
    "1. def categorize_income - для облегчения анализа данных по заёмщикам с разнымм категориями дохода;\n",
    "2. def categorize_purpose - для анализа возвращаемости займов под определённые категории целей.\n",
    "\n",
    "В процессе исследования были выявлены условия, при которых клиенты лучше возвращают кредиты. Их можно использовать для построения модели заявочного скоринга - оценки платежеспособности заёмщика при подаче заявки на кредит. \n",
    "\n",
    "**Анализ данных показал, что надёжнее выдавать кредит заёмщикам, которые**:\n",
    "\n",
    "1. Cостоят(7,56% просрочек) или состояли в браке (6,87% просрочек)\n",
    "Такие показатели для состоявших в браке можно объяснить тем, что люди с подобным семейным положением, как правило, старше, имеют больший жизненный опыт. Будучи одинокими они не склонны полагаться на кого-то ещё, кроме себя, а значит более реалистично подходят к вопросу распределения денежных средств.\n",
    "\n",
    "Категория женат/замужем с одной стороны уже имеет определённые обязательства перед супругом, что склоняет людей к большей осмотрительности. Но в браке люди склонны опираться не только на себя, но и на партнёра, что может приводить к просчётам в финансах, а значит и к просрочкам по платежам.\n",
    "\n",
    "2. Не имеют детей (7.54% просрочек)\n",
    "Когда детей нет, спланировать свой бюджет, а значит и платить по счетам, легче.\n",
    "\n",
    "3. С более высоким (от 200 001) доходом (7.06% просрочек)\n",
    "Имея большой доход, проще отдавать долги.\n",
    "\n",
    "4. Цель кредита \"Операции с недвижимостью\" (7.26% просрочек) или \"Проведение свадьбы\"(7,91% просрочек)\n",
    "Под операции с недвижимостью обычно берутся серьёзные суммы. Это предполагает некий фильтр со стороны банка: обращается внимание на наличие постоянного источника дохода, его уровень (может ли человек потянуть кредит), возраст(как долго человек сможет полноценно работать). Нередко страхование является обязательным условием от банка для получения ссуд под недвижимость - это тоже фактор погашения кредита, если человек вдруг не сможет платить. Таким образом, вполне закономерно, что невозвратов тут меньше, чем в других категориях - фильтр от банка отсеивает некоторую часть потенциально проблемных заёмщиков.\n",
    "\n",
    "Кредит под проведение свадьбы возвращается несколько хуже, чем под недвижимость, но лучше, чем под образование или авто. Вероятно, это связано с более низкой суммой кредита под такую цель, чем в других категориях - его проще вернуть.\n",
    "\n",
    "**Хуже всего возвращают кредиты заёмщики, у которых**:\n",
    "\n",
    "1. Семейное положение \"не женат/не замужем\"(9.76% просрочек) и \"гражданский брак\"(9.31% просрочек) \n",
    "\n",
    "Худшую возвращаемость кредитов в этих категориях можно объяснить тем, что люди этих категорий, как правило, молоды и не скованы серьёзными обязательствами, что может приводить к легкомысленному обращению с деньгами в том числе.\n",
    "\n",
    "2. Есть дети (от 9,23% и больше просрочек)\n",
    "\n",
    "С детьми в жизнь часто приходят непредвиденные траты, порой ёмкие, что может приводить к ошибкам финансового планирования, дефициту семейного бюджета, а значит и к возникновению задолженностей. Чем больше детей, тем больше вероятность непредвиденных трат. С одним ребёнком задолженность встречается в 9,23%, а с 2 и более уже в 9,25%.\n",
    "\n",
    "3. Доход ниже 200 000 (примерно 8,50% просрочек)\n",
    "Меньше денег - меньше возможностей вернуть долг вовремя.\n",
    "\n",
    "4. Цель кредита образование (9,25% просрочек) или автомобиль (9,35% просрочек)\n",
    "\n",
    "Если человек берет кредит на образование, у него пока нет опыта и квалификации, что ведёт к более низкооплачиваемому, неквалифицированному труду. Плюс получение образования требует дополнительных затрат времени и сил, что может снижать уровень дохода, а значит и возможность платить за кредит.\n",
    "\n",
    "А вероятной причиной просрочек по платежам за автомобиль может быть то, что машина, как и дети, является источником непредвиденных трат. Кроме того, кредитный автомобиль может быть продан с утаиванием информации о невыплате долга перед банком. В итоге покупатель может достаточно долго им владеть, прежде чем узнает о \"*капающем*\" долге. Также авто могут разбить или угнать - лишившись имущества, не все люди могут чувствовать себя обязанными платить по займу."
   ]
  }
 ],
 "metadata": {
  "ExecuteTimeLog": [
   {
    "duration": 40,
    "start_time": "2022-09-08T10:28:53.588Z"
   },
   {
    "duration": 478,
    "start_time": "2022-09-08T10:29:21.739Z"
   },
   {
    "duration": 26,
    "start_time": "2022-09-08T10:29:26.222Z"
   },
   {
    "duration": 14,
    "start_time": "2022-09-08T10:29:28.044Z"
   },
   {
    "duration": 12,
    "start_time": "2022-09-08T10:29:30.122Z"
   },
   {
    "duration": 31,
    "start_time": "2022-09-08T10:29:31.542Z"
   },
   {
    "duration": 4,
    "start_time": "2022-09-08T10:29:32.960Z"
   },
   {
    "duration": 7,
    "start_time": "2022-09-08T10:29:34.296Z"
   },
   {
    "duration": 5,
    "start_time": "2022-09-08T10:29:36.101Z"
   },
   {
    "duration": 6,
    "start_time": "2022-09-08T10:29:37.391Z"
   },
   {
    "duration": 4,
    "start_time": "2022-09-08T10:29:38.578Z"
   },
   {
    "duration": 32,
    "start_time": "2022-09-08T10:29:40.486Z"
   },
   {
    "duration": 9,
    "start_time": "2022-09-08T10:29:41.877Z"
   },
   {
    "duration": 4,
    "start_time": "2022-09-08T10:29:43.489Z"
   },
   {
    "duration": 14,
    "start_time": "2022-09-08T10:29:45.116Z"
   },
   {
    "duration": 18,
    "start_time": "2022-09-08T10:29:46.386Z"
   },
   {
    "duration": 3,
    "start_time": "2022-09-08T10:29:51.239Z"
   },
   {
    "duration": 8,
    "start_time": "2022-09-08T10:29:52.652Z"
   },
   {
    "duration": 8,
    "start_time": "2022-09-08T10:29:53.907Z"
   },
   {
    "duration": 3,
    "start_time": "2022-09-08T10:29:55.966Z"
   },
   {
    "duration": 16,
    "start_time": "2022-09-08T10:29:57.406Z"
   },
   {
    "duration": 27,
    "start_time": "2022-09-08T10:29:59.392Z"
   },
   {
    "duration": 25,
    "start_time": "2022-09-08T10:30:47.109Z"
   },
   {
    "duration": 17,
    "start_time": "2022-09-08T10:31:33.282Z"
   },
   {
    "duration": 21,
    "start_time": "2022-09-08T10:32:39.501Z"
   },
   {
    "duration": 27,
    "start_time": "2022-09-08T10:38:17.194Z"
   },
   {
    "duration": 32,
    "start_time": "2022-09-08T10:38:51.281Z"
   },
   {
    "duration": 35,
    "start_time": "2022-09-08T10:39:45.199Z"
   },
   {
    "duration": 17,
    "start_time": "2022-09-08T10:40:36.327Z"
   },
   {
    "duration": 8,
    "start_time": "2022-09-08T10:46:57.067Z"
   },
   {
    "duration": 11,
    "start_time": "2022-09-08T10:47:12.809Z"
   },
   {
    "duration": 10,
    "start_time": "2022-09-08T10:47:41.909Z"
   },
   {
    "duration": 24,
    "start_time": "2022-09-08T10:49:11.710Z"
   },
   {
    "duration": 21,
    "start_time": "2022-09-08T12:50:22.330Z"
   },
   {
    "duration": 18,
    "start_time": "2022-09-08T12:51:08.689Z"
   },
   {
    "duration": 26,
    "start_time": "2022-09-08T12:51:35.633Z"
   },
   {
    "duration": 16,
    "start_time": "2022-09-08T12:52:15.739Z"
   },
   {
    "duration": 21,
    "start_time": "2022-09-08T12:54:09.893Z"
   },
   {
    "duration": 19,
    "start_time": "2022-09-08T12:56:31.474Z"
   },
   {
    "duration": 6,
    "start_time": "2022-09-08T12:57:47.830Z"
   },
   {
    "duration": 9,
    "start_time": "2022-09-08T13:00:17.801Z"
   },
   {
    "duration": 21,
    "start_time": "2022-09-08T13:00:31.098Z"
   },
   {
    "duration": 5,
    "start_time": "2022-09-08T13:02:35.747Z"
   },
   {
    "duration": 4,
    "start_time": "2022-09-08T13:03:08.651Z"
   },
   {
    "duration": 4,
    "start_time": "2022-09-08T13:05:17.371Z"
   },
   {
    "duration": 5,
    "start_time": "2022-09-08T13:05:21.967Z"
   },
   {
    "duration": 9,
    "start_time": "2022-09-08T13:15:38.683Z"
   },
   {
    "duration": 9,
    "start_time": "2022-09-08T13:15:55.362Z"
   },
   {
    "duration": 12,
    "start_time": "2022-09-08T13:16:24.080Z"
   },
   {
    "duration": 1324,
    "start_time": "2022-09-08T13:16:45.445Z"
   },
   {
    "duration": 71,
    "start_time": "2022-09-08T13:17:16.549Z"
   },
   {
    "duration": 15,
    "start_time": "2022-09-08T13:17:20.895Z"
   },
   {
    "duration": 12,
    "start_time": "2022-09-08T13:17:23.990Z"
   },
   {
    "duration": 10,
    "start_time": "2022-09-08T13:17:26.348Z"
   },
   {
    "duration": 34,
    "start_time": "2022-09-08T13:17:29.911Z"
   },
   {
    "duration": 5,
    "start_time": "2022-09-08T13:17:35.513Z"
   },
   {
    "duration": 7,
    "start_time": "2022-09-08T13:17:37.353Z"
   },
   {
    "duration": 4,
    "start_time": "2022-09-08T13:17:41.549Z"
   },
   {
    "duration": 6,
    "start_time": "2022-09-08T13:17:42.793Z"
   },
   {
    "duration": 4,
    "start_time": "2022-09-08T13:17:45.888Z"
   },
   {
    "duration": 32,
    "start_time": "2022-09-08T13:17:48.355Z"
   },
   {
    "duration": 8,
    "start_time": "2022-09-08T13:17:49.996Z"
   },
   {
    "duration": 3,
    "start_time": "2022-09-08T13:17:54.963Z"
   },
   {
    "duration": 11,
    "start_time": "2022-09-08T13:17:56.865Z"
   },
   {
    "duration": 21,
    "start_time": "2022-09-08T13:17:58.788Z"
   },
   {
    "duration": 16,
    "start_time": "2022-09-08T13:18:01.188Z"
   },
   {
    "duration": 8,
    "start_time": "2022-09-08T13:18:03.687Z"
   },
   {
    "duration": 5,
    "start_time": "2022-09-08T13:18:05.385Z"
   },
   {
    "duration": 3,
    "start_time": "2022-09-08T13:18:08.549Z"
   },
   {
    "duration": 12,
    "start_time": "2022-09-08T13:18:10.014Z"
   },
   {
    "duration": 1250,
    "start_time": "2022-09-08T13:18:13.051Z"
   },
   {
    "duration": 6,
    "start_time": "2022-09-08T13:18:33.997Z"
   },
   {
    "duration": 7,
    "start_time": "2022-09-08T13:18:45.658Z"
   },
   {
    "duration": 7,
    "start_time": "2022-09-08T13:19:17.787Z"
   },
   {
    "duration": 8,
    "start_time": "2022-09-08T13:19:34.048Z"
   },
   {
    "duration": 6,
    "start_time": "2022-09-08T13:19:56.745Z"
   },
   {
    "duration": 7,
    "start_time": "2022-09-08T13:22:54.148Z"
   },
   {
    "duration": 7,
    "start_time": "2022-09-08T13:23:52.353Z"
   },
   {
    "duration": 10,
    "start_time": "2022-09-08T13:25:10.661Z"
   },
   {
    "duration": 9,
    "start_time": "2022-09-08T13:25:30.157Z"
   },
   {
    "duration": 9,
    "start_time": "2022-09-08T13:27:14.883Z"
   },
   {
    "duration": 12,
    "start_time": "2022-09-08T13:28:17.414Z"
   },
   {
    "duration": 16,
    "start_time": "2022-09-08T13:31:38.959Z"
   },
   {
    "duration": 12,
    "start_time": "2022-09-08T13:33:17.810Z"
   },
   {
    "duration": 10,
    "start_time": "2022-09-08T13:34:15.983Z"
   },
   {
    "duration": 13,
    "start_time": "2022-09-08T13:38:00.071Z"
   },
   {
    "duration": 13,
    "start_time": "2022-09-08T13:44:27.315Z"
   },
   {
    "duration": 9,
    "start_time": "2022-09-08T13:44:43.355Z"
   },
   {
    "duration": 19,
    "start_time": "2022-09-08T13:45:39.557Z"
   },
   {
    "duration": 10,
    "start_time": "2022-09-08T13:45:53.874Z"
   },
   {
    "duration": 1295,
    "start_time": "2022-09-08T13:57:47.178Z"
   },
   {
    "duration": 1444,
    "start_time": "2022-09-08T13:57:56.184Z"
   },
   {
    "duration": 1476,
    "start_time": "2022-09-08T13:58:29.935Z"
   },
   {
    "duration": 14,
    "start_time": "2022-09-08T13:59:11.798Z"
   },
   {
    "duration": 25,
    "start_time": "2022-09-08T14:00:15.584Z"
   },
   {
    "duration": 27,
    "start_time": "2022-09-08T14:00:40.989Z"
   },
   {
    "duration": 1179,
    "start_time": "2022-09-08T14:01:57.894Z"
   },
   {
    "duration": 17,
    "start_time": "2022-09-08T14:02:16.992Z"
   },
   {
    "duration": 76,
    "start_time": "2022-09-08T14:02:55.390Z"
   },
   {
    "duration": 15,
    "start_time": "2022-09-08T14:02:58.680Z"
   },
   {
    "duration": 9,
    "start_time": "2022-09-08T14:05:50.648Z"
   },
   {
    "duration": 6,
    "start_time": "2022-09-08T14:06:01.941Z"
   },
   {
    "duration": 12,
    "start_time": "2022-09-08T14:07:03.952Z"
   },
   {
    "duration": 11,
    "start_time": "2022-09-08T14:07:24.749Z"
   },
   {
    "duration": 10,
    "start_time": "2022-09-08T14:09:17.834Z"
   },
   {
    "duration": 12,
    "start_time": "2022-09-08T14:09:32.360Z"
   },
   {
    "duration": 11,
    "start_time": "2022-09-08T14:10:11.843Z"
   },
   {
    "duration": 13,
    "start_time": "2022-09-08T14:13:51.657Z"
   },
   {
    "duration": 1791,
    "start_time": "2022-09-08T14:26:49.881Z"
   },
   {
    "duration": 14,
    "start_time": "2022-09-08T14:27:20.450Z"
   },
   {
    "duration": 11,
    "start_time": "2022-09-08T14:27:35.237Z"
   },
   {
    "duration": 16,
    "start_time": "2022-09-08T14:36:58.002Z"
   },
   {
    "duration": 21,
    "start_time": "2022-09-08T15:28:48.465Z"
   },
   {
    "duration": 16,
    "start_time": "2022-09-08T15:29:01.715Z"
   },
   {
    "duration": 697,
    "start_time": "2022-09-09T05:54:28.081Z"
   },
   {
    "duration": 24,
    "start_time": "2022-09-09T05:54:32.036Z"
   },
   {
    "duration": 25,
    "start_time": "2022-09-09T05:54:34.033Z"
   },
   {
    "duration": 15,
    "start_time": "2022-09-09T05:54:36.068Z"
   },
   {
    "duration": 52,
    "start_time": "2022-09-09T05:54:37.851Z"
   },
   {
    "duration": 3,
    "start_time": "2022-09-09T05:54:39.483Z"
   },
   {
    "duration": 8,
    "start_time": "2022-09-09T05:54:41.025Z"
   },
   {
    "duration": 6,
    "start_time": "2022-09-09T05:54:42.723Z"
   },
   {
    "duration": 13,
    "start_time": "2022-09-09T05:54:43.861Z"
   },
   {
    "duration": 5,
    "start_time": "2022-09-09T05:54:44.900Z"
   },
   {
    "duration": 39,
    "start_time": "2022-09-09T05:54:47.041Z"
   },
   {
    "duration": 15,
    "start_time": "2022-09-09T05:54:48.858Z"
   },
   {
    "duration": 4,
    "start_time": "2022-09-09T05:54:50.528Z"
   },
   {
    "duration": 16,
    "start_time": "2022-09-09T05:54:51.724Z"
   },
   {
    "duration": 21,
    "start_time": "2022-09-09T05:54:52.673Z"
   },
   {
    "duration": 4,
    "start_time": "2022-09-09T05:54:55.688Z"
   },
   {
    "duration": 10,
    "start_time": "2022-09-09T05:54:59.327Z"
   },
   {
    "duration": 7,
    "start_time": "2022-09-09T05:55:00.681Z"
   },
   {
    "duration": 4,
    "start_time": "2022-09-09T05:55:02.942Z"
   },
   {
    "duration": 9,
    "start_time": "2022-09-09T05:55:03.870Z"
   },
   {
    "duration": 15,
    "start_time": "2022-09-09T05:55:05.935Z"
   },
   {
    "duration": 13,
    "start_time": "2022-09-09T05:57:39.763Z"
   },
   {
    "duration": 1054,
    "start_time": "2022-09-09T06:00:44.451Z"
   },
   {
    "duration": 861,
    "start_time": "2022-09-09T06:00:47.295Z"
   },
   {
    "duration": 13,
    "start_time": "2022-09-09T06:00:58.666Z"
   },
   {
    "duration": 385,
    "start_time": "2022-09-09T06:03:51.388Z"
   },
   {
    "duration": 12,
    "start_time": "2022-09-09T06:03:58.672Z"
   },
   {
    "duration": 12,
    "start_time": "2022-09-09T06:12:09.035Z"
   },
   {
    "duration": 463,
    "start_time": "2022-09-09T06:16:22.161Z"
   },
   {
    "duration": 23,
    "start_time": "2022-09-09T06:18:20.561Z"
   },
   {
    "duration": 33,
    "start_time": "2022-09-09T06:19:03.661Z"
   },
   {
    "duration": 15,
    "start_time": "2022-09-09T06:19:56.971Z"
   },
   {
    "duration": 16,
    "start_time": "2022-09-09T06:20:13.868Z"
   },
   {
    "duration": 15,
    "start_time": "2022-09-09T06:20:23.303Z"
   },
   {
    "duration": 23,
    "start_time": "2022-09-09T06:20:48.964Z"
   },
   {
    "duration": 16,
    "start_time": "2022-09-09T06:21:05.985Z"
   },
   {
    "duration": 17,
    "start_time": "2022-09-09T06:22:32.947Z"
   },
   {
    "duration": 15,
    "start_time": "2022-09-09T06:23:39.267Z"
   },
   {
    "duration": 14,
    "start_time": "2022-09-09T06:24:13.271Z"
   },
   {
    "duration": 72,
    "start_time": "2022-09-09T06:29:35.375Z"
   },
   {
    "duration": 105,
    "start_time": "2022-09-09T06:29:57.290Z"
   },
   {
    "duration": 77,
    "start_time": "2022-09-09T06:30:05.996Z"
   },
   {
    "duration": 76,
    "start_time": "2022-09-09T06:30:21.287Z"
   },
   {
    "duration": 75,
    "start_time": "2022-09-09T06:30:32.813Z"
   },
   {
    "duration": 105,
    "start_time": "2022-09-09T06:30:41.743Z"
   },
   {
    "duration": 63,
    "start_time": "2022-09-09T06:30:54.698Z"
   },
   {
    "duration": 16,
    "start_time": "2022-09-09T06:31:02.042Z"
   },
   {
    "duration": 18,
    "start_time": "2022-09-09T06:31:55.873Z"
   },
   {
    "duration": 19,
    "start_time": "2022-09-09T06:49:22.551Z"
   },
   {
    "duration": 19,
    "start_time": "2022-09-09T06:52:20.781Z"
   },
   {
    "duration": 25,
    "start_time": "2022-09-09T07:11:25.463Z"
   },
   {
    "duration": 28,
    "start_time": "2022-09-09T07:11:36.889Z"
   },
   {
    "duration": 26,
    "start_time": "2022-09-09T07:17:24.291Z"
   },
   {
    "duration": 7,
    "start_time": "2022-09-09T07:17:31.390Z"
   },
   {
    "duration": 728,
    "start_time": "2022-09-09T07:18:19.103Z"
   },
   {
    "duration": 19,
    "start_time": "2022-09-09T07:19:42.242Z"
   },
   {
    "duration": 18,
    "start_time": "2022-09-09T07:28:20.329Z"
   },
   {
    "duration": 6,
    "start_time": "2022-09-09T07:28:53.590Z"
   },
   {
    "duration": 10,
    "start_time": "2022-09-09T07:36:16.117Z"
   },
   {
    "duration": 13,
    "start_time": "2022-09-09T07:38:12.379Z"
   },
   {
    "duration": 23,
    "start_time": "2022-09-09T07:38:26.217Z"
   },
   {
    "duration": 69,
    "start_time": "2022-09-09T07:42:58.889Z"
   },
   {
    "duration": 15,
    "start_time": "2022-09-09T07:43:04.600Z"
   },
   {
    "duration": 62,
    "start_time": "2022-09-09T07:43:34.606Z"
   },
   {
    "duration": 8,
    "start_time": "2022-09-09T07:43:38.682Z"
   },
   {
    "duration": 47,
    "start_time": "2022-09-09T07:44:55.635Z"
   },
   {
    "duration": 10,
    "start_time": "2022-09-09T07:44:59.403Z"
   },
   {
    "duration": 9,
    "start_time": "2022-09-09T07:45:29.663Z"
   },
   {
    "duration": 10,
    "start_time": "2022-09-09T07:45:48.641Z"
   },
   {
    "duration": 11,
    "start_time": "2022-09-09T07:46:11.476Z"
   },
   {
    "duration": 915,
    "start_time": "2022-09-09T07:48:35.337Z"
   },
   {
    "duration": 1132,
    "start_time": "2022-09-09T07:48:55.237Z"
   },
   {
    "duration": 56,
    "start_time": "2022-09-09T07:51:32.943Z"
   },
   {
    "duration": 21,
    "start_time": "2022-09-09T07:51:43.568Z"
   },
   {
    "duration": 28,
    "start_time": "2022-09-09T08:09:55.040Z"
   },
   {
    "duration": 20,
    "start_time": "2022-09-09T08:10:33.252Z"
   },
   {
    "duration": 20,
    "start_time": "2022-09-09T08:10:57.037Z"
   },
   {
    "duration": 13,
    "start_time": "2022-09-09T08:11:12.196Z"
   },
   {
    "duration": 7,
    "start_time": "2022-09-09T08:11:50.812Z"
   },
   {
    "duration": 21,
    "start_time": "2022-09-09T08:14:00.715Z"
   },
   {
    "duration": 12,
    "start_time": "2022-09-09T08:14:13.269Z"
   },
   {
    "duration": 18,
    "start_time": "2022-09-09T08:14:17.875Z"
   },
   {
    "duration": 18,
    "start_time": "2022-09-09T08:14:50.498Z"
   },
   {
    "duration": 21,
    "start_time": "2022-09-09T08:16:07.215Z"
   },
   {
    "duration": 16,
    "start_time": "2022-09-09T08:16:18.538Z"
   },
   {
    "duration": 28,
    "start_time": "2022-09-09T08:17:27.109Z"
   },
   {
    "duration": 16,
    "start_time": "2022-09-09T08:17:30.165Z"
   },
   {
    "duration": 18,
    "start_time": "2022-09-09T08:18:06.524Z"
   },
   {
    "duration": 11,
    "start_time": "2022-09-09T08:18:47.997Z"
   },
   {
    "duration": 65,
    "start_time": "2022-09-09T08:34:05.105Z"
   },
   {
    "duration": 193,
    "start_time": "2022-09-09T08:34:10.215Z"
   },
   {
    "duration": 144,
    "start_time": "2022-09-09T08:34:38.802Z"
   },
   {
    "duration": 28,
    "start_time": "2022-09-09T08:34:49.509Z"
   },
   {
    "duration": 841,
    "start_time": "2022-09-09T08:38:52.561Z"
   },
   {
    "duration": 12,
    "start_time": "2022-09-09T08:40:19.496Z"
   },
   {
    "duration": 14,
    "start_time": "2022-09-09T08:40:52.394Z"
   },
   {
    "duration": 1223,
    "start_time": "2022-09-09T08:42:45.410Z"
   },
   {
    "duration": 14,
    "start_time": "2022-09-09T08:52:10.037Z"
   },
   {
    "duration": 13,
    "start_time": "2022-09-09T08:52:31.383Z"
   },
   {
    "duration": 9,
    "start_time": "2022-09-09T08:54:18.744Z"
   },
   {
    "duration": 9,
    "start_time": "2022-09-09T08:54:47.356Z"
   },
   {
    "duration": 15,
    "start_time": "2022-09-09T08:55:35.138Z"
   },
   {
    "duration": 29,
    "start_time": "2022-09-09T08:55:44.112Z"
   },
   {
    "duration": 14,
    "start_time": "2022-09-09T08:57:41.644Z"
   },
   {
    "duration": 4,
    "start_time": "2022-09-09T08:57:55.478Z"
   },
   {
    "duration": 14,
    "start_time": "2022-09-09T08:58:03.075Z"
   },
   {
    "duration": 38,
    "start_time": "2022-09-09T08:58:05.298Z"
   },
   {
    "duration": 37,
    "start_time": "2022-09-09T08:58:08.705Z"
   },
   {
    "duration": 4,
    "start_time": "2022-09-09T08:58:10.962Z"
   },
   {
    "duration": 10,
    "start_time": "2022-09-09T08:58:12.186Z"
   },
   {
    "duration": 12,
    "start_time": "2022-09-09T08:58:22.335Z"
   },
   {
    "duration": 8,
    "start_time": "2022-09-09T08:58:25.546Z"
   },
   {
    "duration": 4,
    "start_time": "2022-09-09T08:58:31.952Z"
   },
   {
    "duration": 21,
    "start_time": "2022-09-09T08:58:33.208Z"
   },
   {
    "duration": 14,
    "start_time": "2022-09-09T08:58:42.490Z"
   },
   {
    "duration": 19,
    "start_time": "2022-09-09T08:58:48.376Z"
   },
   {
    "duration": 18,
    "start_time": "2022-09-09T08:58:51.481Z"
   },
   {
    "duration": 20,
    "start_time": "2022-09-09T08:59:02.485Z"
   },
   {
    "duration": 20,
    "start_time": "2022-09-09T08:59:11.782Z"
   },
   {
    "duration": 21,
    "start_time": "2022-09-09T08:59:19.192Z"
   },
   {
    "duration": 16,
    "start_time": "2022-09-09T08:59:56.799Z"
   },
   {
    "duration": 25,
    "start_time": "2022-09-09T09:00:34.878Z"
   },
   {
    "duration": 131,
    "start_time": "2022-09-09T09:00:51.553Z"
   },
   {
    "duration": 8,
    "start_time": "2022-09-09T09:01:31.543Z"
   },
   {
    "duration": 171,
    "start_time": "2022-09-09T09:11:59.958Z"
   },
   {
    "duration": 59,
    "start_time": "2022-09-09T09:12:45.181Z"
   },
   {
    "duration": 98,
    "start_time": "2022-09-09T09:12:54.301Z"
   },
   {
    "duration": 98,
    "start_time": "2022-09-09T09:13:02.500Z"
   },
   {
    "duration": 1496,
    "start_time": "2022-09-09T09:14:04.047Z"
   },
   {
    "duration": 27,
    "start_time": "2022-09-09T09:14:12.834Z"
   },
   {
    "duration": 19,
    "start_time": "2022-09-09T09:14:29.950Z"
   },
   {
    "duration": 6,
    "start_time": "2022-09-09T09:15:02.105Z"
   },
   {
    "duration": 586,
    "start_time": "2022-09-09T09:15:12.976Z"
   },
   {
    "duration": 10,
    "start_time": "2022-09-09T09:15:46.111Z"
   },
   {
    "duration": 21,
    "start_time": "2022-09-09T09:15:53.613Z"
   },
   {
    "duration": 16,
    "start_time": "2022-09-09T09:15:56.648Z"
   },
   {
    "duration": 8,
    "start_time": "2022-09-09T09:16:21.357Z"
   },
   {
    "duration": 15,
    "start_time": "2022-09-09T09:18:39.103Z"
   },
   {
    "duration": 3,
    "start_time": "2022-09-09T09:43:19.156Z"
   },
   {
    "duration": 59,
    "start_time": "2022-09-09T09:43:30.473Z"
   },
   {
    "duration": 4,
    "start_time": "2022-09-09T09:44:14.394Z"
   },
   {
    "duration": 599,
    "start_time": "2022-09-09T09:51:33.051Z"
   },
   {
    "duration": 1178,
    "start_time": "2022-09-09T09:54:53.302Z"
   },
   {
    "duration": 659,
    "start_time": "2022-09-09T09:57:13.164Z"
   },
   {
    "duration": 775,
    "start_time": "2022-09-09T09:59:53.221Z"
   },
   {
    "duration": 266,
    "start_time": "2022-09-09T10:00:13.305Z"
   },
   {
    "duration": 865,
    "start_time": "2022-09-09T10:03:41.094Z"
   },
   {
    "duration": 1554,
    "start_time": "2022-09-09T10:05:26.126Z"
   },
   {
    "duration": 12,
    "start_time": "2022-09-09T10:06:08.479Z"
   },
   {
    "duration": 15,
    "start_time": "2022-09-09T10:07:31.357Z"
   },
   {
    "duration": 13,
    "start_time": "2022-09-09T10:08:36.173Z"
   },
   {
    "duration": 24,
    "start_time": "2022-09-09T10:09:39.141Z"
   },
   {
    "duration": 15,
    "start_time": "2022-09-09T10:09:48.702Z"
   },
   {
    "duration": 17,
    "start_time": "2022-09-09T10:11:39.727Z"
   },
   {
    "duration": 16,
    "start_time": "2022-09-09T10:11:50.824Z"
   },
   {
    "duration": 20,
    "start_time": "2022-09-09T10:12:58.110Z"
   },
   {
    "duration": 20,
    "start_time": "2022-09-09T10:13:07.671Z"
   },
   {
    "duration": 18,
    "start_time": "2022-09-09T10:13:23.547Z"
   },
   {
    "duration": 20,
    "start_time": "2022-09-09T10:13:36.343Z"
   },
   {
    "duration": 18,
    "start_time": "2022-09-09T10:13:56.727Z"
   },
   {
    "duration": 17,
    "start_time": "2022-09-09T10:14:52.921Z"
   },
   {
    "duration": 19,
    "start_time": "2022-09-09T10:14:59.450Z"
   },
   {
    "duration": 19,
    "start_time": "2022-09-09T10:15:11.891Z"
   },
   {
    "duration": 19,
    "start_time": "2022-09-09T10:15:30.664Z"
   },
   {
    "duration": 19,
    "start_time": "2022-09-09T10:15:44.100Z"
   },
   {
    "duration": 19,
    "start_time": "2022-09-09T10:15:58.820Z"
   },
   {
    "duration": 17,
    "start_time": "2022-09-09T10:16:17.187Z"
   },
   {
    "duration": 19,
    "start_time": "2022-09-09T10:16:42.188Z"
   },
   {
    "duration": 17,
    "start_time": "2022-09-09T10:16:54.376Z"
   },
   {
    "duration": 19,
    "start_time": "2022-09-09T10:17:09.428Z"
   },
   {
    "duration": 29,
    "start_time": "2022-09-09T10:17:33.043Z"
   },
   {
    "duration": 32,
    "start_time": "2022-09-09T10:17:49.523Z"
   },
   {
    "duration": 15,
    "start_time": "2022-09-09T10:18:13.627Z"
   },
   {
    "duration": 5,
    "start_time": "2022-09-09T10:23:12.273Z"
   },
   {
    "duration": 6,
    "start_time": "2022-09-09T10:23:24.895Z"
   },
   {
    "duration": 6,
    "start_time": "2022-09-09T10:23:52.575Z"
   },
   {
    "duration": 12,
    "start_time": "2022-09-09T10:24:05.257Z"
   },
   {
    "duration": 79,
    "start_time": "2022-09-09T10:25:50.033Z"
   },
   {
    "duration": 16,
    "start_time": "2022-09-09T10:26:00.465Z"
   },
   {
    "duration": 10,
    "start_time": "2022-09-09T10:26:22.213Z"
   },
   {
    "duration": 5,
    "start_time": "2022-09-09T10:26:52.287Z"
   },
   {
    "duration": 23,
    "start_time": "2022-09-09T10:27:11.144Z"
   },
   {
    "duration": 5,
    "start_time": "2022-09-09T10:27:29.966Z"
   },
   {
    "duration": 84,
    "start_time": "2022-09-09T10:29:49.648Z"
   },
   {
    "duration": 9,
    "start_time": "2022-09-09T10:30:03.468Z"
   },
   {
    "duration": 9,
    "start_time": "2022-09-09T10:32:23.668Z"
   },
   {
    "duration": 10,
    "start_time": "2022-09-09T10:37:52.057Z"
   },
   {
    "duration": 12,
    "start_time": "2022-09-09T10:39:26.883Z"
   },
   {
    "duration": 10,
    "start_time": "2022-09-09T10:39:43.039Z"
   },
   {
    "duration": 13,
    "start_time": "2022-09-09T10:39:46.841Z"
   },
   {
    "duration": 14,
    "start_time": "2022-09-09T10:40:00.835Z"
   },
   {
    "duration": 13,
    "start_time": "2022-09-09T10:40:37.088Z"
   },
   {
    "duration": 12,
    "start_time": "2022-09-09T10:42:42.608Z"
   },
   {
    "duration": 16,
    "start_time": "2022-09-09T10:44:47.318Z"
   },
   {
    "duration": 16,
    "start_time": "2022-09-09T10:45:24.162Z"
   },
   {
    "duration": 14,
    "start_time": "2022-09-09T10:46:02.899Z"
   },
   {
    "duration": 12,
    "start_time": "2022-09-09T10:46:10.103Z"
   },
   {
    "duration": 10,
    "start_time": "2022-09-09T10:46:14.968Z"
   },
   {
    "duration": 11,
    "start_time": "2022-09-09T10:46:37.153Z"
   },
   {
    "duration": 11,
    "start_time": "2022-09-09T10:46:46.262Z"
   },
   {
    "duration": 11,
    "start_time": "2022-09-09T10:47:00.844Z"
   },
   {
    "duration": 4,
    "start_time": "2022-09-09T10:47:13.922Z"
   },
   {
    "duration": 10,
    "start_time": "2022-09-09T10:47:20.592Z"
   },
   {
    "duration": 17,
    "start_time": "2022-09-09T10:48:14.924Z"
   },
   {
    "duration": 16,
    "start_time": "2022-09-09T10:49:18.004Z"
   },
   {
    "duration": 17,
    "start_time": "2022-09-09T10:49:30.977Z"
   },
   {
    "duration": 14,
    "start_time": "2022-09-09T10:49:40.421Z"
   },
   {
    "duration": 77,
    "start_time": "2022-09-09T10:49:48.927Z"
   },
   {
    "duration": 37,
    "start_time": "2022-09-09T10:50:01.791Z"
   },
   {
    "duration": 1166,
    "start_time": "2022-09-09T10:50:25.456Z"
   },
   {
    "duration": 3,
    "start_time": "2022-09-09T10:50:37.159Z"
   },
   {
    "duration": 14,
    "start_time": "2022-09-09T10:50:38.971Z"
   },
   {
    "duration": 10,
    "start_time": "2022-09-09T10:50:43.338Z"
   },
   {
    "duration": 17,
    "start_time": "2022-09-09T10:50:49.458Z"
   },
   {
    "duration": 12,
    "start_time": "2022-09-09T10:51:00.277Z"
   },
   {
    "duration": 10,
    "start_time": "2022-09-09T10:51:53.642Z"
   },
   {
    "duration": 9,
    "start_time": "2022-09-09T10:51:58.154Z"
   },
   {
    "duration": 10,
    "start_time": "2022-09-09T10:52:01.160Z"
   },
   {
    "duration": 21,
    "start_time": "2022-09-09T10:55:06.013Z"
   },
   {
    "duration": 24,
    "start_time": "2022-09-09T10:57:37.930Z"
   },
   {
    "duration": 9,
    "start_time": "2022-09-09T10:59:30.220Z"
   },
   {
    "duration": 12,
    "start_time": "2022-09-09T11:14:08.308Z"
   },
   {
    "duration": 12,
    "start_time": "2022-09-09T11:14:41.195Z"
   },
   {
    "duration": 10,
    "start_time": "2022-09-09T11:14:52.070Z"
   },
   {
    "duration": 11,
    "start_time": "2022-09-09T11:15:13.841Z"
   },
   {
    "duration": 10,
    "start_time": "2022-09-09T11:15:21.789Z"
   },
   {
    "duration": 631,
    "start_time": "2022-09-09T11:18:09.371Z"
   },
   {
    "duration": 16,
    "start_time": "2022-09-09T11:18:13.313Z"
   },
   {
    "duration": 17,
    "start_time": "2022-09-09T11:18:16.645Z"
   },
   {
    "duration": 798,
    "start_time": "2022-09-09T11:18:21.114Z"
   },
   {
    "duration": 71,
    "start_time": "2022-09-09T11:18:32.201Z"
   },
   {
    "duration": 18,
    "start_time": "2022-09-09T11:18:36.228Z"
   },
   {
    "duration": 16,
    "start_time": "2022-09-09T11:18:39.640Z"
   },
   {
    "duration": 12,
    "start_time": "2022-09-09T11:18:42.633Z"
   },
   {
    "duration": 36,
    "start_time": "2022-09-09T11:18:45.134Z"
   },
   {
    "duration": 4,
    "start_time": "2022-09-09T11:18:47.590Z"
   },
   {
    "duration": 8,
    "start_time": "2022-09-09T11:18:49.793Z"
   },
   {
    "duration": 5,
    "start_time": "2022-09-09T11:18:53.096Z"
   },
   {
    "duration": 6,
    "start_time": "2022-09-09T11:18:55.900Z"
   },
   {
    "duration": 5,
    "start_time": "2022-09-09T11:18:58.108Z"
   },
   {
    "duration": 36,
    "start_time": "2022-09-09T11:19:00.749Z"
   },
   {
    "duration": 10,
    "start_time": "2022-09-09T11:19:03.169Z"
   },
   {
    "duration": 4,
    "start_time": "2022-09-09T11:19:05.504Z"
   },
   {
    "duration": 11,
    "start_time": "2022-09-09T11:19:08.590Z"
   },
   {
    "duration": 20,
    "start_time": "2022-09-09T11:19:10.166Z"
   },
   {
    "duration": 20,
    "start_time": "2022-09-09T11:19:12.160Z"
   },
   {
    "duration": 4,
    "start_time": "2022-09-09T11:19:15.740Z"
   },
   {
    "duration": 11,
    "start_time": "2022-09-09T11:19:17.140Z"
   },
   {
    "duration": 6,
    "start_time": "2022-09-09T11:19:19.290Z"
   },
   {
    "duration": 4,
    "start_time": "2022-09-09T11:19:21.714Z"
   },
   {
    "duration": 19,
    "start_time": "2022-09-09T11:19:23.855Z"
   },
   {
    "duration": 16,
    "start_time": "2022-09-09T11:19:26.441Z"
   },
   {
    "duration": 14,
    "start_time": "2022-09-09T11:22:04.453Z"
   },
   {
    "duration": 130,
    "start_time": "2022-09-09T11:23:39.485Z"
   },
   {
    "duration": 44,
    "start_time": "2022-09-09T11:25:22.124Z"
   },
   {
    "duration": 130,
    "start_time": "2022-09-09T11:25:57.329Z"
   },
   {
    "duration": 69,
    "start_time": "2022-09-09T11:29:12.593Z"
   },
   {
    "duration": 56,
    "start_time": "2022-09-09T11:29:26.284Z"
   },
   {
    "duration": 132,
    "start_time": "2022-09-09T11:31:13.468Z"
   },
   {
    "duration": 136,
    "start_time": "2022-09-09T11:31:42.136Z"
   },
   {
    "duration": 41,
    "start_time": "2022-09-09T11:43:27.816Z"
   },
   {
    "duration": 34,
    "start_time": "2022-09-09T11:44:53.910Z"
   },
   {
    "duration": 22,
    "start_time": "2022-09-09T11:45:10.499Z"
   },
   {
    "duration": 27,
    "start_time": "2022-09-09T11:46:54.279Z"
   },
   {
    "duration": 42,
    "start_time": "2022-09-09T11:48:48.148Z"
   },
   {
    "duration": 25,
    "start_time": "2022-09-09T11:48:54.141Z"
   },
   {
    "duration": 74,
    "start_time": "2022-09-09T11:49:02.536Z"
   },
   {
    "duration": 17,
    "start_time": "2022-09-09T11:49:06.136Z"
   },
   {
    "duration": 14,
    "start_time": "2022-09-09T11:49:07.761Z"
   },
   {
    "duration": 12,
    "start_time": "2022-09-09T11:49:10.632Z"
   },
   {
    "duration": 39,
    "start_time": "2022-09-09T11:49:13.659Z"
   },
   {
    "duration": 3,
    "start_time": "2022-09-09T11:49:15.653Z"
   },
   {
    "duration": 8,
    "start_time": "2022-09-09T11:49:16.967Z"
   },
   {
    "duration": 4,
    "start_time": "2022-09-09T11:49:20.999Z"
   },
   {
    "duration": 5,
    "start_time": "2022-09-09T11:49:35.285Z"
   },
   {
    "duration": 5,
    "start_time": "2022-09-09T11:49:36.642Z"
   },
   {
    "duration": 48,
    "start_time": "2022-09-09T11:49:40.785Z"
   },
   {
    "duration": 10,
    "start_time": "2022-09-09T11:49:43.938Z"
   },
   {
    "duration": 4,
    "start_time": "2022-09-09T11:49:47.105Z"
   },
   {
    "duration": 19,
    "start_time": "2022-09-09T11:49:48.456Z"
   },
   {
    "duration": 20,
    "start_time": "2022-09-09T11:49:50.267Z"
   },
   {
    "duration": 20,
    "start_time": "2022-09-09T11:49:52.246Z"
   },
   {
    "duration": 4,
    "start_time": "2022-09-09T11:49:55.114Z"
   },
   {
    "duration": 11,
    "start_time": "2022-09-09T11:49:56.678Z"
   },
   {
    "duration": 7,
    "start_time": "2022-09-09T11:49:59.732Z"
   },
   {
    "duration": 4,
    "start_time": "2022-09-09T11:50:02.560Z"
   },
   {
    "duration": 9,
    "start_time": "2022-09-09T11:50:04.133Z"
   },
   {
    "duration": 15,
    "start_time": "2022-09-09T11:50:08.460Z"
   },
   {
    "duration": 17,
    "start_time": "2022-09-09T11:50:11.292Z"
   },
   {
    "duration": 27,
    "start_time": "2022-09-09T11:50:14.205Z"
   },
   {
    "duration": 13,
    "start_time": "2022-09-09T11:50:43.156Z"
   },
   {
    "duration": 17,
    "start_time": "2022-09-09T11:51:31.683Z"
   },
   {
    "duration": 57,
    "start_time": "2022-09-09T11:51:40.828Z"
   },
   {
    "duration": 14,
    "start_time": "2022-09-09T11:51:54.583Z"
   },
   {
    "duration": 3,
    "start_time": "2022-09-09T11:53:09.966Z"
   },
   {
    "duration": 13,
    "start_time": "2022-09-09T11:53:11.266Z"
   },
   {
    "duration": 6,
    "start_time": "2022-09-09T11:54:33.062Z"
   },
   {
    "duration": 17,
    "start_time": "2022-09-09T11:54:45.253Z"
   },
   {
    "duration": 18,
    "start_time": "2022-09-09T11:55:09.172Z"
   },
   {
    "duration": 74,
    "start_time": "2022-09-09T11:55:17.860Z"
   },
   {
    "duration": 16,
    "start_time": "2022-09-09T11:55:19.756Z"
   },
   {
    "duration": 14,
    "start_time": "2022-09-09T11:55:21.550Z"
   },
   {
    "duration": 10,
    "start_time": "2022-09-09T11:55:25.136Z"
   },
   {
    "duration": 43,
    "start_time": "2022-09-09T11:55:26.787Z"
   },
   {
    "duration": 4,
    "start_time": "2022-09-09T11:55:30.414Z"
   },
   {
    "duration": 8,
    "start_time": "2022-09-09T11:55:31.892Z"
   },
   {
    "duration": 5,
    "start_time": "2022-09-09T11:55:33.840Z"
   },
   {
    "duration": 5,
    "start_time": "2022-09-09T11:55:38.664Z"
   },
   {
    "duration": 5,
    "start_time": "2022-09-09T11:55:40.999Z"
   },
   {
    "duration": 33,
    "start_time": "2022-09-09T11:55:58.383Z"
   },
   {
    "duration": 17,
    "start_time": "2022-09-09T11:56:00.918Z"
   },
   {
    "duration": 4,
    "start_time": "2022-09-09T11:56:14.832Z"
   },
   {
    "duration": 10,
    "start_time": "2022-09-09T11:56:17.002Z"
   },
   {
    "duration": 20,
    "start_time": "2022-09-09T11:56:18.339Z"
   },
   {
    "duration": 21,
    "start_time": "2022-09-09T11:56:20.205Z"
   },
   {
    "duration": 5,
    "start_time": "2022-09-09T11:56:22.760Z"
   },
   {
    "duration": 18,
    "start_time": "2022-09-09T11:56:23.772Z"
   },
   {
    "duration": 7,
    "start_time": "2022-09-09T11:56:37.936Z"
   },
   {
    "duration": 3,
    "start_time": "2022-09-09T11:56:41.533Z"
   },
   {
    "duration": 9,
    "start_time": "2022-09-09T11:56:43.514Z"
   },
   {
    "duration": 14,
    "start_time": "2022-09-09T11:56:46.500Z"
   },
   {
    "duration": 23,
    "start_time": "2022-09-09T11:56:49.994Z"
   },
   {
    "duration": 16,
    "start_time": "2022-09-09T11:56:54.134Z"
   },
   {
    "duration": 6,
    "start_time": "2022-09-09T11:57:04.865Z"
   },
   {
    "duration": 18,
    "start_time": "2022-09-09T11:58:03.246Z"
   },
   {
    "duration": 6,
    "start_time": "2022-09-09T11:58:26.746Z"
   },
   {
    "duration": 25,
    "start_time": "2022-09-09T12:00:03.500Z"
   },
   {
    "duration": 19,
    "start_time": "2022-09-09T12:00:10.738Z"
   },
   {
    "duration": 5,
    "start_time": "2022-09-09T12:00:32.873Z"
   },
   {
    "duration": 22,
    "start_time": "2022-09-09T12:00:42.627Z"
   },
   {
    "duration": 6,
    "start_time": "2022-09-09T12:00:49.682Z"
   },
   {
    "duration": 13,
    "start_time": "2022-09-09T12:01:29.854Z"
   },
   {
    "duration": 13,
    "start_time": "2022-09-09T12:03:11.222Z"
   },
   {
    "duration": 15,
    "start_time": "2022-09-09T12:03:38.342Z"
   },
   {
    "duration": 16,
    "start_time": "2022-09-09T12:03:45.521Z"
   },
   {
    "duration": 21,
    "start_time": "2022-09-09T12:04:05.267Z"
   },
   {
    "duration": 29,
    "start_time": "2022-09-09T12:05:01.700Z"
   },
   {
    "duration": 15,
    "start_time": "2022-09-09T12:05:27.728Z"
   },
   {
    "duration": 16,
    "start_time": "2022-09-09T12:05:39.469Z"
   },
   {
    "duration": 47,
    "start_time": "2022-09-09T14:11:22.914Z"
   },
   {
    "duration": 1625,
    "start_time": "2022-09-09T14:11:27.479Z"
   },
   {
    "duration": 19,
    "start_time": "2022-09-09T14:11:30.996Z"
   },
   {
    "duration": 15,
    "start_time": "2022-09-09T14:11:32.592Z"
   },
   {
    "duration": 10,
    "start_time": "2022-09-09T14:11:35.066Z"
   },
   {
    "duration": 33,
    "start_time": "2022-09-09T14:11:36.491Z"
   },
   {
    "duration": 3,
    "start_time": "2022-09-09T14:11:37.947Z"
   },
   {
    "duration": 8,
    "start_time": "2022-09-09T14:11:39.282Z"
   },
   {
    "duration": 5,
    "start_time": "2022-09-09T14:11:41.446Z"
   },
   {
    "duration": 7,
    "start_time": "2022-09-09T14:11:42.645Z"
   },
   {
    "duration": 5,
    "start_time": "2022-09-09T14:11:43.710Z"
   },
   {
    "duration": 32,
    "start_time": "2022-09-09T14:11:45.640Z"
   },
   {
    "duration": 11,
    "start_time": "2022-09-09T14:11:46.906Z"
   },
   {
    "duration": 4,
    "start_time": "2022-09-09T14:11:48.772Z"
   },
   {
    "duration": 11,
    "start_time": "2022-09-09T14:11:50.093Z"
   },
   {
    "duration": 19,
    "start_time": "2022-09-09T14:11:51.216Z"
   },
   {
    "duration": 4,
    "start_time": "2022-09-09T14:11:53.457Z"
   },
   {
    "duration": 10,
    "start_time": "2022-09-09T14:11:56.022Z"
   },
   {
    "duration": 6,
    "start_time": "2022-09-09T14:11:57.678Z"
   },
   {
    "duration": 3,
    "start_time": "2022-09-09T14:11:59.136Z"
   },
   {
    "duration": 9,
    "start_time": "2022-09-09T14:12:01.570Z"
   },
   {
    "duration": 14,
    "start_time": "2022-09-09T14:12:09.715Z"
   },
   {
    "duration": 15,
    "start_time": "2022-09-09T14:12:12.301Z"
   },
   {
    "duration": 64,
    "start_time": "2022-09-09T14:12:14.229Z"
   },
   {
    "duration": 15,
    "start_time": "2022-09-09T14:12:17.466Z"
   },
   {
    "duration": 17,
    "start_time": "2022-09-09T14:16:21.607Z"
   },
   {
    "duration": 15,
    "start_time": "2022-09-09T14:17:07.708Z"
   },
   {
    "duration": 16,
    "start_time": "2022-09-09T14:21:06.889Z"
   },
   {
    "duration": 15,
    "start_time": "2022-09-09T14:21:20.753Z"
   },
   {
    "duration": 15,
    "start_time": "2022-09-09T14:22:34.248Z"
   },
   {
    "duration": 18,
    "start_time": "2022-09-09T14:23:43.531Z"
   },
   {
    "duration": 17,
    "start_time": "2022-09-09T14:25:02.713Z"
   },
   {
    "duration": 55,
    "start_time": "2022-09-09T14:27:47.934Z"
   },
   {
    "duration": 19,
    "start_time": "2022-09-09T14:28:22.051Z"
   },
   {
    "duration": 20,
    "start_time": "2022-09-09T14:29:44.393Z"
   },
   {
    "duration": 17,
    "start_time": "2022-09-09T14:30:11.552Z"
   },
   {
    "duration": 44,
    "start_time": "2022-09-09T14:36:43.102Z"
   },
   {
    "duration": 85,
    "start_time": "2022-09-09T14:37:26.051Z"
   },
   {
    "duration": 65,
    "start_time": "2022-09-09T14:37:45.291Z"
   },
   {
    "duration": 60,
    "start_time": "2022-09-09T14:38:05.261Z"
   },
   {
    "duration": 1805,
    "start_time": "2022-09-09T14:38:24.219Z"
   },
   {
    "duration": 29,
    "start_time": "2022-09-09T14:39:01.857Z"
   },
   {
    "duration": 21,
    "start_time": "2022-09-09T14:39:32.886Z"
   },
   {
    "duration": 17,
    "start_time": "2022-09-09T14:39:34.730Z"
   },
   {
    "duration": 16,
    "start_time": "2022-09-09T14:39:55.726Z"
   },
   {
    "duration": 15,
    "start_time": "2022-09-09T14:40:34.492Z"
   },
   {
    "duration": 17,
    "start_time": "2022-09-09T14:40:50.722Z"
   },
   {
    "duration": 17,
    "start_time": "2022-09-09T14:41:02.086Z"
   },
   {
    "duration": 17,
    "start_time": "2022-09-09T14:41:05.930Z"
   },
   {
    "duration": 19,
    "start_time": "2022-09-09T14:41:41.066Z"
   },
   {
    "duration": 18,
    "start_time": "2022-09-09T14:42:08.416Z"
   },
   {
    "duration": 17,
    "start_time": "2022-09-09T14:42:27.631Z"
   },
   {
    "duration": 18,
    "start_time": "2022-09-09T14:45:54.782Z"
   },
   {
    "duration": 17,
    "start_time": "2022-09-09T14:50:15.749Z"
   },
   {
    "duration": 80,
    "start_time": "2022-09-09T14:50:53.663Z"
   },
   {
    "duration": 17,
    "start_time": "2022-09-09T14:51:01.127Z"
   },
   {
    "duration": 14,
    "start_time": "2022-09-09T14:51:34.317Z"
   },
   {
    "duration": 13,
    "start_time": "2022-09-09T14:51:47.427Z"
   },
   {
    "duration": 14,
    "start_time": "2022-09-09T15:08:49.086Z"
   },
   {
    "duration": 67,
    "start_time": "2022-09-09T15:10:08.585Z"
   },
   {
    "duration": 19,
    "start_time": "2022-09-09T15:10:28.996Z"
   },
   {
    "duration": 20,
    "start_time": "2022-09-09T15:10:44.984Z"
   },
   {
    "duration": 17,
    "start_time": "2022-09-09T15:11:00.233Z"
   },
   {
    "duration": 20,
    "start_time": "2022-09-09T15:12:06.319Z"
   },
   {
    "duration": 14,
    "start_time": "2022-09-09T15:12:56.058Z"
   },
   {
    "duration": 14,
    "start_time": "2022-09-09T15:13:19.967Z"
   },
   {
    "duration": 1655,
    "start_time": "2022-09-10T16:29:15.899Z"
   },
   {
    "duration": 20,
    "start_time": "2022-09-10T16:29:20.002Z"
   },
   {
    "duration": 16,
    "start_time": "2022-09-10T16:29:22.167Z"
   },
   {
    "duration": 10,
    "start_time": "2022-09-10T16:29:25.641Z"
   },
   {
    "duration": 35,
    "start_time": "2022-09-10T16:29:26.944Z"
   },
   {
    "duration": 4,
    "start_time": "2022-09-10T16:29:29.841Z"
   },
   {
    "duration": 9,
    "start_time": "2022-09-10T16:29:31.718Z"
   },
   {
    "duration": 5,
    "start_time": "2022-09-10T16:29:33.760Z"
   },
   {
    "duration": 8,
    "start_time": "2022-09-10T16:29:36.288Z"
   },
   {
    "duration": 5,
    "start_time": "2022-09-10T16:29:37.593Z"
   },
   {
    "duration": 40,
    "start_time": "2022-09-10T16:29:39.224Z"
   },
   {
    "duration": 13,
    "start_time": "2022-09-10T16:29:41.480Z"
   },
   {
    "duration": 4,
    "start_time": "2022-09-10T16:29:42.914Z"
   },
   {
    "duration": 11,
    "start_time": "2022-09-10T16:29:44.770Z"
   },
   {
    "duration": 20,
    "start_time": "2022-09-10T16:29:45.954Z"
   },
   {
    "duration": 17,
    "start_time": "2022-09-10T16:29:47.110Z"
   },
   {
    "duration": 4,
    "start_time": "2022-09-10T16:29:50.137Z"
   },
   {
    "duration": 11,
    "start_time": "2022-09-10T16:29:51.990Z"
   },
   {
    "duration": 6,
    "start_time": "2022-09-10T16:29:53.801Z"
   },
   {
    "duration": 4,
    "start_time": "2022-09-10T16:29:55.208Z"
   },
   {
    "duration": 9,
    "start_time": "2022-09-10T16:29:56.146Z"
   },
   {
    "duration": 15,
    "start_time": "2022-09-10T16:29:58.056Z"
   },
   {
    "duration": 18,
    "start_time": "2022-09-10T16:30:05.284Z"
   },
   {
    "duration": 17,
    "start_time": "2022-09-10T16:30:07.490Z"
   },
   {
    "duration": 8,
    "start_time": "2022-09-10T16:38:12.825Z"
   },
   {
    "duration": 9,
    "start_time": "2022-09-10T16:39:30.634Z"
   },
   {
    "duration": 102,
    "start_time": "2022-09-10T16:39:39.695Z"
   },
   {
    "duration": 11,
    "start_time": "2022-09-10T16:40:05.408Z"
   },
   {
    "duration": 9,
    "start_time": "2022-09-10T16:40:25.210Z"
   },
   {
    "duration": 17,
    "start_time": "2022-09-10T16:40:51.871Z"
   },
   {
    "duration": 9,
    "start_time": "2022-09-10T16:41:01.262Z"
   },
   {
    "duration": 18,
    "start_time": "2022-09-10T16:42:03.128Z"
   },
   {
    "duration": 17,
    "start_time": "2022-09-10T16:42:28.853Z"
   },
   {
    "duration": 15,
    "start_time": "2022-09-10T16:44:17.549Z"
   },
   {
    "duration": 16,
    "start_time": "2022-09-10T16:44:26.910Z"
   },
   {
    "duration": 17,
    "start_time": "2022-09-10T16:44:59.795Z"
   },
   {
    "duration": 65,
    "start_time": "2022-09-10T16:54:16.633Z"
   },
   {
    "duration": 49,
    "start_time": "2022-09-10T16:54:25.314Z"
   },
   {
    "duration": 67,
    "start_time": "2022-09-10T16:54:28.224Z"
   },
   {
    "duration": 90,
    "start_time": "2022-09-10T16:54:38.815Z"
   },
   {
    "duration": 24,
    "start_time": "2022-09-10T16:54:58.819Z"
   },
   {
    "duration": 23,
    "start_time": "2022-09-10T16:55:27.905Z"
   },
   {
    "duration": 411,
    "start_time": "2022-09-10T16:56:11.684Z"
   },
   {
    "duration": 670,
    "start_time": "2022-09-10T17:00:09.040Z"
   },
   {
    "duration": 440,
    "start_time": "2022-09-10T17:01:10.168Z"
   },
   {
    "duration": 428,
    "start_time": "2022-09-10T17:01:33.281Z"
   },
   {
    "duration": 558,
    "start_time": "2022-09-10T17:01:40.280Z"
   },
   {
    "duration": 371,
    "start_time": "2022-09-10T17:01:46.575Z"
   },
   {
    "duration": 381,
    "start_time": "2022-09-10T17:02:23.942Z"
   },
   {
    "duration": 22,
    "start_time": "2022-09-10T17:02:30.647Z"
   },
   {
    "duration": 23,
    "start_time": "2022-09-10T17:03:30.687Z"
   },
   {
    "duration": 24,
    "start_time": "2022-09-10T17:04:05.733Z"
   },
   {
    "duration": 27,
    "start_time": "2022-09-10T17:04:26.603Z"
   },
   {
    "duration": 25,
    "start_time": "2022-09-10T17:04:50.641Z"
   },
   {
    "duration": 22,
    "start_time": "2022-09-10T17:05:03.494Z"
   },
   {
    "duration": 21,
    "start_time": "2022-09-10T17:05:09.490Z"
   },
   {
    "duration": 22,
    "start_time": "2022-09-10T17:05:17.478Z"
   },
   {
    "duration": 22,
    "start_time": "2022-09-10T17:05:21.660Z"
   },
   {
    "duration": 433,
    "start_time": "2022-09-10T17:05:41.431Z"
   },
   {
    "duration": 26,
    "start_time": "2022-09-10T17:06:09.474Z"
   },
   {
    "duration": 839,
    "start_time": "2022-09-10T17:06:45.353Z"
   },
   {
    "duration": 24,
    "start_time": "2022-09-10T17:07:27.685Z"
   },
   {
    "duration": 24,
    "start_time": "2022-09-10T17:07:56.507Z"
   },
   {
    "duration": 23,
    "start_time": "2022-09-10T17:08:01.466Z"
   },
   {
    "duration": 25,
    "start_time": "2022-09-10T17:08:07.191Z"
   },
   {
    "duration": 25,
    "start_time": "2022-09-10T17:08:40.155Z"
   },
   {
    "duration": 24,
    "start_time": "2022-09-10T17:08:51.556Z"
   },
   {
    "duration": 23,
    "start_time": "2022-09-10T17:09:03.026Z"
   },
   {
    "duration": 24,
    "start_time": "2022-09-10T17:09:17.782Z"
   },
   {
    "duration": 447,
    "start_time": "2022-09-10T17:09:31.765Z"
   },
   {
    "duration": 727,
    "start_time": "2022-09-10T17:13:53.880Z"
   },
   {
    "duration": 908,
    "start_time": "2022-09-10T17:14:24.244Z"
   },
   {
    "duration": 908,
    "start_time": "2022-09-10T17:14:44.452Z"
   },
   {
    "duration": 6,
    "start_time": "2022-09-10T17:16:48.098Z"
   },
   {
    "duration": 26,
    "start_time": "2022-09-10T17:16:52.809Z"
   },
   {
    "duration": 23,
    "start_time": "2022-09-10T17:17:30.633Z"
   },
   {
    "duration": 24,
    "start_time": "2022-09-10T17:17:34.801Z"
   },
   {
    "duration": 24,
    "start_time": "2022-09-10T17:18:46.075Z"
   },
   {
    "duration": 44,
    "start_time": "2022-09-10T17:22:09.389Z"
   },
   {
    "duration": 28,
    "start_time": "2022-09-10T17:25:33.070Z"
   },
   {
    "duration": 29,
    "start_time": "2022-09-10T17:27:47.994Z"
   },
   {
    "duration": 25,
    "start_time": "2022-09-10T17:27:54.084Z"
   },
   {
    "duration": 20,
    "start_time": "2022-09-10T17:28:19.353Z"
   },
   {
    "duration": 22,
    "start_time": "2022-09-10T17:29:49.936Z"
   },
   {
    "duration": 28,
    "start_time": "2022-09-10T17:30:59.816Z"
   },
   {
    "duration": 23,
    "start_time": "2022-09-10T17:33:41.856Z"
   },
   {
    "duration": 16,
    "start_time": "2022-09-10T17:34:22.453Z"
   },
   {
    "duration": 25,
    "start_time": "2022-09-10T17:35:12.440Z"
   },
   {
    "duration": 26,
    "start_time": "2022-09-10T17:36:44.797Z"
   },
   {
    "duration": 24,
    "start_time": "2022-09-10T17:36:52.448Z"
   },
   {
    "duration": 27,
    "start_time": "2022-09-10T17:37:15.853Z"
   },
   {
    "duration": 26,
    "start_time": "2022-09-10T17:37:36.415Z"
   },
   {
    "duration": 26,
    "start_time": "2022-09-10T17:37:48.074Z"
   },
   {
    "duration": 17,
    "start_time": "2022-09-10T17:37:55.047Z"
   },
   {
    "duration": 18,
    "start_time": "2022-09-10T18:35:52.257Z"
   },
   {
    "duration": 17,
    "start_time": "2022-09-10T18:36:06.445Z"
   },
   {
    "duration": 17,
    "start_time": "2022-09-10T18:36:15.288Z"
   },
   {
    "duration": 17,
    "start_time": "2022-09-10T18:36:33.387Z"
   },
   {
    "duration": 18,
    "start_time": "2022-09-10T18:36:43.687Z"
   },
   {
    "duration": 71,
    "start_time": "2022-09-10T18:40:34.591Z"
   },
   {
    "duration": 67,
    "start_time": "2022-09-10T18:40:46.038Z"
   },
   {
    "duration": 24,
    "start_time": "2022-09-10T18:40:53.014Z"
   },
   {
    "duration": 30,
    "start_time": "2022-09-10T18:40:58.052Z"
   },
   {
    "duration": 33,
    "start_time": "2022-09-10T18:41:05.115Z"
   },
   {
    "duration": 26,
    "start_time": "2022-09-10T18:41:15.552Z"
   },
   {
    "duration": 25,
    "start_time": "2022-09-10T18:43:02.241Z"
   },
   {
    "duration": 1009,
    "start_time": "2022-09-10T18:46:05.252Z"
   },
   {
    "duration": 20,
    "start_time": "2022-09-10T18:46:20.460Z"
   },
   {
    "duration": 23,
    "start_time": "2022-09-10T18:47:18.750Z"
   },
   {
    "duration": 25,
    "start_time": "2022-09-10T18:47:30.517Z"
   },
   {
    "duration": 60,
    "start_time": "2022-09-10T18:56:18.944Z"
   },
   {
    "duration": 72,
    "start_time": "2022-09-10T18:56:54.000Z"
   },
   {
    "duration": 63,
    "start_time": "2022-09-10T18:56:58.586Z"
   },
   {
    "duration": 65,
    "start_time": "2022-09-10T18:58:43.691Z"
   },
   {
    "duration": 71,
    "start_time": "2022-09-10T18:59:02.205Z"
   },
   {
    "duration": 63,
    "start_time": "2022-09-10T18:59:33.683Z"
   },
   {
    "duration": 20,
    "start_time": "2022-09-10T18:59:54.839Z"
   },
   {
    "duration": 25,
    "start_time": "2022-09-10T19:00:28.940Z"
   },
   {
    "duration": 20,
    "start_time": "2022-09-10T19:00:35.732Z"
   },
   {
    "duration": 21,
    "start_time": "2022-09-10T19:02:17.925Z"
   },
   {
    "duration": 19,
    "start_time": "2022-09-10T19:03:23.089Z"
   },
   {
    "duration": 20,
    "start_time": "2022-09-10T19:03:54.553Z"
   },
   {
    "duration": 19,
    "start_time": "2022-09-10T19:04:04.385Z"
   },
   {
    "duration": 21,
    "start_time": "2022-09-10T19:04:31.547Z"
   },
   {
    "duration": 60,
    "start_time": "2022-09-10T19:10:04.602Z"
   },
   {
    "duration": 56,
    "start_time": "2022-09-10T19:10:13.117Z"
   },
   {
    "duration": 58,
    "start_time": "2022-09-10T19:10:18.040Z"
   },
   {
    "duration": 61,
    "start_time": "2022-09-10T19:10:23.065Z"
   },
   {
    "duration": 41,
    "start_time": "2022-09-10T19:15:25.061Z"
   },
   {
    "duration": 21,
    "start_time": "2022-09-10T19:15:38.166Z"
   },
   {
    "duration": 30,
    "start_time": "2022-09-10T19:15:49.794Z"
   },
   {
    "duration": 60,
    "start_time": "2022-09-10T19:15:56.844Z"
   },
   {
    "duration": 24,
    "start_time": "2022-09-10T19:16:00.861Z"
   },
   {
    "duration": 21,
    "start_time": "2022-09-10T19:17:01.930Z"
   },
   {
    "duration": 43,
    "start_time": "2022-09-10T19:17:25.325Z"
   },
   {
    "duration": 28,
    "start_time": "2022-09-10T19:17:46.049Z"
   },
   {
    "duration": 23,
    "start_time": "2022-09-10T19:17:58.126Z"
   },
   {
    "duration": 22,
    "start_time": "2022-09-10T19:18:57.767Z"
   },
   {
    "duration": 36,
    "start_time": "2022-09-10T19:19:02.903Z"
   },
   {
    "duration": 25,
    "start_time": "2022-09-10T19:19:07.197Z"
   },
   {
    "duration": 22,
    "start_time": "2022-09-10T19:20:32.654Z"
   },
   {
    "duration": 35,
    "start_time": "2022-09-10T19:21:09.705Z"
   },
   {
    "duration": 44,
    "start_time": "2022-09-10T19:22:08.065Z"
   },
   {
    "duration": 26,
    "start_time": "2022-09-10T19:22:16.667Z"
   },
   {
    "duration": 21,
    "start_time": "2022-09-10T19:24:17.258Z"
   },
   {
    "duration": 23,
    "start_time": "2022-09-10T19:26:41.879Z"
   },
   {
    "duration": 20,
    "start_time": "2022-09-10T19:27:53.562Z"
   },
   {
    "duration": 21,
    "start_time": "2022-09-10T19:27:55.954Z"
   },
   {
    "duration": 25,
    "start_time": "2022-09-10T19:28:04.675Z"
   },
   {
    "duration": 29,
    "start_time": "2022-09-10T19:28:56.550Z"
   },
   {
    "duration": 22,
    "start_time": "2022-09-10T19:29:09.875Z"
   },
   {
    "duration": 21,
    "start_time": "2022-09-10T19:30:23.879Z"
   },
   {
    "duration": 771,
    "start_time": "2022-09-11T08:53:09.538Z"
   },
   {
    "duration": 23,
    "start_time": "2022-09-11T08:53:13.519Z"
   },
   {
    "duration": 17,
    "start_time": "2022-09-11T08:53:18.221Z"
   },
   {
    "duration": 10,
    "start_time": "2022-09-11T08:53:22.002Z"
   },
   {
    "duration": 32,
    "start_time": "2022-09-11T08:53:24.344Z"
   },
   {
    "duration": 3,
    "start_time": "2022-09-11T08:53:27.179Z"
   },
   {
    "duration": 9,
    "start_time": "2022-09-11T08:53:28.679Z"
   },
   {
    "duration": 5,
    "start_time": "2022-09-11T08:53:31.481Z"
   },
   {
    "duration": 8,
    "start_time": "2022-09-11T08:53:33.542Z"
   },
   {
    "duration": 5,
    "start_time": "2022-09-11T08:53:37.314Z"
   },
   {
    "duration": 43,
    "start_time": "2022-09-11T08:53:40.083Z"
   },
   {
    "duration": 11,
    "start_time": "2022-09-11T08:53:41.935Z"
   },
   {
    "duration": 4,
    "start_time": "2022-09-11T08:53:44.807Z"
   },
   {
    "duration": 10,
    "start_time": "2022-09-11T08:53:46.896Z"
   },
   {
    "duration": 20,
    "start_time": "2022-09-11T08:53:48.290Z"
   },
   {
    "duration": 17,
    "start_time": "2022-09-11T08:53:50.489Z"
   },
   {
    "duration": 5,
    "start_time": "2022-09-11T08:53:53.383Z"
   },
   {
    "duration": 11,
    "start_time": "2022-09-11T08:53:54.712Z"
   },
   {
    "duration": 6,
    "start_time": "2022-09-11T08:53:57.097Z"
   },
   {
    "duration": 4,
    "start_time": "2022-09-11T08:54:00.100Z"
   },
   {
    "duration": 12,
    "start_time": "2022-09-11T08:54:01.259Z"
   },
   {
    "duration": 20,
    "start_time": "2022-09-11T08:54:04.256Z"
   },
   {
    "duration": 23,
    "start_time": "2022-09-11T08:54:14.566Z"
   },
   {
    "duration": 467,
    "start_time": "2022-09-11T08:54:17.166Z"
   },
   {
    "duration": 21,
    "start_time": "2022-09-11T08:54:21.606Z"
   },
   {
    "duration": 1123,
    "start_time": "2022-09-11T08:55:42.540Z"
   },
   {
    "duration": 699,
    "start_time": "2022-09-11T08:58:52.287Z"
   },
   {
    "duration": 19,
    "start_time": "2022-09-11T09:01:08.773Z"
   },
   {
    "duration": 27,
    "start_time": "2022-09-11T09:03:05.611Z"
   },
   {
    "duration": 19,
    "start_time": "2022-09-11T09:03:59.131Z"
   },
   {
    "duration": 20,
    "start_time": "2022-09-11T09:04:09.214Z"
   },
   {
    "duration": 18,
    "start_time": "2022-09-11T09:04:23.572Z"
   },
   {
    "duration": 50,
    "start_time": "2022-09-11T09:05:08.670Z"
   },
   {
    "duration": 19,
    "start_time": "2022-09-11T09:05:18.634Z"
   },
   {
    "duration": 54,
    "start_time": "2022-09-11T09:05:32.163Z"
   },
   {
    "duration": 21,
    "start_time": "2022-09-11T09:05:41.375Z"
   },
   {
    "duration": 19,
    "start_time": "2022-09-11T09:08:56.894Z"
   },
   {
    "duration": 20,
    "start_time": "2022-09-11T09:09:37.416Z"
   },
   {
    "duration": 17,
    "start_time": "2022-09-11T09:16:58.614Z"
   },
   {
    "duration": 18,
    "start_time": "2022-09-11T09:17:19.200Z"
   },
   {
    "duration": 17,
    "start_time": "2022-09-11T09:17:52.379Z"
   },
   {
    "duration": 22,
    "start_time": "2022-09-11T09:18:16.231Z"
   },
   {
    "duration": 27,
    "start_time": "2022-09-11T09:18:57.478Z"
   },
   {
    "duration": 24,
    "start_time": "2022-09-11T09:19:17.275Z"
   },
   {
    "duration": 24,
    "start_time": "2022-09-11T09:19:24.835Z"
   },
   {
    "duration": 20,
    "start_time": "2022-09-11T09:19:34.122Z"
   },
   {
    "duration": 20,
    "start_time": "2022-09-11T09:19:37.779Z"
   },
   {
    "duration": 24,
    "start_time": "2022-09-11T09:20:13.761Z"
   },
   {
    "duration": 22,
    "start_time": "2022-09-11T09:21:13.538Z"
   },
   {
    "duration": 16,
    "start_time": "2022-09-11T09:25:44.047Z"
   },
   {
    "duration": 22,
    "start_time": "2022-09-11T09:26:30.954Z"
   },
   {
    "duration": 16,
    "start_time": "2022-09-11T09:27:09.596Z"
   },
   {
    "duration": 191,
    "start_time": "2022-09-11T09:27:26.011Z"
   },
   {
    "duration": 18,
    "start_time": "2022-09-11T09:27:38.957Z"
   },
   {
    "duration": 17,
    "start_time": "2022-09-11T09:27:45.926Z"
   },
   {
    "duration": 23,
    "start_time": "2022-09-11T09:39:38.479Z"
   },
   {
    "duration": 18,
    "start_time": "2022-09-11T09:40:01.283Z"
   },
   {
    "duration": 22,
    "start_time": "2022-09-11T09:41:21.184Z"
   },
   {
    "duration": 826,
    "start_time": "2022-09-11T09:41:39.702Z"
   },
   {
    "duration": 19,
    "start_time": "2022-09-11T09:42:03.409Z"
   },
   {
    "duration": 17,
    "start_time": "2022-09-11T09:42:34.164Z"
   },
   {
    "duration": 17,
    "start_time": "2022-09-11T09:42:37.593Z"
   },
   {
    "duration": 20,
    "start_time": "2022-09-11T09:46:31.598Z"
   },
   {
    "duration": 16,
    "start_time": "2022-09-11T09:48:08.374Z"
   },
   {
    "duration": 10,
    "start_time": "2022-09-11T09:48:37.276Z"
   },
   {
    "duration": 10,
    "start_time": "2022-09-11T09:48:39.315Z"
   },
   {
    "duration": 10,
    "start_time": "2022-09-11T09:48:51.746Z"
   },
   {
    "duration": 12,
    "start_time": "2022-09-11T09:48:56.280Z"
   },
   {
    "duration": 10,
    "start_time": "2022-09-11T09:49:01.213Z"
   },
   {
    "duration": 10,
    "start_time": "2022-09-11T09:49:36.907Z"
   },
   {
    "duration": 12,
    "start_time": "2022-09-11T09:49:48.020Z"
   },
   {
    "duration": 66,
    "start_time": "2022-09-11T09:49:54.456Z"
   },
   {
    "duration": 15,
    "start_time": "2022-09-11T09:49:57.711Z"
   },
   {
    "duration": 14,
    "start_time": "2022-09-11T09:50:00.514Z"
   },
   {
    "duration": 10,
    "start_time": "2022-09-11T09:50:02.799Z"
   },
   {
    "duration": 35,
    "start_time": "2022-09-11T09:50:04.414Z"
   },
   {
    "duration": 3,
    "start_time": "2022-09-11T09:50:06.044Z"
   },
   {
    "duration": 8,
    "start_time": "2022-09-11T09:50:07.416Z"
   },
   {
    "duration": 4,
    "start_time": "2022-09-11T09:50:09.519Z"
   },
   {
    "duration": 6,
    "start_time": "2022-09-11T09:50:10.741Z"
   },
   {
    "duration": 5,
    "start_time": "2022-09-11T09:50:11.977Z"
   },
   {
    "duration": 35,
    "start_time": "2022-09-11T09:50:13.931Z"
   },
   {
    "duration": 10,
    "start_time": "2022-09-11T09:50:15.160Z"
   },
   {
    "duration": 4,
    "start_time": "2022-09-11T09:50:16.932Z"
   },
   {
    "duration": 10,
    "start_time": "2022-09-11T09:50:18.315Z"
   },
   {
    "duration": 21,
    "start_time": "2022-09-11T09:50:20.442Z"
   },
   {
    "duration": 17,
    "start_time": "2022-09-11T09:50:23.128Z"
   },
   {
    "duration": 3,
    "start_time": "2022-09-11T09:50:24.736Z"
   },
   {
    "duration": 10,
    "start_time": "2022-09-11T09:50:26.940Z"
   },
   {
    "duration": 6,
    "start_time": "2022-09-11T09:50:28.305Z"
   },
   {
    "duration": 3,
    "start_time": "2022-09-11T09:50:30.520Z"
   },
   {
    "duration": 10,
    "start_time": "2022-09-11T09:50:31.369Z"
   },
   {
    "duration": 16,
    "start_time": "2022-09-11T09:50:33.724Z"
   },
   {
    "duration": 20,
    "start_time": "2022-09-11T09:50:43.875Z"
   },
   {
    "duration": 19,
    "start_time": "2022-09-11T09:51:31.062Z"
   },
   {
    "duration": 14,
    "start_time": "2022-09-11T09:53:17.896Z"
   },
   {
    "duration": 18,
    "start_time": "2022-09-11T09:53:25.905Z"
   },
   {
    "duration": 23,
    "start_time": "2022-09-11T09:57:33.305Z"
   },
   {
    "duration": 24,
    "start_time": "2022-09-11T10:00:14.105Z"
   },
   {
    "duration": 28,
    "start_time": "2022-09-11T10:00:34.552Z"
   },
   {
    "duration": 11,
    "start_time": "2022-09-11T10:00:42.155Z"
   },
   {
    "duration": 10,
    "start_time": "2022-09-11T10:03:14.280Z"
   },
   {
    "duration": 11,
    "start_time": "2022-09-11T10:03:39.251Z"
   },
   {
    "duration": 148,
    "start_time": "2022-09-11T10:05:09.577Z"
   },
   {
    "duration": 12,
    "start_time": "2022-09-11T10:05:17.229Z"
   },
   {
    "duration": 10,
    "start_time": "2022-09-11T10:09:13.454Z"
   },
   {
    "duration": 68,
    "start_time": "2022-09-11T10:09:23.169Z"
   },
   {
    "duration": 19,
    "start_time": "2022-09-11T10:09:26.331Z"
   },
   {
    "duration": 16,
    "start_time": "2022-09-11T10:09:29.056Z"
   },
   {
    "duration": 10,
    "start_time": "2022-09-11T10:09:51.594Z"
   },
   {
    "duration": 32,
    "start_time": "2022-09-11T10:09:54.378Z"
   },
   {
    "duration": 3,
    "start_time": "2022-09-11T10:09:57.730Z"
   },
   {
    "duration": 8,
    "start_time": "2022-09-11T10:09:59.908Z"
   },
   {
    "duration": 3,
    "start_time": "2022-09-11T10:10:02.785Z"
   },
   {
    "duration": 6,
    "start_time": "2022-09-11T10:10:05.685Z"
   },
   {
    "duration": 5,
    "start_time": "2022-09-11T10:10:07.784Z"
   },
   {
    "duration": 34,
    "start_time": "2022-09-11T10:10:09.715Z"
   },
   {
    "duration": 11,
    "start_time": "2022-09-11T10:10:11.496Z"
   },
   {
    "duration": 4,
    "start_time": "2022-09-11T10:10:14.636Z"
   },
   {
    "duration": 10,
    "start_time": "2022-09-11T10:10:16.504Z"
   },
   {
    "duration": 23,
    "start_time": "2022-09-11T10:10:18.970Z"
   },
   {
    "duration": 17,
    "start_time": "2022-09-11T10:10:20.894Z"
   },
   {
    "duration": 3,
    "start_time": "2022-09-11T10:10:23.074Z"
   },
   {
    "duration": 10,
    "start_time": "2022-09-11T10:10:25.476Z"
   },
   {
    "duration": 7,
    "start_time": "2022-09-11T10:10:27.385Z"
   },
   {
    "duration": 3,
    "start_time": "2022-09-11T10:10:30.322Z"
   },
   {
    "duration": 9,
    "start_time": "2022-09-11T10:10:33.567Z"
   },
   {
    "duration": 17,
    "start_time": "2022-09-11T10:10:36.057Z"
   },
   {
    "duration": 22,
    "start_time": "2022-09-11T10:12:14.688Z"
   },
   {
    "duration": 17,
    "start_time": "2022-09-11T10:12:33.696Z"
   },
   {
    "duration": 18,
    "start_time": "2022-09-11T10:12:42.631Z"
   },
   {
    "duration": 94,
    "start_time": "2022-09-11T10:12:47.400Z"
   },
   {
    "duration": 19,
    "start_time": "2022-09-11T10:12:54.583Z"
   },
   {
    "duration": 22,
    "start_time": "2022-09-11T10:13:12.314Z"
   },
   {
    "duration": 24,
    "start_time": "2022-09-11T10:14:09.657Z"
   },
   {
    "duration": 21,
    "start_time": "2022-09-11T10:14:52.702Z"
   },
   {
    "duration": 16,
    "start_time": "2022-09-11T10:18:08.461Z"
   },
   {
    "duration": 14,
    "start_time": "2022-09-11T10:18:15.443Z"
   },
   {
    "duration": 30,
    "start_time": "2022-09-11T10:20:18.924Z"
   },
   {
    "duration": 67,
    "start_time": "2022-09-11T10:20:27.156Z"
   },
   {
    "duration": 15,
    "start_time": "2022-09-11T10:20:30.519Z"
   },
   {
    "duration": 14,
    "start_time": "2022-09-11T10:20:33.850Z"
   },
   {
    "duration": 9,
    "start_time": "2022-09-11T10:20:36.829Z"
   },
   {
    "duration": 42,
    "start_time": "2022-09-11T10:20:38.994Z"
   },
   {
    "duration": 4,
    "start_time": "2022-09-11T10:20:41.101Z"
   },
   {
    "duration": 8,
    "start_time": "2022-09-11T10:20:42.715Z"
   },
   {
    "duration": 4,
    "start_time": "2022-09-11T10:20:44.820Z"
   },
   {
    "duration": 6,
    "start_time": "2022-09-11T10:20:46.595Z"
   },
   {
    "duration": 4,
    "start_time": "2022-09-11T10:20:49.169Z"
   },
   {
    "duration": 10,
    "start_time": "2022-09-11T10:20:51.228Z"
   },
   {
    "duration": 3,
    "start_time": "2022-09-11T10:20:53.589Z"
   },
   {
    "duration": 10,
    "start_time": "2022-09-11T10:21:05.685Z"
   },
   {
    "duration": 19,
    "start_time": "2022-09-11T10:21:08.284Z"
   },
   {
    "duration": 17,
    "start_time": "2022-09-11T10:21:09.773Z"
   },
   {
    "duration": 4,
    "start_time": "2022-09-11T10:21:12.651Z"
   },
   {
    "duration": 11,
    "start_time": "2022-09-11T10:21:14.420Z"
   },
   {
    "duration": 5,
    "start_time": "2022-09-11T10:21:16.671Z"
   },
   {
    "duration": 4,
    "start_time": "2022-09-11T10:21:19.215Z"
   },
   {
    "duration": 8,
    "start_time": "2022-09-11T10:21:19.753Z"
   },
   {
    "duration": 30,
    "start_time": "2022-09-11T10:21:29.430Z"
   },
   {
    "duration": 49,
    "start_time": "2022-09-11T10:22:10.021Z"
   },
   {
    "duration": 21,
    "start_time": "2022-09-11T10:22:17.858Z"
   },
   {
    "duration": 22,
    "start_time": "2022-09-11T10:22:21.582Z"
   },
   {
    "duration": 26,
    "start_time": "2022-09-11T10:23:01.199Z"
   },
   {
    "duration": 26,
    "start_time": "2022-09-11T10:23:04.725Z"
   },
   {
    "duration": 26,
    "start_time": "2022-09-11T10:44:05.803Z"
   },
   {
    "duration": 804,
    "start_time": "2022-09-11T10:47:46.715Z"
   },
   {
    "duration": 27,
    "start_time": "2022-09-11T10:48:28.926Z"
   },
   {
    "duration": 28,
    "start_time": "2022-09-11T10:48:44.507Z"
   },
   {
    "duration": 28,
    "start_time": "2022-09-11T10:49:34.567Z"
   },
   {
    "duration": 717,
    "start_time": "2022-09-11T10:50:37.093Z"
   },
   {
    "duration": 30,
    "start_time": "2022-09-11T10:51:27.509Z"
   },
   {
    "duration": 355,
    "start_time": "2022-09-11T10:52:07.757Z"
   },
   {
    "duration": 20,
    "start_time": "2022-09-11T10:53:09.382Z"
   },
   {
    "duration": 19,
    "start_time": "2022-09-11T10:53:34.972Z"
   },
   {
    "duration": 255,
    "start_time": "2022-09-11T10:55:02.561Z"
   },
   {
    "duration": 62,
    "start_time": "2022-09-11T10:56:48.422Z"
   },
   {
    "duration": 20,
    "start_time": "2022-09-11T11:00:05.142Z"
   },
   {
    "duration": 28,
    "start_time": "2022-09-11T11:00:53.831Z"
   },
   {
    "duration": 34,
    "start_time": "2022-09-11T11:01:36.950Z"
   },
   {
    "duration": 33,
    "start_time": "2022-09-11T11:02:45.457Z"
   },
   {
    "duration": 31,
    "start_time": "2022-09-11T11:02:53.262Z"
   },
   {
    "duration": 29,
    "start_time": "2022-09-11T11:07:44.114Z"
   },
   {
    "duration": 31,
    "start_time": "2022-09-11T11:07:49.532Z"
   },
   {
    "duration": 66,
    "start_time": "2022-09-11T11:07:55.686Z"
   },
   {
    "duration": 16,
    "start_time": "2022-09-11T11:07:59.227Z"
   },
   {
    "duration": 14,
    "start_time": "2022-09-11T11:08:00.858Z"
   },
   {
    "duration": 9,
    "start_time": "2022-09-11T11:08:02.877Z"
   },
   {
    "duration": 34,
    "start_time": "2022-09-11T11:08:04.920Z"
   },
   {
    "duration": 3,
    "start_time": "2022-09-11T11:08:06.378Z"
   },
   {
    "duration": 8,
    "start_time": "2022-09-11T11:08:07.669Z"
   },
   {
    "duration": 4,
    "start_time": "2022-09-11T11:08:09.831Z"
   },
   {
    "duration": 6,
    "start_time": "2022-09-11T11:08:10.962Z"
   },
   {
    "duration": 4,
    "start_time": "2022-09-11T11:08:12.152Z"
   },
   {
    "duration": 33,
    "start_time": "2022-09-11T11:08:13.875Z"
   },
   {
    "duration": 10,
    "start_time": "2022-09-11T11:08:15.159Z"
   },
   {
    "duration": 4,
    "start_time": "2022-09-11T11:08:16.853Z"
   },
   {
    "duration": 10,
    "start_time": "2022-09-11T11:08:18.277Z"
   },
   {
    "duration": 21,
    "start_time": "2022-09-11T11:08:21.630Z"
   },
   {
    "duration": 18,
    "start_time": "2022-09-11T11:08:23.820Z"
   },
   {
    "duration": 3,
    "start_time": "2022-09-11T11:08:25.717Z"
   },
   {
    "duration": 10,
    "start_time": "2022-09-11T11:08:27.476Z"
   },
   {
    "duration": 6,
    "start_time": "2022-09-11T11:08:28.887Z"
   },
   {
    "duration": 3,
    "start_time": "2022-09-11T11:08:30.510Z"
   },
   {
    "duration": 9,
    "start_time": "2022-09-11T11:08:31.188Z"
   },
   {
    "duration": 41,
    "start_time": "2022-09-11T11:08:36.956Z"
   },
   {
    "duration": 30,
    "start_time": "2022-09-11T11:08:47.252Z"
   },
   {
    "duration": 68,
    "start_time": "2022-09-11T11:09:23.132Z"
   },
   {
    "duration": 15,
    "start_time": "2022-09-11T11:09:26.844Z"
   },
   {
    "duration": 17,
    "start_time": "2022-09-11T11:09:31.046Z"
   },
   {
    "duration": 10,
    "start_time": "2022-09-11T11:09:33.993Z"
   },
   {
    "duration": 32,
    "start_time": "2022-09-11T11:09:38.834Z"
   },
   {
    "duration": 4,
    "start_time": "2022-09-11T11:09:41.640Z"
   },
   {
    "duration": 7,
    "start_time": "2022-09-11T11:09:43.387Z"
   },
   {
    "duration": 5,
    "start_time": "2022-09-11T11:09:46.089Z"
   },
   {
    "duration": 6,
    "start_time": "2022-09-11T11:09:47.418Z"
   },
   {
    "duration": 4,
    "start_time": "2022-09-11T11:09:50.177Z"
   },
   {
    "duration": 45,
    "start_time": "2022-09-11T11:10:10.560Z"
   },
   {
    "duration": 10,
    "start_time": "2022-09-11T11:10:23.589Z"
   },
   {
    "duration": 4,
    "start_time": "2022-09-11T11:10:29.133Z"
   },
   {
    "duration": 10,
    "start_time": "2022-09-11T11:10:32.166Z"
   },
   {
    "duration": 19,
    "start_time": "2022-09-11T11:10:35.227Z"
   },
   {
    "duration": 18,
    "start_time": "2022-09-11T11:10:37.116Z"
   },
   {
    "duration": 4,
    "start_time": "2022-09-11T11:10:39.426Z"
   },
   {
    "duration": 10,
    "start_time": "2022-09-11T11:10:41.515Z"
   },
   {
    "duration": 5,
    "start_time": "2022-09-11T11:10:44.224Z"
   },
   {
    "duration": 4,
    "start_time": "2022-09-11T11:10:46.452Z"
   },
   {
    "duration": 8,
    "start_time": "2022-09-11T11:10:46.869Z"
   },
   {
    "duration": 41,
    "start_time": "2022-09-11T11:10:49.049Z"
   },
   {
    "duration": 34,
    "start_time": "2022-09-11T11:35:02.649Z"
   },
   {
    "duration": 57,
    "start_time": "2022-09-11T11:37:50.464Z"
   },
   {
    "duration": 50,
    "start_time": "2022-09-11T11:38:11.959Z"
   },
   {
    "duration": 55,
    "start_time": "2022-09-11T11:38:49.978Z"
   },
   {
    "duration": 64,
    "start_time": "2022-09-11T11:39:16.906Z"
   },
   {
    "duration": 44,
    "start_time": "2022-09-11T11:42:02.685Z"
   },
   {
    "duration": 47,
    "start_time": "2022-09-11T11:42:51.740Z"
   },
   {
    "duration": 33,
    "start_time": "2022-09-11T11:43:04.425Z"
   },
   {
    "duration": 33,
    "start_time": "2022-09-11T11:43:22.210Z"
   },
   {
    "duration": 41,
    "start_time": "2022-09-11T11:43:46.194Z"
   },
   {
    "duration": 33,
    "start_time": "2022-09-11T11:44:11.931Z"
   },
   {
    "duration": 43,
    "start_time": "2022-09-11T11:44:30.034Z"
   },
   {
    "duration": 44,
    "start_time": "2022-09-11T11:57:31.897Z"
   },
   {
    "duration": 32,
    "start_time": "2022-09-11T12:03:00.197Z"
   },
   {
    "duration": 28,
    "start_time": "2022-09-11T12:16:48.444Z"
   },
   {
    "duration": 25,
    "start_time": "2022-09-11T12:16:52.044Z"
   },
   {
    "duration": 13,
    "start_time": "2022-09-11T12:51:45.352Z"
   },
   {
    "duration": 26,
    "start_time": "2022-09-11T12:51:54.110Z"
   },
   {
    "duration": 12,
    "start_time": "2022-09-11T12:51:57.618Z"
   },
   {
    "duration": 18,
    "start_time": "2022-09-11T12:52:01.163Z"
   },
   {
    "duration": 11,
    "start_time": "2022-09-11T12:52:15.797Z"
   },
   {
    "duration": 19,
    "start_time": "2022-09-11T12:52:33.724Z"
   },
   {
    "duration": 21,
    "start_time": "2022-09-11T12:56:34.692Z"
   },
   {
    "duration": 555,
    "start_time": "2022-09-12T06:58:52.597Z"
   },
   {
    "duration": 23,
    "start_time": "2022-09-12T06:58:56.395Z"
   },
   {
    "duration": 16,
    "start_time": "2022-09-12T06:58:58.027Z"
   },
   {
    "duration": 10,
    "start_time": "2022-09-12T06:59:00.935Z"
   },
   {
    "duration": 37,
    "start_time": "2022-09-12T06:59:02.340Z"
   },
   {
    "duration": 4,
    "start_time": "2022-09-12T06:59:06.236Z"
   },
   {
    "duration": 9,
    "start_time": "2022-09-12T06:59:07.390Z"
   },
   {
    "duration": 4,
    "start_time": "2022-09-12T06:59:08.959Z"
   },
   {
    "duration": 7,
    "start_time": "2022-09-12T06:59:11.309Z"
   },
   {
    "duration": 5,
    "start_time": "2022-09-12T06:59:12.449Z"
   },
   {
    "duration": 36,
    "start_time": "2022-09-12T06:59:13.900Z"
   },
   {
    "duration": 10,
    "start_time": "2022-09-12T06:59:16.008Z"
   },
   {
    "duration": 4,
    "start_time": "2022-09-12T06:59:17.990Z"
   },
   {
    "duration": 12,
    "start_time": "2022-09-12T06:59:23.929Z"
   },
   {
    "duration": 21,
    "start_time": "2022-09-12T06:59:27.076Z"
   },
   {
    "duration": 20,
    "start_time": "2022-09-12T06:59:28.220Z"
   },
   {
    "duration": 4,
    "start_time": "2022-09-12T06:59:38.559Z"
   },
   {
    "duration": 11,
    "start_time": "2022-09-12T06:59:39.071Z"
   },
   {
    "duration": 6,
    "start_time": "2022-09-12T06:59:40.713Z"
   },
   {
    "duration": 4,
    "start_time": "2022-09-12T06:59:43.658Z"
   },
   {
    "duration": 8,
    "start_time": "2022-09-12T06:59:55.924Z"
   },
   {
    "duration": 611,
    "start_time": "2022-09-12T06:59:59.691Z"
   },
   {
    "duration": 42,
    "start_time": "2022-09-12T07:00:05.547Z"
   },
   {
    "duration": 38,
    "start_time": "2022-09-12T07:00:48.002Z"
   },
   {
    "duration": 51,
    "start_time": "2022-09-12T07:00:51.840Z"
   },
   {
    "duration": 37,
    "start_time": "2022-09-12T07:03:20.950Z"
   },
   {
    "duration": 38,
    "start_time": "2022-09-12T07:03:23.797Z"
   },
   {
    "duration": 37,
    "start_time": "2022-09-12T07:03:29.112Z"
   },
   {
    "duration": 30,
    "start_time": "2022-09-12T07:03:41.229Z"
   },
   {
    "duration": 31,
    "start_time": "2022-09-12T07:03:59.499Z"
   },
   {
    "duration": 79,
    "start_time": "2022-09-12T07:04:05.990Z"
   },
   {
    "duration": 18,
    "start_time": "2022-09-12T07:04:07.871Z"
   },
   {
    "duration": 16,
    "start_time": "2022-09-12T07:04:09.526Z"
   },
   {
    "duration": 12,
    "start_time": "2022-09-12T07:04:16.818Z"
   },
   {
    "duration": 36,
    "start_time": "2022-09-12T07:04:19.238Z"
   },
   {
    "duration": 4,
    "start_time": "2022-09-12T07:04:20.649Z"
   },
   {
    "duration": 9,
    "start_time": "2022-09-12T07:04:21.658Z"
   },
   {
    "duration": 5,
    "start_time": "2022-09-12T07:04:25.012Z"
   },
   {
    "duration": 7,
    "start_time": "2022-09-12T07:04:26.914Z"
   },
   {
    "duration": 5,
    "start_time": "2022-09-12T07:04:28.858Z"
   },
   {
    "duration": 35,
    "start_time": "2022-09-12T07:04:31.102Z"
   },
   {
    "duration": 12,
    "start_time": "2022-09-12T07:04:32.985Z"
   },
   {
    "duration": 4,
    "start_time": "2022-09-12T07:04:35.471Z"
   },
   {
    "duration": 11,
    "start_time": "2022-09-12T07:04:37.976Z"
   },
   {
    "duration": 22,
    "start_time": "2022-09-12T07:04:39.899Z"
   },
   {
    "duration": 20,
    "start_time": "2022-09-12T07:04:41.963Z"
   },
   {
    "duration": 3,
    "start_time": "2022-09-12T07:04:44.383Z"
   },
   {
    "duration": 11,
    "start_time": "2022-09-12T07:04:45.578Z"
   },
   {
    "duration": 6,
    "start_time": "2022-09-12T07:04:47.900Z"
   },
   {
    "duration": 4,
    "start_time": "2022-09-12T07:04:51.604Z"
   },
   {
    "duration": 10,
    "start_time": "2022-09-12T07:04:53.767Z"
   },
   {
    "duration": 44,
    "start_time": "2022-09-12T07:04:58.512Z"
   },
   {
    "duration": 35,
    "start_time": "2022-09-12T07:05:06.810Z"
   },
   {
    "duration": 44,
    "start_time": "2022-09-12T07:05:47.541Z"
   },
   {
    "duration": 44,
    "start_time": "2022-09-12T07:05:49.664Z"
   },
   {
    "duration": 91,
    "start_time": "2022-09-12T07:08:43.227Z"
   },
   {
    "duration": 82,
    "start_time": "2022-09-12T07:08:57.727Z"
   },
   {
    "duration": 96,
    "start_time": "2022-09-12T07:09:48.256Z"
   },
   {
    "duration": 87,
    "start_time": "2022-09-12T07:10:10.262Z"
   },
   {
    "duration": 35,
    "start_time": "2022-09-12T07:10:18.045Z"
   },
   {
    "duration": 90,
    "start_time": "2022-09-12T07:10:27.940Z"
   },
   {
    "duration": 89,
    "start_time": "2022-09-12T07:11:07.508Z"
   },
   {
    "duration": 85,
    "start_time": "2022-09-12T07:12:46.616Z"
   },
   {
    "duration": 101,
    "start_time": "2022-09-12T07:14:03.491Z"
   },
   {
    "duration": 77,
    "start_time": "2022-09-12T07:14:19.226Z"
   },
   {
    "duration": 25,
    "start_time": "2022-09-12T07:14:22.500Z"
   },
   {
    "duration": 15,
    "start_time": "2022-09-12T07:14:25.897Z"
   },
   {
    "duration": 12,
    "start_time": "2022-09-12T07:14:27.941Z"
   },
   {
    "duration": 37,
    "start_time": "2022-09-12T07:14:29.272Z"
   },
   {
    "duration": 4,
    "start_time": "2022-09-12T07:14:30.749Z"
   },
   {
    "duration": 8,
    "start_time": "2022-09-12T07:14:32.337Z"
   },
   {
    "duration": 4,
    "start_time": "2022-09-12T07:14:33.963Z"
   },
   {
    "duration": 7,
    "start_time": "2022-09-12T07:14:35.299Z"
   },
   {
    "duration": 5,
    "start_time": "2022-09-12T07:14:36.244Z"
   },
   {
    "duration": 36,
    "start_time": "2022-09-12T07:14:37.785Z"
   },
   {
    "duration": 11,
    "start_time": "2022-09-12T07:14:39.015Z"
   },
   {
    "duration": 4,
    "start_time": "2022-09-12T07:14:40.632Z"
   },
   {
    "duration": 12,
    "start_time": "2022-09-12T07:14:42.113Z"
   },
   {
    "duration": 24,
    "start_time": "2022-09-12T07:14:43.208Z"
   },
   {
    "duration": 21,
    "start_time": "2022-09-12T07:14:45.979Z"
   },
   {
    "duration": 4,
    "start_time": "2022-09-12T07:14:48.864Z"
   },
   {
    "duration": 11,
    "start_time": "2022-09-12T07:14:50.857Z"
   },
   {
    "duration": 9,
    "start_time": "2022-09-12T07:14:52.082Z"
   },
   {
    "duration": 8,
    "start_time": "2022-09-12T07:14:53.862Z"
   },
   {
    "duration": 9,
    "start_time": "2022-09-12T07:14:55.310Z"
   },
   {
    "duration": 56,
    "start_time": "2022-09-12T07:14:56.927Z"
   },
   {
    "duration": 37,
    "start_time": "2022-09-12T07:15:10.725Z"
   },
   {
    "duration": 43,
    "start_time": "2022-09-12T07:17:08.171Z"
   },
   {
    "duration": 36,
    "start_time": "2022-09-12T07:17:12.881Z"
   },
   {
    "duration": 28,
    "start_time": "2022-09-12T07:22:48.107Z"
   },
   {
    "duration": 81,
    "start_time": "2022-09-12T07:26:36.502Z"
   },
   {
    "duration": 32,
    "start_time": "2022-09-12T07:26:47.388Z"
   },
   {
    "duration": 31,
    "start_time": "2022-09-12T07:26:51.138Z"
   },
   {
    "duration": 35,
    "start_time": "2022-09-12T07:28:10.972Z"
   },
   {
    "duration": 36,
    "start_time": "2022-09-12T07:28:14.943Z"
   },
   {
    "duration": 74,
    "start_time": "2022-09-12T07:28:19.451Z"
   },
   {
    "duration": 17,
    "start_time": "2022-09-12T07:28:22.745Z"
   },
   {
    "duration": 15,
    "start_time": "2022-09-12T07:28:24.554Z"
   },
   {
    "duration": 11,
    "start_time": "2022-09-12T07:28:26.462Z"
   },
   {
    "duration": 36,
    "start_time": "2022-09-12T07:28:27.867Z"
   },
   {
    "duration": 4,
    "start_time": "2022-09-12T07:28:29.257Z"
   },
   {
    "duration": 9,
    "start_time": "2022-09-12T07:28:30.915Z"
   },
   {
    "duration": 4,
    "start_time": "2022-09-12T07:28:32.616Z"
   },
   {
    "duration": 6,
    "start_time": "2022-09-12T07:28:33.757Z"
   },
   {
    "duration": 5,
    "start_time": "2022-09-12T07:28:34.752Z"
   },
   {
    "duration": 37,
    "start_time": "2022-09-12T07:28:36.618Z"
   },
   {
    "duration": 12,
    "start_time": "2022-09-12T07:28:37.920Z"
   },
   {
    "duration": 5,
    "start_time": "2022-09-12T07:28:39.617Z"
   },
   {
    "duration": 12,
    "start_time": "2022-09-12T07:28:40.887Z"
   },
   {
    "duration": 19,
    "start_time": "2022-09-12T07:28:42.551Z"
   },
   {
    "duration": 4,
    "start_time": "2022-09-12T07:28:45.412Z"
   },
   {
    "duration": 11,
    "start_time": "2022-09-12T07:28:47.361Z"
   },
   {
    "duration": 6,
    "start_time": "2022-09-12T07:28:48.597Z"
   },
   {
    "duration": 4,
    "start_time": "2022-09-12T07:28:50.001Z"
   },
   {
    "duration": 9,
    "start_time": "2022-09-12T07:28:50.687Z"
   },
   {
    "duration": 47,
    "start_time": "2022-09-12T07:28:52.432Z"
   },
   {
    "duration": 36,
    "start_time": "2022-09-12T07:28:57.387Z"
   },
   {
    "duration": 40,
    "start_time": "2022-09-12T07:29:02.750Z"
   },
   {
    "duration": 50,
    "start_time": "2022-09-12T07:29:06.777Z"
   },
   {
    "duration": 36,
    "start_time": "2022-09-12T07:29:11.025Z"
   },
   {
    "duration": 46,
    "start_time": "2022-09-12T07:29:21.843Z"
   },
   {
    "duration": 74,
    "start_time": "2022-09-12T07:32:26.924Z"
   },
   {
    "duration": 16,
    "start_time": "2022-09-12T07:32:28.899Z"
   },
   {
    "duration": 16,
    "start_time": "2022-09-12T07:32:30.664Z"
   },
   {
    "duration": 12,
    "start_time": "2022-09-12T07:32:33.139Z"
   },
   {
    "duration": 35,
    "start_time": "2022-09-12T07:32:34.702Z"
   },
   {
    "duration": 3,
    "start_time": "2022-09-12T07:32:36.207Z"
   },
   {
    "duration": 9,
    "start_time": "2022-09-12T07:32:37.576Z"
   },
   {
    "duration": 6,
    "start_time": "2022-09-12T07:32:39.385Z"
   },
   {
    "duration": 6,
    "start_time": "2022-09-12T07:32:40.621Z"
   },
   {
    "duration": 6,
    "start_time": "2022-09-12T07:32:41.875Z"
   },
   {
    "duration": 36,
    "start_time": "2022-09-12T07:32:45.617Z"
   },
   {
    "duration": 13,
    "start_time": "2022-09-12T07:32:46.801Z"
   },
   {
    "duration": 4,
    "start_time": "2022-09-12T07:32:48.604Z"
   },
   {
    "duration": 16,
    "start_time": "2022-09-12T07:37:22.160Z"
   },
   {
    "duration": 73,
    "start_time": "2022-09-12T07:37:42.347Z"
   },
   {
    "duration": 18,
    "start_time": "2022-09-12T07:37:46.678Z"
   },
   {
    "duration": 15,
    "start_time": "2022-09-12T07:37:49.115Z"
   },
   {
    "duration": 11,
    "start_time": "2022-09-12T07:37:51.283Z"
   },
   {
    "duration": 36,
    "start_time": "2022-09-12T07:37:53.107Z"
   },
   {
    "duration": 4,
    "start_time": "2022-09-12T07:37:54.386Z"
   },
   {
    "duration": 8,
    "start_time": "2022-09-12T07:37:55.733Z"
   },
   {
    "duration": 4,
    "start_time": "2022-09-12T07:37:57.557Z"
   },
   {
    "duration": 6,
    "start_time": "2022-09-12T07:37:58.766Z"
   },
   {
    "duration": 5,
    "start_time": "2022-09-12T07:37:59.895Z"
   },
   {
    "duration": 37,
    "start_time": "2022-09-12T07:38:01.668Z"
   },
   {
    "duration": 11,
    "start_time": "2022-09-12T07:38:02.948Z"
   },
   {
    "duration": 5,
    "start_time": "2022-09-12T07:38:04.960Z"
   },
   {
    "duration": 12,
    "start_time": "2022-09-12T07:38:06.320Z"
   },
   {
    "duration": 21,
    "start_time": "2022-09-12T07:38:07.505Z"
   },
   {
    "duration": 19,
    "start_time": "2022-09-12T07:38:11.740Z"
   },
   {
    "duration": 4,
    "start_time": "2022-09-12T07:38:14.047Z"
   },
   {
    "duration": 10,
    "start_time": "2022-09-12T07:38:15.235Z"
   },
   {
    "duration": 5,
    "start_time": "2022-09-12T07:38:16.497Z"
   },
   {
    "duration": 4,
    "start_time": "2022-09-12T07:38:18.678Z"
   },
   {
    "duration": 9,
    "start_time": "2022-09-12T07:38:19.582Z"
   },
   {
    "duration": 49,
    "start_time": "2022-09-12T07:38:25.487Z"
   },
   {
    "duration": 34,
    "start_time": "2022-09-12T07:38:28.664Z"
   },
   {
    "duration": 36,
    "start_time": "2022-09-12T07:38:35.700Z"
   },
   {
    "duration": 35,
    "start_time": "2022-09-12T07:38:38.951Z"
   },
   {
    "duration": 34,
    "start_time": "2022-09-12T07:41:46.656Z"
   },
   {
    "duration": 37,
    "start_time": "2022-09-12T07:42:03.823Z"
   },
   {
    "duration": 57,
    "start_time": "2022-09-12T07:50:59.678Z"
   },
   {
    "duration": 28,
    "start_time": "2022-09-12T07:56:09.854Z"
   },
   {
    "duration": 15,
    "start_time": "2022-09-12T07:56:48.076Z"
   },
   {
    "duration": 23,
    "start_time": "2022-09-12T07:57:30.695Z"
   },
   {
    "duration": 10,
    "start_time": "2022-09-12T08:23:57.655Z"
   },
   {
    "duration": 88,
    "start_time": "2022-09-12T08:24:12.429Z"
   },
   {
    "duration": 17,
    "start_time": "2022-09-12T08:24:17.070Z"
   },
   {
    "duration": 18,
    "start_time": "2022-09-12T08:24:19.000Z"
   },
   {
    "duration": 12,
    "start_time": "2022-09-12T08:24:21.603Z"
   },
   {
    "duration": 43,
    "start_time": "2022-09-12T08:24:23.327Z"
   },
   {
    "duration": 4,
    "start_time": "2022-09-12T08:24:26.289Z"
   },
   {
    "duration": 9,
    "start_time": "2022-09-12T08:24:28.353Z"
   },
   {
    "duration": 5,
    "start_time": "2022-09-12T08:24:30.353Z"
   },
   {
    "duration": 7,
    "start_time": "2022-09-12T08:24:31.616Z"
   },
   {
    "duration": 5,
    "start_time": "2022-09-12T08:24:32.913Z"
   },
   {
    "duration": 35,
    "start_time": "2022-09-12T08:24:34.650Z"
   },
   {
    "duration": 11,
    "start_time": "2022-09-12T08:24:37.083Z"
   },
   {
    "duration": 4,
    "start_time": "2022-09-12T08:24:39.956Z"
   },
   {
    "duration": 16,
    "start_time": "2022-09-12T08:24:41.789Z"
   },
   {
    "duration": 20,
    "start_time": "2022-09-12T08:24:42.872Z"
   },
   {
    "duration": 21,
    "start_time": "2022-09-12T08:24:44.566Z"
   },
   {
    "duration": 4,
    "start_time": "2022-09-12T08:24:46.454Z"
   },
   {
    "duration": 10,
    "start_time": "2022-09-12T08:24:47.279Z"
   },
   {
    "duration": 7,
    "start_time": "2022-09-12T08:24:48.809Z"
   },
   {
    "duration": 4,
    "start_time": "2022-09-12T08:24:50.175Z"
   },
   {
    "duration": 10,
    "start_time": "2022-09-12T08:24:51.004Z"
   },
   {
    "duration": 47,
    "start_time": "2022-09-12T08:24:53.247Z"
   },
   {
    "duration": 37,
    "start_time": "2022-09-12T08:24:58.842Z"
   },
   {
    "duration": 35,
    "start_time": "2022-09-12T08:25:02.985Z"
   },
   {
    "duration": 31,
    "start_time": "2022-09-12T08:25:05.520Z"
   },
   {
    "duration": 52,
    "start_time": "2022-09-12T08:25:08.885Z"
   },
   {
    "duration": 45,
    "start_time": "2022-09-12T08:25:11.576Z"
   },
   {
    "duration": 9,
    "start_time": "2022-09-12T08:25:19.382Z"
   },
   {
    "duration": 40,
    "start_time": "2022-09-12T08:25:42.038Z"
   },
   {
    "duration": 8,
    "start_time": "2022-09-12T08:25:45.746Z"
   },
   {
    "duration": 75,
    "start_time": "2022-09-12T08:25:57.852Z"
   },
   {
    "duration": 17,
    "start_time": "2022-09-12T08:26:00.982Z"
   },
   {
    "duration": 16,
    "start_time": "2022-09-12T08:26:02.678Z"
   },
   {
    "duration": 11,
    "start_time": "2022-09-12T08:26:04.923Z"
   },
   {
    "duration": 36,
    "start_time": "2022-09-12T08:26:06.137Z"
   },
   {
    "duration": 3,
    "start_time": "2022-09-12T08:26:07.408Z"
   },
   {
    "duration": 9,
    "start_time": "2022-09-12T08:26:10.765Z"
   },
   {
    "duration": 5,
    "start_time": "2022-09-12T08:26:12.368Z"
   },
   {
    "duration": 6,
    "start_time": "2022-09-12T08:26:13.548Z"
   },
   {
    "duration": 5,
    "start_time": "2022-09-12T08:26:14.354Z"
   },
   {
    "duration": 35,
    "start_time": "2022-09-12T08:26:16.099Z"
   },
   {
    "duration": 11,
    "start_time": "2022-09-12T08:26:17.242Z"
   },
   {
    "duration": 4,
    "start_time": "2022-09-12T08:26:19.014Z"
   },
   {
    "duration": 12,
    "start_time": "2022-09-12T08:26:20.330Z"
   },
   {
    "duration": 19,
    "start_time": "2022-09-12T08:26:22.986Z"
   },
   {
    "duration": 19,
    "start_time": "2022-09-12T08:26:24.357Z"
   },
   {
    "duration": 4,
    "start_time": "2022-09-12T08:26:26.054Z"
   },
   {
    "duration": 11,
    "start_time": "2022-09-12T08:26:28.640Z"
   },
   {
    "duration": 6,
    "start_time": "2022-09-12T08:26:29.892Z"
   },
   {
    "duration": 4,
    "start_time": "2022-09-12T08:26:31.092Z"
   },
   {
    "duration": 8,
    "start_time": "2022-09-12T08:26:32.605Z"
   },
   {
    "duration": 44,
    "start_time": "2022-09-12T08:26:34.349Z"
   },
   {
    "duration": 27,
    "start_time": "2022-09-12T08:26:37.876Z"
   },
   {
    "duration": 35,
    "start_time": "2022-09-12T08:26:40.140Z"
   },
   {
    "duration": 9,
    "start_time": "2022-09-12T08:26:44.347Z"
   },
   {
    "duration": 9,
    "start_time": "2022-09-12T08:26:56.364Z"
   },
   {
    "duration": 37,
    "start_time": "2022-09-12T08:28:00.668Z"
   },
   {
    "duration": 30,
    "start_time": "2022-09-12T08:28:04.158Z"
   },
   {
    "duration": 39,
    "start_time": "2022-09-12T08:28:07.368Z"
   },
   {
    "duration": 25,
    "start_time": "2022-09-12T08:28:10.003Z"
   },
   {
    "duration": 190,
    "start_time": "2022-09-12T08:35:35.134Z"
   },
   {
    "duration": 197,
    "start_time": "2022-09-12T08:35:45.256Z"
   },
   {
    "duration": 247,
    "start_time": "2022-09-12T08:35:51.520Z"
   },
   {
    "duration": 98,
    "start_time": "2022-09-12T08:36:14.701Z"
   },
   {
    "duration": 171,
    "start_time": "2022-09-12T08:36:34.940Z"
   },
   {
    "duration": 122,
    "start_time": "2022-09-12T08:36:47.857Z"
   },
   {
    "duration": 158,
    "start_time": "2022-09-12T08:37:13.456Z"
   },
   {
    "duration": 7,
    "start_time": "2022-09-12T08:37:32.059Z"
   },
   {
    "duration": 98,
    "start_time": "2022-09-12T08:37:58.100Z"
   },
   {
    "duration": 153,
    "start_time": "2022-09-12T08:38:16.165Z"
   },
   {
    "duration": 29,
    "start_time": "2022-09-12T08:39:01.394Z"
   },
   {
    "duration": 9,
    "start_time": "2022-09-12T09:16:43.813Z"
   },
   {
    "duration": 22,
    "start_time": "2022-09-12T09:17:06.346Z"
   },
   {
    "duration": 36,
    "start_time": "2022-09-12T09:17:44.155Z"
   },
   {
    "duration": 34,
    "start_time": "2022-09-12T09:18:11.658Z"
   },
   {
    "duration": 25,
    "start_time": "2022-09-12T09:18:32.564Z"
   },
   {
    "duration": 69,
    "start_time": "2022-09-12T11:32:41.983Z"
   },
   {
    "duration": 43,
    "start_time": "2022-09-12T13:25:26.983Z"
   },
   {
    "duration": 452,
    "start_time": "2022-09-12T13:25:45.452Z"
   },
   {
    "duration": 19,
    "start_time": "2022-09-12T13:25:48.489Z"
   },
   {
    "duration": 14,
    "start_time": "2022-09-12T13:25:53.854Z"
   },
   {
    "duration": 9,
    "start_time": "2022-09-12T13:25:56.598Z"
   },
   {
    "duration": 30,
    "start_time": "2022-09-12T13:25:58.610Z"
   },
   {
    "duration": 3,
    "start_time": "2022-09-12T13:26:00.754Z"
   },
   {
    "duration": 8,
    "start_time": "2022-09-12T13:26:02.237Z"
   },
   {
    "duration": 4,
    "start_time": "2022-09-12T13:26:05.609Z"
   },
   {
    "duration": 7,
    "start_time": "2022-09-12T13:26:07.641Z"
   },
   {
    "duration": 5,
    "start_time": "2022-09-12T13:26:09.118Z"
   },
   {
    "duration": 31,
    "start_time": "2022-09-12T13:26:11.388Z"
   },
   {
    "duration": 9,
    "start_time": "2022-09-12T13:26:13.077Z"
   },
   {
    "duration": 3,
    "start_time": "2022-09-12T13:26:15.086Z"
   },
   {
    "duration": 11,
    "start_time": "2022-09-12T13:26:17.252Z"
   },
   {
    "duration": 18,
    "start_time": "2022-09-12T13:26:18.827Z"
   },
   {
    "duration": 16,
    "start_time": "2022-09-12T13:26:20.733Z"
   },
   {
    "duration": 3,
    "start_time": "2022-09-12T13:26:22.847Z"
   },
   {
    "duration": 9,
    "start_time": "2022-09-12T13:26:24.914Z"
   },
   {
    "duration": 6,
    "start_time": "2022-09-12T13:26:26.723Z"
   },
   {
    "duration": 3,
    "start_time": "2022-09-12T13:26:29.139Z"
   },
   {
    "duration": 7,
    "start_time": "2022-09-12T13:26:31.695Z"
   },
   {
    "duration": 27,
    "start_time": "2022-09-12T13:26:34.873Z"
   },
   {
    "duration": 7,
    "start_time": "2022-09-12T13:26:57.814Z"
   },
   {
    "duration": 12,
    "start_time": "2022-09-12T13:27:07.236Z"
   },
   {
    "duration": 12,
    "start_time": "2022-09-12T13:27:20.762Z"
   },
   {
    "duration": 73,
    "start_time": "2022-09-12T13:27:50.559Z"
   },
   {
    "duration": 16,
    "start_time": "2022-09-12T13:29:03.724Z"
   },
   {
    "duration": 14,
    "start_time": "2022-09-12T13:38:45.939Z"
   },
   {
    "duration": 42,
    "start_time": "2022-09-12T13:44:41.632Z"
   },
   {
    "duration": 1976,
    "start_time": "2022-09-12T13:45:04.806Z"
   },
   {
    "duration": 1366,
    "start_time": "2022-09-12T13:45:25.958Z"
   },
   {
    "duration": 1678,
    "start_time": "2022-09-12T13:46:03.733Z"
   },
   {
    "duration": 30,
    "start_time": "2022-09-12T13:46:54.236Z"
   },
   {
    "duration": 440,
    "start_time": "2022-09-12T13:49:40.348Z"
   },
   {
    "duration": 35,
    "start_time": "2022-09-12T14:41:35.419Z"
   },
   {
    "duration": 27,
    "start_time": "2022-09-12T14:42:30.472Z"
   },
   {
    "duration": 29,
    "start_time": "2022-09-12T14:42:35.254Z"
   },
   {
    "duration": 21,
    "start_time": "2022-09-12T15:01:11.303Z"
   },
   {
    "duration": 32,
    "start_time": "2022-09-12T16:01:09.019Z"
   }
  ],
  "colab": {
   "name": "dpp_template_part2.ipynb",
   "provenance": []
  },
  "kernelspec": {
   "display_name": "Python 3 (ipykernel)",
   "language": "python",
   "name": "python3"
  },
  "language_info": {
   "codemirror_mode": {
    "name": "ipython",
    "version": 3
   },
   "file_extension": ".py",
   "mimetype": "text/x-python",
   "name": "python",
   "nbconvert_exporter": "python",
   "pygments_lexer": "ipython3",
   "version": "3.9.13"
  },
  "toc": {
   "base_numbering": 1,
   "nav_menu": {},
   "number_sections": true,
   "sideBar": true,
   "skip_h1_title": true,
   "title_cell": "Table of Contents",
   "title_sidebar": "Contents",
   "toc_cell": false,
   "toc_position": {},
   "toc_section_display": true,
   "toc_window_display": false
  }
 },
 "nbformat": 4,
 "nbformat_minor": 5
}
